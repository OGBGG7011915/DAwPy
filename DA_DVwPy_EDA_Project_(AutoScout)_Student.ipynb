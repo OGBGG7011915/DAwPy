{
 "cells": [
  {
   "cell_type": "markdown",
   "metadata": {},
   "source": [
    "<a href=\"https://clarusway.com/\"><img align=\"center\" src=\"https://i.ibb.co/Rpz9L36/clarusway-logo-black.png\" width=\"450\" height=\"200\" alt=\"CLRSWY_LOGO\" title=\"Open and Execute in Google Colaboratory\"></a><br/>\n",
    "\n",
    "<p style=\"background-color:#E51A59; font-family:newtimeroman; color:#FDFEFE; font-size:130%; text-align:center; border-radius:10px 10px;\">WAY TO REINVENT YOURSELF</p>"
   ]
  },
  {
   "cell_type": "markdown",
   "metadata": {
    "id": "Bkw3_pB0s1L-"
   },
   "source": [
    "## <p style=\"background-color:#FDFEFE; font-family:newtimeroman; color:#060108; font-size:200%; text-align:center; border-radius:10px 10px;\">DA & DVwPY</p>\n",
    "\n",
    "## <p style=\"background-color:#FDFEFE; font-family:newtimeroman; color:#060108; font-size:200%; text-align:center; border-radius:10px 10px;\">The Exploratory Data Analysis (EDA) Project</p>\n",
    "\n",
    "<img src=https://i.ibb.co/wJW61Y2/Used-cars.jpg width=\"700\" height=\"200\">\n",
    "\n",
    "## <p style=\"background-color:#FDFEFE; font-family:newtimeroman; color:#060108; font-size:200%; text-align:center; border-radius:10px 10px;\">AutoScout Car Price Prediction EDA</p>\n",
    "\n"
   ]
  },
  {
   "cell_type": "markdown",
   "metadata": {
    "id": "Z_oWczxZs1MA"
   },
   "source": [
    "## Introduction\n",
    "Welcome to \"***AutoScout Exploratory Data Analysis (EDA) Project***\". This is the project of completing ***Data Analysis & Data Visualization*** Courses and a successful hand-over is mandatory for getting certification for both courses. **Auto Scout** data used in this project scraped from the Website of an online car trading company in 2022, and contains many features of 13 different car makes including 594 models. In this project, you will have the opportunity to apply many commonly used algorithms for Data Cleaning and Exploratory Data Analysis by using a variety of Python libraries, such as Numpy, Pandas, Matplotlib, Seaborn, Scipy, and then you will get a clean dataset for your analysis and pretictive modelling in Machine Learning Path. So you will have the chance to use all the skills you have already learned in the Data Analysis and Visualization courses.\n",
    "\n",
    "**``In this context, the project consists of 3 parts in general:``**\n",
    "* **The first part** is related to ``'Data Cleaning'``. It deals with Incorrect Headers, Incorrect Format, Anomalies, and Dropping useless columns.\n",
    "* **The second part** is related to ``'Filling Data'``, in other words 'Imputation'. It deals with Missing Values. Categorical to numeric transformation, Encoding, is done as well.\n",
    "* **The third part** is related to ``'Handling Outliers of Data'`` via Visualization libraries. So, some insights will be extracted.\n",
    "\n",
    "**``SPECIAL NOTE:``**  However, you are ``free to create your own style``. You do ``NOT`` have to stick to the steps above. Nevertheless, we, the DA & DV instructors, recommend you study each part separately to create a source notebook for your further studies. \n",
    "\n",
    "In order to build your Portfolio in terms of the GitHub account, you need to push your solution file up to your own repository.\n",
    "\n",
    "Please after solving the task, commit your notebook to GitHub and submit its link to LMS page where the project is settled down.\n",
    "\n",
    "**BE NOTED:** Please ``DO NOT FORGET`` to click the submit button.\n",
    "\n",
    "### Some Reminders on Exploratory data analysis (EDA)\n",
    "\n",
    "Exploratory data analysis (EDA) is an especially important activity in the routine of a data analyst or scientist. It enables an in depth understanding of the dataset, define or discard hypotheses and create predictive models on a solid basis. It uses data manipulation techniques and several statistical tools to describe and understand the relationship between variables and how these can impact business. By means of EDA, we can obtain meaningful insights that can impact analysis under the following questions (If a checklist is good enough for pilots to use every flight, it’s good enough for data scientists to use with every dataset).\n",
    "1. What question are you trying to solve (or prove wrong)?\n",
    "2. What kind of data do you have?\n",
    "3. What’s missing from the data?\n",
    "4. Where are the outliers?\n",
    "5. How can you add, change or remove features to get more out of your data?\n",
    "\n",
    "**``Exploratory data analysis (EDA)``** is often an **iterative brainstorming process** where you pose a question, review the data, and develop further questions to investigate before beginning model development work. The image below shows how the brainstorming phase is connected with that of understanding the variables and how this in turn is connected again with the brainstorming phase.<br>\n",
    "\n",
    "<img src=https://i.ibb.co/k0MC950/EDA-Process.png width=\"300\" height=\"100\">\n",
    "\n",
    "[Image Credit: Andrew D.](https://towardsdatascience.com/exploratory-data-analysis-in-python-a-step-by-step-process-d0dfa6bf94ee)\n",
    "\n"
   ]
  },
  {
   "cell_type": "markdown",
   "metadata": {
    "id": "vvgJ5KWTs1MB"
   },
   "source": [
    "# PART- 1 `( Data Cleaning )`"
   ]
  },
  {
   "cell_type": "code",
   "execution_count": 1,
   "metadata": {
    "id": "Y13_gId7s1MC"
   },
   "outputs": [],
   "source": [
    "import numpy as np\n",
    "import pandas as pd\n",
    "import matplotlib.pyplot as plt\n",
    "import seaborn as sns\n",
    "import os\n",
    "\n",
    "import warnings\n",
    "warnings.filterwarnings(\"ignore\")\n",
    "\n",
    "pd.set_option('display.max_columns', None) # Set it to None to display all columns in the dataframe\n"
   ]
  },
  {
   "cell_type": "code",
   "execution_count": 2,
   "metadata": {},
   "outputs": [
    {
     "data": {
      "text/html": [
       "<div>\n",
       "<style scoped>\n",
       "    .dataframe tbody tr th:only-of-type {\n",
       "        vertical-align: middle;\n",
       "    }\n",
       "\n",
       "    .dataframe tbody tr th {\n",
       "        vertical-align: top;\n",
       "    }\n",
       "\n",
       "    .dataframe thead th {\n",
       "        text-align: right;\n",
       "    }\n",
       "</style>\n",
       "<table border=\"1\" class=\"dataframe\">\n",
       "  <thead>\n",
       "    <tr style=\"text-align: right;\">\n",
       "      <th></th>\n",
       "      <th>make_model</th>\n",
       "      <th>short_description</th>\n",
       "      <th>make</th>\n",
       "      <th>model</th>\n",
       "      <th>location</th>\n",
       "      <th>price</th>\n",
       "      <th>Body type</th>\n",
       "      <th>Type</th>\n",
       "      <th>Doors</th>\n",
       "      <th>Country version</th>\n",
       "      <th>Offer number</th>\n",
       "      <th>Warranty</th>\n",
       "      <th>Mileage</th>\n",
       "      <th>First registration</th>\n",
       "      <th>Gearbox</th>\n",
       "      <th>Fuel type</th>\n",
       "      <th>Colour</th>\n",
       "      <th>Paint</th>\n",
       "      <th>desc</th>\n",
       "      <th>seller</th>\n",
       "      <th>Seats</th>\n",
       "      <th>Power</th>\n",
       "      <th>Engine size</th>\n",
       "      <th>Gears</th>\n",
       "      <th>CO₂-emissions</th>\n",
       "      <th>Manufacturer colour</th>\n",
       "      <th>Drivetrain</th>\n",
       "      <th>Cylinders</th>\n",
       "      <th>Fuel consumption</th>\n",
       "      <th>\\nComfort &amp; Convenience\\n</th>\n",
       "      <th>\\nEntertainment &amp; Media\\n</th>\n",
       "      <th>\\nSafety &amp; Security\\n</th>\n",
       "      <th>\\nExtras\\n</th>\n",
       "      <th>Empty weight</th>\n",
       "      <th>Model code</th>\n",
       "      <th>General inspection</th>\n",
       "      <th>Last service</th>\n",
       "      <th>Full service history</th>\n",
       "      <th>Non-smoker vehicle</th>\n",
       "      <th>Emission class</th>\n",
       "      <th>Emissions sticker</th>\n",
       "      <th>Upholstery colour</th>\n",
       "      <th>Upholstery</th>\n",
       "      <th>Production date</th>\n",
       "      <th>Previous owner</th>\n",
       "      <th>Other fuel types</th>\n",
       "      <th>Power consumption</th>\n",
       "      <th>Energy efficiency class</th>\n",
       "      <th>CO₂-efficiency</th>\n",
       "      <th>Fuel consumption (WLTP)</th>\n",
       "      <th>CO₂-emissions (WLTP)</th>\n",
       "      <th>Available from</th>\n",
       "      <th>Taxi or rental car</th>\n",
       "      <th>Availability</th>\n",
       "      <th>Last timing belt change</th>\n",
       "      <th>Electric Range (WLTP)</th>\n",
       "      <th>Power consumption (WLTP)</th>\n",
       "      <th>Battery Ownership</th>\n",
       "    </tr>\n",
       "  </thead>\n",
       "  <tbody>\n",
       "    <tr>\n",
       "      <th>0</th>\n",
       "      <td>Mercedes-Benz A 160</td>\n",
       "      <td>CDi</td>\n",
       "      <td>\\nMercedes-Benz\\n</td>\n",
       "      <td>[\\n, A 160 ,\\n]</td>\n",
       "      <td>P.I. EL PALMAR C/FORJA 6,  11500 PUERTO DE SAN...</td>\n",
       "      <td>€ 16,950.-</td>\n",
       "      <td>[\\n, Compact, \\n]</td>\n",
       "      <td>[\\n, Used, \\n]</td>\n",
       "      <td>[\\n, 5, \\n]</td>\n",
       "      <td>[\\n, Spain, \\n]</td>\n",
       "      <td>[\\n, 7468157, \\n]</td>\n",
       "      <td>[\\n, 24 months, \\n]</td>\n",
       "      <td>120,200 km</td>\n",
       "      <td>06/2016</td>\n",
       "      <td>[\\nManual\\n]</td>\n",
       "      <td>Diesel</td>\n",
       "      <td>Black</td>\n",
       "      <td>Metallic</td>\n",
       "      <td>[ , Precio al contado: 16950 euros,  ,  , Vehí...</td>\n",
       "      <td>Dealer</td>\n",
       "      <td>NaN</td>\n",
       "      <td>NaN</td>\n",
       "      <td>NaN</td>\n",
       "      <td>NaN</td>\n",
       "      <td>NaN</td>\n",
       "      <td>NaN</td>\n",
       "      <td>NaN</td>\n",
       "      <td>NaN</td>\n",
       "      <td>NaN</td>\n",
       "      <td>NaN</td>\n",
       "      <td>NaN</td>\n",
       "      <td>NaN</td>\n",
       "      <td>NaN</td>\n",
       "      <td>NaN</td>\n",
       "      <td>NaN</td>\n",
       "      <td>NaN</td>\n",
       "      <td>NaN</td>\n",
       "      <td>NaN</td>\n",
       "      <td>NaN</td>\n",
       "      <td>NaN</td>\n",
       "      <td>NaN</td>\n",
       "      <td>NaN</td>\n",
       "      <td>NaN</td>\n",
       "      <td>NaN</td>\n",
       "      <td>NaN</td>\n",
       "      <td>NaN</td>\n",
       "      <td>NaN</td>\n",
       "      <td>NaN</td>\n",
       "      <td>NaN</td>\n",
       "      <td>NaN</td>\n",
       "      <td>NaN</td>\n",
       "      <td>NaN</td>\n",
       "      <td>NaN</td>\n",
       "      <td>NaN</td>\n",
       "      <td>NaN</td>\n",
       "      <td>NaN</td>\n",
       "      <td>NaN</td>\n",
       "      <td>NaN</td>\n",
       "    </tr>\n",
       "    <tr>\n",
       "      <th>1</th>\n",
       "      <td>Mercedes-Benz EQE 350</td>\n",
       "      <td>350+</td>\n",
       "      <td>\\nMercedes-Benz\\n</td>\n",
       "      <td>[\\n, EQE 350 ,\\n]</td>\n",
       "      <td>APARTADO DE CORREOS 1032,  26140 LOGROÑO, ES</td>\n",
       "      <td>€ 80,900.-</td>\n",
       "      <td>[\\n, Compact, \\n]</td>\n",
       "      <td>[\\n, Pre-registered, \\n]</td>\n",
       "      <td>[\\n, 4, \\n]</td>\n",
       "      <td>[\\n, Spain, \\n]</td>\n",
       "      <td>[\\n, 7054863, \\n]</td>\n",
       "      <td>[\\n, 24 months, \\n]</td>\n",
       "      <td>5,000 km</td>\n",
       "      <td>06/2022</td>\n",
       "      <td>[\\nAutomatic\\n]</td>\n",
       "      <td>Electric</td>\n",
       "      <td>NaN</td>\n",
       "      <td>NaN</td>\n",
       "      <td>[ , Precio al contado: 88900 euros,  , AUTO OJ...</td>\n",
       "      <td>Dealer</td>\n",
       "      <td>[\\n, 5, \\n]</td>\n",
       "      <td>[\\n215 kW (292 hp)\\n]</td>\n",
       "      <td>[\\n1 cc\\n]</td>\n",
       "      <td>[\\n9\\n]</td>\n",
       "      <td>0 g/km (comb.)</td>\n",
       "      <td>Negro Obsidiana</td>\n",
       "      <td>NaN</td>\n",
       "      <td>NaN</td>\n",
       "      <td>NaN</td>\n",
       "      <td>NaN</td>\n",
       "      <td>NaN</td>\n",
       "      <td>NaN</td>\n",
       "      <td>NaN</td>\n",
       "      <td>NaN</td>\n",
       "      <td>NaN</td>\n",
       "      <td>NaN</td>\n",
       "      <td>NaN</td>\n",
       "      <td>NaN</td>\n",
       "      <td>NaN</td>\n",
       "      <td>NaN</td>\n",
       "      <td>NaN</td>\n",
       "      <td>NaN</td>\n",
       "      <td>NaN</td>\n",
       "      <td>NaN</td>\n",
       "      <td>NaN</td>\n",
       "      <td>NaN</td>\n",
       "      <td>NaN</td>\n",
       "      <td>NaN</td>\n",
       "      <td>NaN</td>\n",
       "      <td>NaN</td>\n",
       "      <td>NaN</td>\n",
       "      <td>NaN</td>\n",
       "      <td>NaN</td>\n",
       "      <td>NaN</td>\n",
       "      <td>NaN</td>\n",
       "      <td>NaN</td>\n",
       "      <td>NaN</td>\n",
       "      <td>NaN</td>\n",
       "    </tr>\n",
       "    <tr>\n",
       "      <th>2</th>\n",
       "      <td>Mercedes-Benz A 45 AMG</td>\n",
       "      <td>S 4Matic+ 8G-DCT</td>\n",
       "      <td>\\nMercedes-Benz\\n</td>\n",
       "      <td>[\\n, A 45 AMG ,\\n]</td>\n",
       "      <td>PORT. TARRACO, MOLL DE LLEVANT, Nº 5, LOC. 6-8...</td>\n",
       "      <td>€ 69,900.-</td>\n",
       "      <td>[\\n, Compact, \\n]</td>\n",
       "      <td>[\\n, Used, \\n]</td>\n",
       "      <td>[\\n, 5, \\n]</td>\n",
       "      <td>[\\n, Spain, \\n]</td>\n",
       "      <td>[\\n, 7410454, \\n]</td>\n",
       "      <td>[\\n, 12 months, \\n]</td>\n",
       "      <td>18,900 km</td>\n",
       "      <td>07/2020</td>\n",
       "      <td>[\\nAutomatic\\n]</td>\n",
       "      <td>Gasoline</td>\n",
       "      <td>Grey</td>\n",
       "      <td>NaN</td>\n",
       "      <td>[Gris MANUFAKTUR mountaingrau magno,  , Linea/...</td>\n",
       "      <td>Dealer</td>\n",
       "      <td>[\\n, 5, \\n]</td>\n",
       "      <td>[\\n310 kW (421 hp)\\n]</td>\n",
       "      <td>[\\n1,991 cc\\n]</td>\n",
       "      <td>[\\n8\\n]</td>\n",
       "      <td>NaN</td>\n",
       "      <td>Mountaingrau magno</td>\n",
       "      <td>[\\n, 4WD, \\n]</td>\n",
       "      <td>[\\n4\\n]</td>\n",
       "      <td>[[8.4 l/100 km (comb.)], [10.9 l/100 km (city)...</td>\n",
       "      <td>NaN</td>\n",
       "      <td>NaN</td>\n",
       "      <td>NaN</td>\n",
       "      <td>NaN</td>\n",
       "      <td>NaN</td>\n",
       "      <td>NaN</td>\n",
       "      <td>NaN</td>\n",
       "      <td>NaN</td>\n",
       "      <td>NaN</td>\n",
       "      <td>NaN</td>\n",
       "      <td>NaN</td>\n",
       "      <td>NaN</td>\n",
       "      <td>NaN</td>\n",
       "      <td>NaN</td>\n",
       "      <td>NaN</td>\n",
       "      <td>NaN</td>\n",
       "      <td>NaN</td>\n",
       "      <td>NaN</td>\n",
       "      <td>NaN</td>\n",
       "      <td>NaN</td>\n",
       "      <td>NaN</td>\n",
       "      <td>NaN</td>\n",
       "      <td>NaN</td>\n",
       "      <td>NaN</td>\n",
       "      <td>NaN</td>\n",
       "      <td>NaN</td>\n",
       "      <td>NaN</td>\n",
       "      <td>NaN</td>\n",
       "      <td>NaN</td>\n",
       "    </tr>\n",
       "    <tr>\n",
       "      <th>3</th>\n",
       "      <td>Mercedes-Benz A 35 AMG</td>\n",
       "      <td>4Matic+ 7G-DCT</td>\n",
       "      <td>\\nMercedes-Benz\\n</td>\n",
       "      <td>[\\n, A 35 AMG ,\\n]</td>\n",
       "      <td>Carrer de Provença, 31 Local,  8029 BARCELONA, ES</td>\n",
       "      <td>€ 46,990.-</td>\n",
       "      <td>[\\n, Compact, \\n]</td>\n",
       "      <td>[\\n, Used, \\n]</td>\n",
       "      <td>[\\n, 5, \\n]</td>\n",
       "      <td>[\\n, Spain, \\n]</td>\n",
       "      <td>[\\n, 7464503, \\n]</td>\n",
       "      <td>[\\n, 12 months, \\n]</td>\n",
       "      <td>18,995 km</td>\n",
       "      <td>01/2020</td>\n",
       "      <td>[\\nAutomatic\\n]</td>\n",
       "      <td>Gasoline</td>\n",
       "      <td>Yellow</td>\n",
       "      <td>NaN</td>\n",
       "      <td>[ , Precio al contado: 48990 euros,  ,  , BONI...</td>\n",
       "      <td>Dealer</td>\n",
       "      <td>[\\n, 5, \\n]</td>\n",
       "      <td>[\\n225 kW (306 hp)\\n]</td>\n",
       "      <td>[\\n1,991 cc\\n]</td>\n",
       "      <td>[\\n7\\n]</td>\n",
       "      <td>NaN</td>\n",
       "      <td>Amarillo Sol</td>\n",
       "      <td>[\\n, 4WD, \\n]</td>\n",
       "      <td>[\\n4\\n]</td>\n",
       "      <td>[[7.3 l/100 km (comb.)], [9.3 l/100 km (city)]...</td>\n",
       "      <td>[Air conditioning, Automatic climate control, ...</td>\n",
       "      <td>[USB]</td>\n",
       "      <td>[ABS, Central door lock, Driver-side airbag, E...</td>\n",
       "      <td>[Sport seats]</td>\n",
       "      <td>NaN</td>\n",
       "      <td>NaN</td>\n",
       "      <td>NaN</td>\n",
       "      <td>NaN</td>\n",
       "      <td>NaN</td>\n",
       "      <td>NaN</td>\n",
       "      <td>NaN</td>\n",
       "      <td>NaN</td>\n",
       "      <td>NaN</td>\n",
       "      <td>NaN</td>\n",
       "      <td>NaN</td>\n",
       "      <td>NaN</td>\n",
       "      <td>NaN</td>\n",
       "      <td>NaN</td>\n",
       "      <td>NaN</td>\n",
       "      <td>NaN</td>\n",
       "      <td>NaN</td>\n",
       "      <td>NaN</td>\n",
       "      <td>NaN</td>\n",
       "      <td>NaN</td>\n",
       "      <td>NaN</td>\n",
       "      <td>NaN</td>\n",
       "      <td>NaN</td>\n",
       "      <td>NaN</td>\n",
       "      <td>NaN</td>\n",
       "    </tr>\n",
       "    <tr>\n",
       "      <th>4</th>\n",
       "      <td>Mercedes-Benz A 45 AMG</td>\n",
       "      <td>200CDI BE Line 4M 7G-DCT</td>\n",
       "      <td>\\nMercedes-Benz\\n</td>\n",
       "      <td>[\\n, A 45 AMG ,\\n]</td>\n",
       "      <td>CARRIL ARAGONES 4,  30007 CASILLAS, ES</td>\n",
       "      <td>€ 16,800.-</td>\n",
       "      <td>[\\n, Compact, \\n]</td>\n",
       "      <td>[\\n, Used, \\n]</td>\n",
       "      <td>[\\n, 5, \\n]</td>\n",
       "      <td>[\\n, Spain, \\n]</td>\n",
       "      <td>[\\n, 7127931, \\n]</td>\n",
       "      <td>[\\n, 12 months, \\n]</td>\n",
       "      <td>197,000 km</td>\n",
       "      <td>09/2015</td>\n",
       "      <td>[\\nAutomatic\\n]</td>\n",
       "      <td>Diesel</td>\n",
       "      <td>White</td>\n",
       "      <td>Metallic</td>\n",
       "      <td>[ , Precio al contado: 17400 euros,  , Vehícul...</td>\n",
       "      <td>Dealer</td>\n",
       "      <td>[\\n, 5, \\n]</td>\n",
       "      <td>[\\n100 kW (136 hp)\\n]</td>\n",
       "      <td>[\\n2,143 cc\\n]</td>\n",
       "      <td>[\\n7\\n]</td>\n",
       "      <td>NaN</td>\n",
       "      <td>NaN</td>\n",
       "      <td>[\\n, 4WD, \\n]</td>\n",
       "      <td>[\\n4\\n]</td>\n",
       "      <td>[[4.9 l/100 km (comb.)], [5.7 l/100 km (city)]...</td>\n",
       "      <td>[Air conditioning, Electrical side mirrors, Mu...</td>\n",
       "      <td>[Bluetooth, CD player, MP3, USB]</td>\n",
       "      <td>[ABS, Central door lock, Driver-side airbag, E...</td>\n",
       "      <td>NaN</td>\n",
       "      <td>[\\n1,545 kg\\n]</td>\n",
       "      <td>NaN</td>\n",
       "      <td>NaN</td>\n",
       "      <td>NaN</td>\n",
       "      <td>NaN</td>\n",
       "      <td>NaN</td>\n",
       "      <td>NaN</td>\n",
       "      <td>NaN</td>\n",
       "      <td>NaN</td>\n",
       "      <td>NaN</td>\n",
       "      <td>NaN</td>\n",
       "      <td>NaN</td>\n",
       "      <td>NaN</td>\n",
       "      <td>NaN</td>\n",
       "      <td>NaN</td>\n",
       "      <td>NaN</td>\n",
       "      <td>NaN</td>\n",
       "      <td>NaN</td>\n",
       "      <td>NaN</td>\n",
       "      <td>NaN</td>\n",
       "      <td>NaN</td>\n",
       "      <td>NaN</td>\n",
       "      <td>NaN</td>\n",
       "      <td>NaN</td>\n",
       "      <td>NaN</td>\n",
       "    </tr>\n",
       "    <tr>\n",
       "      <th>...</th>\n",
       "      <td>...</td>\n",
       "      <td>...</td>\n",
       "      <td>...</td>\n",
       "      <td>...</td>\n",
       "      <td>...</td>\n",
       "      <td>...</td>\n",
       "      <td>...</td>\n",
       "      <td>...</td>\n",
       "      <td>...</td>\n",
       "      <td>...</td>\n",
       "      <td>...</td>\n",
       "      <td>...</td>\n",
       "      <td>...</td>\n",
       "      <td>...</td>\n",
       "      <td>...</td>\n",
       "      <td>...</td>\n",
       "      <td>...</td>\n",
       "      <td>...</td>\n",
       "      <td>...</td>\n",
       "      <td>...</td>\n",
       "      <td>...</td>\n",
       "      <td>...</td>\n",
       "      <td>...</td>\n",
       "      <td>...</td>\n",
       "      <td>...</td>\n",
       "      <td>...</td>\n",
       "      <td>...</td>\n",
       "      <td>...</td>\n",
       "      <td>...</td>\n",
       "      <td>...</td>\n",
       "      <td>...</td>\n",
       "      <td>...</td>\n",
       "      <td>...</td>\n",
       "      <td>...</td>\n",
       "      <td>...</td>\n",
       "      <td>...</td>\n",
       "      <td>...</td>\n",
       "      <td>...</td>\n",
       "      <td>...</td>\n",
       "      <td>...</td>\n",
       "      <td>...</td>\n",
       "      <td>...</td>\n",
       "      <td>...</td>\n",
       "      <td>...</td>\n",
       "      <td>...</td>\n",
       "      <td>...</td>\n",
       "      <td>...</td>\n",
       "      <td>...</td>\n",
       "      <td>...</td>\n",
       "      <td>...</td>\n",
       "      <td>...</td>\n",
       "      <td>...</td>\n",
       "      <td>...</td>\n",
       "      <td>...</td>\n",
       "      <td>...</td>\n",
       "      <td>...</td>\n",
       "      <td>...</td>\n",
       "      <td>...</td>\n",
       "    </tr>\n",
       "    <tr>\n",
       "      <th>29475</th>\n",
       "      <td>Volvo S40</td>\n",
       "      <td>2.4i Momentum/ Airco/ NAP/ APK/ Elek. Ramen</td>\n",
       "      <td>\\nVolvo\\n</td>\n",
       "      <td>[\\n, S40 ,\\n]</td>\n",
       "      <td>Stobbeweg 6,  2461 EX TER AAR, NL</td>\n",
       "      <td>€ 5,499.-</td>\n",
       "      <td>[\\n, Sedan, \\n]</td>\n",
       "      <td>[\\n, Used, \\n]</td>\n",
       "      <td>[\\n, 4, \\n]</td>\n",
       "      <td>NaN</td>\n",
       "      <td>[\\n, 09-PF-XS, \\n]</td>\n",
       "      <td>NaN</td>\n",
       "      <td>145,000 km</td>\n",
       "      <td>06/2004</td>\n",
       "      <td>[\\nAutomatic\\n]</td>\n",
       "      <td>Gasoline</td>\n",
       "      <td>Grey</td>\n",
       "      <td>NaN</td>\n",
       "      <td>[Een goed rijdende auto met APK + NAP + Elektr...</td>\n",
       "      <td>Dealer</td>\n",
       "      <td>[\\n, 5, \\n]</td>\n",
       "      <td>[\\n125 kW (170 hp)\\n]</td>\n",
       "      <td>[\\n2,435 cc\\n]</td>\n",
       "      <td>[\\n5\\n]</td>\n",
       "      <td>217 g/km (comb.)</td>\n",
       "      <td>Grijs</td>\n",
       "      <td>[\\n, Front, \\n]</td>\n",
       "      <td>[\\n5\\n]</td>\n",
       "      <td>[[9.1 l/100 km (comb.)], [13.2 l/100 km (city)...</td>\n",
       "      <td>[Air conditioning, Armrest, Automatic climate ...</td>\n",
       "      <td>[On-board computer, Radio]</td>\n",
       "      <td>[ABS, Central door lock, Central door lock wit...</td>\n",
       "      <td>[Alloy wheels (16\"), Trailer hitch]</td>\n",
       "      <td>[\\n1,357 kg\\n]</td>\n",
       "      <td>NaN</td>\n",
       "      <td>08/2023</td>\n",
       "      <td>NaN</td>\n",
       "      <td>Yes</td>\n",
       "      <td>NaN</td>\n",
       "      <td>Euro 4</td>\n",
       "      <td>NaN</td>\n",
       "      <td>NaN</td>\n",
       "      <td>NaN</td>\n",
       "      <td>NaN</td>\n",
       "      <td>NaN</td>\n",
       "      <td>NaN</td>\n",
       "      <td>NaN</td>\n",
       "      <td>NaN</td>\n",
       "      <td>NaN</td>\n",
       "      <td>NaN</td>\n",
       "      <td>NaN</td>\n",
       "      <td>NaN</td>\n",
       "      <td>NaN</td>\n",
       "      <td>NaN</td>\n",
       "      <td>NaN</td>\n",
       "      <td>NaN</td>\n",
       "      <td>NaN</td>\n",
       "      <td>NaN</td>\n",
       "    </tr>\n",
       "    <tr>\n",
       "      <th>29476</th>\n",
       "      <td>Volvo C30</td>\n",
       "      <td>1.6 D DRIVe Start/Stop R-design</td>\n",
       "      <td>\\nVolvo\\n</td>\n",
       "      <td>[\\n, C30 ,\\n]</td>\n",
       "      <td>Sur rendez-vous,  5060 Sambreville, BE</td>\n",
       "      <td>€ 7,300.-</td>\n",
       "      <td>[\\n, Sedan, \\n]</td>\n",
       "      <td>[\\n, Used, \\n]</td>\n",
       "      <td>[\\n, 3, \\n]</td>\n",
       "      <td>[\\n, Belgium, \\n]</td>\n",
       "      <td>NaN</td>\n",
       "      <td>[\\n, 13 months, \\n]</td>\n",
       "      <td>96,000 km</td>\n",
       "      <td>04/2011</td>\n",
       "      <td>[\\nManual\\n]</td>\n",
       "      <td>Diesel (Particle filter)</td>\n",
       "      <td>Grey</td>\n",
       "      <td>Metallic</td>\n",
       "      <td>[*** VOLVO C30 2011 TRES PROPRE EN PARFAIT ETA...</td>\n",
       "      <td>Dealer</td>\n",
       "      <td>[\\n, 4, \\n]</td>\n",
       "      <td>[\\n84 kW (114 hp)\\n]</td>\n",
       "      <td>[\\n1,560 cc\\n]</td>\n",
       "      <td>[\\n6\\n]</td>\n",
       "      <td>99 g/km (comb.)</td>\n",
       "      <td>NaN</td>\n",
       "      <td>[\\n, Front, \\n]</td>\n",
       "      <td>[\\n4\\n]</td>\n",
       "      <td>[[3.8 l/100 km (comb.)], [4.3 l/100 km (city)]...</td>\n",
       "      <td>[Air conditioning, Armrest, Automatic climate ...</td>\n",
       "      <td>[Bluetooth, CD player, Hands-free equipment, M...</td>\n",
       "      <td>[ABS, Alarm system, Central door lock with rem...</td>\n",
       "      <td>[Alloy wheels, Automatically dimming interior ...</td>\n",
       "      <td>[\\n1,356 kg\\n]</td>\n",
       "      <td>NaN</td>\n",
       "      <td>NaN</td>\n",
       "      <td>NaN</td>\n",
       "      <td>Yes</td>\n",
       "      <td>NaN</td>\n",
       "      <td>Euro 5</td>\n",
       "      <td>NaN</td>\n",
       "      <td>Black</td>\n",
       "      <td>NaN</td>\n",
       "      <td>NaN</td>\n",
       "      <td>[[96,000 km, 04/2011], 1]</td>\n",
       "      <td>NaN</td>\n",
       "      <td>NaN</td>\n",
       "      <td>NaN</td>\n",
       "      <td>NaN</td>\n",
       "      <td>NaN</td>\n",
       "      <td>NaN</td>\n",
       "      <td>NaN</td>\n",
       "      <td>NaN</td>\n",
       "      <td>NaN</td>\n",
       "      <td>NaN</td>\n",
       "      <td>NaN</td>\n",
       "      <td>NaN</td>\n",
       "      <td>NaN</td>\n",
       "    </tr>\n",
       "    <tr>\n",
       "      <th>29477</th>\n",
       "      <td>Volvo S90</td>\n",
       "      <td>T5 AUT(8) MOMENTUM BUSINESS SCHUIFDAK 360GR CA...</td>\n",
       "      <td>\\nVolvo\\n</td>\n",
       "      <td>[\\n, S90 ,\\n]</td>\n",
       "      <td>Bergambachterstraat 5,  2871 JB SCHOONHOVEN, NL</td>\n",
       "      <td>€ 29,900.-</td>\n",
       "      <td>[\\n, Sedan, \\n]</td>\n",
       "      <td>[\\n, Used, \\n]</td>\n",
       "      <td>[\\n, 4, \\n]</td>\n",
       "      <td>NaN</td>\n",
       "      <td>[\\n, 2791, \\n]</td>\n",
       "      <td>[\\n, 12 months, \\n]</td>\n",
       "      <td>94,343 km</td>\n",
       "      <td>11/2017</td>\n",
       "      <td>[\\nAutomatic\\n]</td>\n",
       "      <td>Gasoline</td>\n",
       "      <td>Blue</td>\n",
       "      <td>Metallic</td>\n",
       "      <td>[Bekijk deze auto in unieke 360 graden present...</td>\n",
       "      <td>Dealer</td>\n",
       "      <td>[\\n, 5, \\n]</td>\n",
       "      <td>[\\n187 kW (254 hp)\\n]</td>\n",
       "      <td>[\\n1,969 cc\\n]</td>\n",
       "      <td>[\\n8\\n]</td>\n",
       "      <td>149 g/km (comb.)</td>\n",
       "      <td>Denim Blue metallic (blauw met</td>\n",
       "      <td>NaN</td>\n",
       "      <td>[\\n4\\n]</td>\n",
       "      <td>[[6.5 l/100 km (comb.)], [8.6 l/100 km (city)]...</td>\n",
       "      <td>[Air conditioning, Armrest, Automatic climate ...</td>\n",
       "      <td>[Android Auto, Apple CarPlay, Bluetooth, Hands...</td>\n",
       "      <td>[Adaptive Cruise Control, Adaptive headlights,...</td>\n",
       "      <td>[Alloy wheels (18\"), Automatically dimming int...</td>\n",
       "      <td>[\\n1,617 kg\\n]</td>\n",
       "      <td>NaN</td>\n",
       "      <td>New</td>\n",
       "      <td>NaN</td>\n",
       "      <td>Yes</td>\n",
       "      <td>NaN</td>\n",
       "      <td>Euro 6</td>\n",
       "      <td>NaN</td>\n",
       "      <td>Other</td>\n",
       "      <td>Full leather</td>\n",
       "      <td>NaN</td>\n",
       "      <td>NaN</td>\n",
       "      <td>NaN</td>\n",
       "      <td>NaN</td>\n",
       "      <td>NaN</td>\n",
       "      <td>NaN</td>\n",
       "      <td>NaN</td>\n",
       "      <td>NaN</td>\n",
       "      <td>NaN</td>\n",
       "      <td>NaN</td>\n",
       "      <td>NaN</td>\n",
       "      <td>NaN</td>\n",
       "      <td>NaN</td>\n",
       "      <td>NaN</td>\n",
       "      <td>NaN</td>\n",
       "    </tr>\n",
       "    <tr>\n",
       "      <th>29478</th>\n",
       "      <td>Volvo S80</td>\n",
       "      <td>2.9 Executive G. NETTE AUTO! LEER! NAVI! CRUIS...</td>\n",
       "      <td>\\nVolvo\\n</td>\n",
       "      <td>[\\n, S80 ,\\n]</td>\n",
       "      <td>Lage Ham 106,  5102 AE DONGEN, NL</td>\n",
       "      <td>€ 4,440.-</td>\n",
       "      <td>[\\n, Sedan, \\n]</td>\n",
       "      <td>[\\n, Used, \\n]</td>\n",
       "      <td>[\\n, 4, \\n]</td>\n",
       "      <td>NaN</td>\n",
       "      <td>[\\n, 43-JR-LR, \\n]</td>\n",
       "      <td>NaN</td>\n",
       "      <td>230,047 km</td>\n",
       "      <td>07/2002</td>\n",
       "      <td>[\\nAutomatic\\n]</td>\n",
       "      <td>Super 95</td>\n",
       "      <td>Grey</td>\n",
       "      <td>NaN</td>\n",
       "      <td>[YOUNGTIMER !, Bedrijfsinformatie, NEEM VOOR U...</td>\n",
       "      <td>Dealer</td>\n",
       "      <td>[\\n, 5, \\n]</td>\n",
       "      <td>[\\n147 kW (200 hp)\\n]</td>\n",
       "      <td>[\\n2,922 cc\\n]</td>\n",
       "      <td>NaN</td>\n",
       "      <td>251 g/km (comb.)</td>\n",
       "      <td>Grijs</td>\n",
       "      <td>[\\n, Front, \\n]</td>\n",
       "      <td>[\\n6\\n]</td>\n",
       "      <td>[[10.4 l/100 km (comb.)], [15.3 l/100 km (city...</td>\n",
       "      <td>[Air conditioning, Armrest, Cruise control, El...</td>\n",
       "      <td>[On-board computer]</td>\n",
       "      <td>[ABS, Alarm system, Central door lock, Central...</td>\n",
       "      <td>[Alloy wheels, Automatically dimming interior ...</td>\n",
       "      <td>[\\n1,573 kg\\n]</td>\n",
       "      <td>NaN</td>\n",
       "      <td>05/2023</td>\n",
       "      <td>NaN</td>\n",
       "      <td>NaN</td>\n",
       "      <td>NaN</td>\n",
       "      <td>Euro 3</td>\n",
       "      <td>NaN</td>\n",
       "      <td>Beige</td>\n",
       "      <td>Full leather</td>\n",
       "      <td>NaN</td>\n",
       "      <td>[[230,047 km, 07/2002], 5]</td>\n",
       "      <td>NaN</td>\n",
       "      <td>NaN</td>\n",
       "      <td>NaN</td>\n",
       "      <td>NaN</td>\n",
       "      <td>NaN</td>\n",
       "      <td>NaN</td>\n",
       "      <td>NaN</td>\n",
       "      <td>NaN</td>\n",
       "      <td>NaN</td>\n",
       "      <td>NaN</td>\n",
       "      <td>NaN</td>\n",
       "      <td>NaN</td>\n",
       "      <td>NaN</td>\n",
       "    </tr>\n",
       "    <tr>\n",
       "      <th>29479</th>\n",
       "      <td>NaN</td>\n",
       "      <td>NaN</td>\n",
       "      <td>NaN</td>\n",
       "      <td>NaN</td>\n",
       "      <td>NaN</td>\n",
       "      <td>NaN</td>\n",
       "      <td>NaN</td>\n",
       "      <td>NaN</td>\n",
       "      <td>NaN</td>\n",
       "      <td>NaN</td>\n",
       "      <td>NaN</td>\n",
       "      <td>NaN</td>\n",
       "      <td>NaN</td>\n",
       "      <td>NaN</td>\n",
       "      <td>NaN</td>\n",
       "      <td>NaN</td>\n",
       "      <td>NaN</td>\n",
       "      <td>NaN</td>\n",
       "      <td>NaN</td>\n",
       "      <td>NaN</td>\n",
       "      <td>NaN</td>\n",
       "      <td>NaN</td>\n",
       "      <td>NaN</td>\n",
       "      <td>NaN</td>\n",
       "      <td>NaN</td>\n",
       "      <td>NaN</td>\n",
       "      <td>NaN</td>\n",
       "      <td>NaN</td>\n",
       "      <td>NaN</td>\n",
       "      <td>NaN</td>\n",
       "      <td>NaN</td>\n",
       "      <td>NaN</td>\n",
       "      <td>NaN</td>\n",
       "      <td>NaN</td>\n",
       "      <td>NaN</td>\n",
       "      <td>NaN</td>\n",
       "      <td>NaN</td>\n",
       "      <td>NaN</td>\n",
       "      <td>NaN</td>\n",
       "      <td>NaN</td>\n",
       "      <td>NaN</td>\n",
       "      <td>NaN</td>\n",
       "      <td>NaN</td>\n",
       "      <td>NaN</td>\n",
       "      <td>NaN</td>\n",
       "      <td>NaN</td>\n",
       "      <td>NaN</td>\n",
       "      <td>NaN</td>\n",
       "      <td>NaN</td>\n",
       "      <td>NaN</td>\n",
       "      <td>NaN</td>\n",
       "      <td>NaN</td>\n",
       "      <td>NaN</td>\n",
       "      <td>NaN</td>\n",
       "      <td>NaN</td>\n",
       "      <td>NaN</td>\n",
       "      <td>NaN</td>\n",
       "      <td>NaN</td>\n",
       "    </tr>\n",
       "  </tbody>\n",
       "</table>\n",
       "<p>29480 rows × 58 columns</p>\n",
       "</div>"
      ],
      "text/plain": [
       "                   make_model  \\\n",
       "0         Mercedes-Benz A 160   \n",
       "1       Mercedes-Benz EQE 350   \n",
       "2      Mercedes-Benz A 45 AMG   \n",
       "3      Mercedes-Benz A 35 AMG   \n",
       "4      Mercedes-Benz A 45 AMG   \n",
       "...                       ...   \n",
       "29475               Volvo S40   \n",
       "29476               Volvo C30   \n",
       "29477               Volvo S90   \n",
       "29478               Volvo S80   \n",
       "29479                     NaN   \n",
       "\n",
       "                                       short_description               make  \\\n",
       "0                                                    CDi  \\nMercedes-Benz\\n   \n",
       "1                                                   350+  \\nMercedes-Benz\\n   \n",
       "2                                       S 4Matic+ 8G-DCT  \\nMercedes-Benz\\n   \n",
       "3                                         4Matic+ 7G-DCT  \\nMercedes-Benz\\n   \n",
       "4                               200CDI BE Line 4M 7G-DCT  \\nMercedes-Benz\\n   \n",
       "...                                                  ...                ...   \n",
       "29475        2.4i Momentum/ Airco/ NAP/ APK/ Elek. Ramen          \\nVolvo\\n   \n",
       "29476                    1.6 D DRIVe Start/Stop R-design          \\nVolvo\\n   \n",
       "29477  T5 AUT(8) MOMENTUM BUSINESS SCHUIFDAK 360GR CA...          \\nVolvo\\n   \n",
       "29478  2.9 Executive G. NETTE AUTO! LEER! NAVI! CRUIS...          \\nVolvo\\n   \n",
       "29479                                                NaN                NaN   \n",
       "\n",
       "                    model                                           location  \\\n",
       "0         [\\n, A 160 ,\\n]  P.I. EL PALMAR C/FORJA 6,  11500 PUERTO DE SAN...   \n",
       "1       [\\n, EQE 350 ,\\n]       APARTADO DE CORREOS 1032,  26140 LOGROÑO, ES   \n",
       "2      [\\n, A 45 AMG ,\\n]  PORT. TARRACO, MOLL DE LLEVANT, Nº 5, LOC. 6-8...   \n",
       "3      [\\n, A 35 AMG ,\\n]  Carrer de Provença, 31 Local,  8029 BARCELONA, ES   \n",
       "4      [\\n, A 45 AMG ,\\n]             CARRIL ARAGONES 4,  30007 CASILLAS, ES   \n",
       "...                   ...                                                ...   \n",
       "29475       [\\n, S40 ,\\n]                  Stobbeweg 6,  2461 EX TER AAR, NL   \n",
       "29476       [\\n, C30 ,\\n]             Sur rendez-vous,  5060 Sambreville, BE   \n",
       "29477       [\\n, S90 ,\\n]    Bergambachterstraat 5,  2871 JB SCHOONHOVEN, NL   \n",
       "29478       [\\n, S80 ,\\n]                  Lage Ham 106,  5102 AE DONGEN, NL   \n",
       "29479                 NaN                                                NaN   \n",
       "\n",
       "            price          Body type                      Type        Doors  \\\n",
       "0      € 16,950.-  [\\n, Compact, \\n]            [\\n, Used, \\n]  [\\n, 5, \\n]   \n",
       "1      € 80,900.-  [\\n, Compact, \\n]  [\\n, Pre-registered, \\n]  [\\n, 4, \\n]   \n",
       "2      € 69,900.-  [\\n, Compact, \\n]            [\\n, Used, \\n]  [\\n, 5, \\n]   \n",
       "3      € 46,990.-  [\\n, Compact, \\n]            [\\n, Used, \\n]  [\\n, 5, \\n]   \n",
       "4      € 16,800.-  [\\n, Compact, \\n]            [\\n, Used, \\n]  [\\n, 5, \\n]   \n",
       "...           ...                ...                       ...          ...   \n",
       "29475   € 5,499.-    [\\n, Sedan, \\n]            [\\n, Used, \\n]  [\\n, 4, \\n]   \n",
       "29476   € 7,300.-    [\\n, Sedan, \\n]            [\\n, Used, \\n]  [\\n, 3, \\n]   \n",
       "29477  € 29,900.-    [\\n, Sedan, \\n]            [\\n, Used, \\n]  [\\n, 4, \\n]   \n",
       "29478   € 4,440.-    [\\n, Sedan, \\n]            [\\n, Used, \\n]  [\\n, 4, \\n]   \n",
       "29479         NaN                NaN                       NaN          NaN   \n",
       "\n",
       "         Country version        Offer number             Warranty     Mileage  \\\n",
       "0        [\\n, Spain, \\n]   [\\n, 7468157, \\n]  [\\n, 24 months, \\n]  120,200 km   \n",
       "1        [\\n, Spain, \\n]   [\\n, 7054863, \\n]  [\\n, 24 months, \\n]    5,000 km   \n",
       "2        [\\n, Spain, \\n]   [\\n, 7410454, \\n]  [\\n, 12 months, \\n]   18,900 km   \n",
       "3        [\\n, Spain, \\n]   [\\n, 7464503, \\n]  [\\n, 12 months, \\n]   18,995 km   \n",
       "4        [\\n, Spain, \\n]   [\\n, 7127931, \\n]  [\\n, 12 months, \\n]  197,000 km   \n",
       "...                  ...                 ...                  ...         ...   \n",
       "29475                NaN  [\\n, 09-PF-XS, \\n]                  NaN  145,000 km   \n",
       "29476  [\\n, Belgium, \\n]                 NaN  [\\n, 13 months, \\n]   96,000 km   \n",
       "29477                NaN      [\\n, 2791, \\n]  [\\n, 12 months, \\n]   94,343 km   \n",
       "29478                NaN  [\\n, 43-JR-LR, \\n]                  NaN  230,047 km   \n",
       "29479                NaN                 NaN                  NaN         NaN   \n",
       "\n",
       "      First registration          Gearbox                 Fuel type  Colour  \\\n",
       "0                06/2016     [\\nManual\\n]                    Diesel   Black   \n",
       "1                06/2022  [\\nAutomatic\\n]                  Electric     NaN   \n",
       "2                07/2020  [\\nAutomatic\\n]                  Gasoline    Grey   \n",
       "3                01/2020  [\\nAutomatic\\n]                  Gasoline  Yellow   \n",
       "4                09/2015  [\\nAutomatic\\n]                    Diesel   White   \n",
       "...                  ...              ...                       ...     ...   \n",
       "29475            06/2004  [\\nAutomatic\\n]                  Gasoline    Grey   \n",
       "29476            04/2011     [\\nManual\\n]  Diesel (Particle filter)    Grey   \n",
       "29477            11/2017  [\\nAutomatic\\n]                  Gasoline    Blue   \n",
       "29478            07/2002  [\\nAutomatic\\n]                  Super 95    Grey   \n",
       "29479                NaN              NaN                       NaN     NaN   \n",
       "\n",
       "          Paint                                               desc  seller  \\\n",
       "0      Metallic  [ , Precio al contado: 16950 euros,  ,  , Vehí...  Dealer   \n",
       "1           NaN  [ , Precio al contado: 88900 euros,  , AUTO OJ...  Dealer   \n",
       "2           NaN  [Gris MANUFAKTUR mountaingrau magno,  , Linea/...  Dealer   \n",
       "3           NaN  [ , Precio al contado: 48990 euros,  ,  , BONI...  Dealer   \n",
       "4      Metallic  [ , Precio al contado: 17400 euros,  , Vehícul...  Dealer   \n",
       "...         ...                                                ...     ...   \n",
       "29475       NaN  [Een goed rijdende auto met APK + NAP + Elektr...  Dealer   \n",
       "29476  Metallic  [*** VOLVO C30 2011 TRES PROPRE EN PARFAIT ETA...  Dealer   \n",
       "29477  Metallic  [Bekijk deze auto in unieke 360 graden present...  Dealer   \n",
       "29478       NaN  [YOUNGTIMER !, Bedrijfsinformatie, NEEM VOOR U...  Dealer   \n",
       "29479       NaN                                                NaN     NaN   \n",
       "\n",
       "             Seats                  Power     Engine size    Gears  \\\n",
       "0              NaN                    NaN             NaN      NaN   \n",
       "1      [\\n, 5, \\n]  [\\n215 kW (292 hp)\\n]      [\\n1 cc\\n]  [\\n9\\n]   \n",
       "2      [\\n, 5, \\n]  [\\n310 kW (421 hp)\\n]  [\\n1,991 cc\\n]  [\\n8\\n]   \n",
       "3      [\\n, 5, \\n]  [\\n225 kW (306 hp)\\n]  [\\n1,991 cc\\n]  [\\n7\\n]   \n",
       "4      [\\n, 5, \\n]  [\\n100 kW (136 hp)\\n]  [\\n2,143 cc\\n]  [\\n7\\n]   \n",
       "...            ...                    ...             ...      ...   \n",
       "29475  [\\n, 5, \\n]  [\\n125 kW (170 hp)\\n]  [\\n2,435 cc\\n]  [\\n5\\n]   \n",
       "29476  [\\n, 4, \\n]   [\\n84 kW (114 hp)\\n]  [\\n1,560 cc\\n]  [\\n6\\n]   \n",
       "29477  [\\n, 5, \\n]  [\\n187 kW (254 hp)\\n]  [\\n1,969 cc\\n]  [\\n8\\n]   \n",
       "29478  [\\n, 5, \\n]  [\\n147 kW (200 hp)\\n]  [\\n2,922 cc\\n]      NaN   \n",
       "29479          NaN                    NaN             NaN      NaN   \n",
       "\n",
       "          CO₂-emissions             Manufacturer colour       Drivetrain  \\\n",
       "0                   NaN                             NaN              NaN   \n",
       "1        0 g/km (comb.)                 Negro Obsidiana              NaN   \n",
       "2                   NaN              Mountaingrau magno    [\\n, 4WD, \\n]   \n",
       "3                   NaN                    Amarillo Sol    [\\n, 4WD, \\n]   \n",
       "4                   NaN                             NaN    [\\n, 4WD, \\n]   \n",
       "...                 ...                             ...              ...   \n",
       "29475  217 g/km (comb.)                           Grijs  [\\n, Front, \\n]   \n",
       "29476   99 g/km (comb.)                             NaN  [\\n, Front, \\n]   \n",
       "29477  149 g/km (comb.)  Denim Blue metallic (blauw met              NaN   \n",
       "29478  251 g/km (comb.)                           Grijs  [\\n, Front, \\n]   \n",
       "29479               NaN                             NaN              NaN   \n",
       "\n",
       "      Cylinders                                   Fuel consumption  \\\n",
       "0           NaN                                                NaN   \n",
       "1           NaN                                                NaN   \n",
       "2       [\\n4\\n]  [[8.4 l/100 km (comb.)], [10.9 l/100 km (city)...   \n",
       "3       [\\n4\\n]  [[7.3 l/100 km (comb.)], [9.3 l/100 km (city)]...   \n",
       "4       [\\n4\\n]  [[4.9 l/100 km (comb.)], [5.7 l/100 km (city)]...   \n",
       "...         ...                                                ...   \n",
       "29475   [\\n5\\n]  [[9.1 l/100 km (comb.)], [13.2 l/100 km (city)...   \n",
       "29476   [\\n4\\n]  [[3.8 l/100 km (comb.)], [4.3 l/100 km (city)]...   \n",
       "29477   [\\n4\\n]  [[6.5 l/100 km (comb.)], [8.6 l/100 km (city)]...   \n",
       "29478   [\\n6\\n]  [[10.4 l/100 km (comb.)], [15.3 l/100 km (city...   \n",
       "29479       NaN                                                NaN   \n",
       "\n",
       "                               \\nComfort & Convenience\\n  \\\n",
       "0                                                    NaN   \n",
       "1                                                    NaN   \n",
       "2                                                    NaN   \n",
       "3      [Air conditioning, Automatic climate control, ...   \n",
       "4      [Air conditioning, Electrical side mirrors, Mu...   \n",
       "...                                                  ...   \n",
       "29475  [Air conditioning, Armrest, Automatic climate ...   \n",
       "29476  [Air conditioning, Armrest, Automatic climate ...   \n",
       "29477  [Air conditioning, Armrest, Automatic climate ...   \n",
       "29478  [Air conditioning, Armrest, Cruise control, El...   \n",
       "29479                                                NaN   \n",
       "\n",
       "                               \\nEntertainment & Media\\n  \\\n",
       "0                                                    NaN   \n",
       "1                                                    NaN   \n",
       "2                                                    NaN   \n",
       "3                                                  [USB]   \n",
       "4                       [Bluetooth, CD player, MP3, USB]   \n",
       "...                                                  ...   \n",
       "29475                         [On-board computer, Radio]   \n",
       "29476  [Bluetooth, CD player, Hands-free equipment, M...   \n",
       "29477  [Android Auto, Apple CarPlay, Bluetooth, Hands...   \n",
       "29478                                [On-board computer]   \n",
       "29479                                                NaN   \n",
       "\n",
       "                                   \\nSafety & Security\\n  \\\n",
       "0                                                    NaN   \n",
       "1                                                    NaN   \n",
       "2                                                    NaN   \n",
       "3      [ABS, Central door lock, Driver-side airbag, E...   \n",
       "4      [ABS, Central door lock, Driver-side airbag, E...   \n",
       "...                                                  ...   \n",
       "29475  [ABS, Central door lock, Central door lock wit...   \n",
       "29476  [ABS, Alarm system, Central door lock with rem...   \n",
       "29477  [Adaptive Cruise Control, Adaptive headlights,...   \n",
       "29478  [ABS, Alarm system, Central door lock, Central...   \n",
       "29479                                                NaN   \n",
       "\n",
       "                                              \\nExtras\\n    Empty weight  \\\n",
       "0                                                    NaN             NaN   \n",
       "1                                                    NaN             NaN   \n",
       "2                                                    NaN             NaN   \n",
       "3                                          [Sport seats]             NaN   \n",
       "4                                                    NaN  [\\n1,545 kg\\n]   \n",
       "...                                                  ...             ...   \n",
       "29475                [Alloy wheels (16\"), Trailer hitch]  [\\n1,357 kg\\n]   \n",
       "29476  [Alloy wheels, Automatically dimming interior ...  [\\n1,356 kg\\n]   \n",
       "29477  [Alloy wheels (18\"), Automatically dimming int...  [\\n1,617 kg\\n]   \n",
       "29478  [Alloy wheels, Automatically dimming interior ...  [\\n1,573 kg\\n]   \n",
       "29479                                                NaN             NaN   \n",
       "\n",
       "      Model code General inspection Last service Full service history  \\\n",
       "0            NaN                NaN          NaN                  NaN   \n",
       "1            NaN                NaN          NaN                  NaN   \n",
       "2            NaN                NaN          NaN                  NaN   \n",
       "3            NaN                NaN          NaN                  NaN   \n",
       "4            NaN                NaN          NaN                  NaN   \n",
       "...          ...                ...          ...                  ...   \n",
       "29475        NaN            08/2023          NaN                  Yes   \n",
       "29476        NaN                NaN          NaN                  Yes   \n",
       "29477        NaN                New          NaN                  Yes   \n",
       "29478        NaN            05/2023          NaN                  NaN   \n",
       "29479        NaN                NaN          NaN                  NaN   \n",
       "\n",
       "      Non-smoker vehicle Emission class Emissions sticker Upholstery colour  \\\n",
       "0                    NaN            NaN               NaN               NaN   \n",
       "1                    NaN            NaN               NaN               NaN   \n",
       "2                    NaN            NaN               NaN               NaN   \n",
       "3                    NaN            NaN               NaN               NaN   \n",
       "4                    NaN            NaN               NaN               NaN   \n",
       "...                  ...            ...               ...               ...   \n",
       "29475                NaN         Euro 4               NaN               NaN   \n",
       "29476                NaN         Euro 5               NaN             Black   \n",
       "29477                NaN         Euro 6               NaN             Other   \n",
       "29478                NaN         Euro 3               NaN             Beige   \n",
       "29479                NaN            NaN               NaN               NaN   \n",
       "\n",
       "         Upholstery  Production date              Previous owner  \\\n",
       "0               NaN              NaN                         NaN   \n",
       "1               NaN              NaN                         NaN   \n",
       "2               NaN              NaN                         NaN   \n",
       "3               NaN              NaN                         NaN   \n",
       "4               NaN              NaN                         NaN   \n",
       "...             ...              ...                         ...   \n",
       "29475           NaN              NaN                         NaN   \n",
       "29476           NaN              NaN   [[96,000 km, 04/2011], 1]   \n",
       "29477  Full leather              NaN                         NaN   \n",
       "29478  Full leather              NaN  [[230,047 km, 07/2002], 5]   \n",
       "29479           NaN              NaN                         NaN   \n",
       "\n",
       "      Other fuel types Power consumption Energy efficiency class  \\\n",
       "0                  NaN               NaN                     NaN   \n",
       "1                  NaN               NaN                     NaN   \n",
       "2                  NaN               NaN                     NaN   \n",
       "3                  NaN               NaN                     NaN   \n",
       "4                  NaN               NaN                     NaN   \n",
       "...                ...               ...                     ...   \n",
       "29475              NaN               NaN                     NaN   \n",
       "29476              NaN               NaN                     NaN   \n",
       "29477              NaN               NaN                     NaN   \n",
       "29478              NaN               NaN                     NaN   \n",
       "29479              NaN               NaN                     NaN   \n",
       "\n",
       "      CO₂-efficiency Fuel consumption (WLTP) CO₂-emissions (WLTP)  \\\n",
       "0                NaN                     NaN                  NaN   \n",
       "1                NaN                     NaN                  NaN   \n",
       "2                NaN                     NaN                  NaN   \n",
       "3                NaN                     NaN                  NaN   \n",
       "4                NaN                     NaN                  NaN   \n",
       "...              ...                     ...                  ...   \n",
       "29475            NaN                     NaN                  NaN   \n",
       "29476            NaN                     NaN                  NaN   \n",
       "29477            NaN                     NaN                  NaN   \n",
       "29478            NaN                     NaN                  NaN   \n",
       "29479            NaN                     NaN                  NaN   \n",
       "\n",
       "      Available from Taxi or rental car Availability Last timing belt change  \\\n",
       "0                NaN                NaN          NaN                     NaN   \n",
       "1                NaN                NaN          NaN                     NaN   \n",
       "2                NaN                NaN          NaN                     NaN   \n",
       "3                NaN                NaN          NaN                     NaN   \n",
       "4                NaN                NaN          NaN                     NaN   \n",
       "...              ...                ...          ...                     ...   \n",
       "29475            NaN                NaN          NaN                     NaN   \n",
       "29476            NaN                NaN          NaN                     NaN   \n",
       "29477            NaN                NaN          NaN                     NaN   \n",
       "29478            NaN                NaN          NaN                     NaN   \n",
       "29479            NaN                NaN          NaN                     NaN   \n",
       "\n",
       "      Electric Range (WLTP) Power consumption (WLTP) Battery Ownership  \n",
       "0                       NaN                      NaN               NaN  \n",
       "1                       NaN                      NaN               NaN  \n",
       "2                       NaN                      NaN               NaN  \n",
       "3                       NaN                      NaN               NaN  \n",
       "4                       NaN                      NaN               NaN  \n",
       "...                     ...                      ...               ...  \n",
       "29475                   NaN                      NaN               NaN  \n",
       "29476                   NaN                      NaN               NaN  \n",
       "29477                   NaN                      NaN               NaN  \n",
       "29478                   NaN                      NaN               NaN  \n",
       "29479                   NaN                      NaN               NaN  \n",
       "\n",
       "[29480 rows x 58 columns]"
      ]
     },
     "execution_count": 2,
     "metadata": {},
     "output_type": "execute_result"
    }
   ],
   "source": [
    "downloads_path = os.path.expanduser(\"~/Downloads\") \n",
    "json_file_path = os.path.join( \"as24_cars.json\")\n",
    "df = pd.read_json(json_file_path)\n",
    "df"
   ]
  },
  {
   "cell_type": "code",
   "execution_count": 3,
   "metadata": {},
   "outputs": [
    {
     "data": {
      "text/html": [
       "<div>\n",
       "<style scoped>\n",
       "    .dataframe tbody tr th:only-of-type {\n",
       "        vertical-align: middle;\n",
       "    }\n",
       "\n",
       "    .dataframe tbody tr th {\n",
       "        vertical-align: top;\n",
       "    }\n",
       "\n",
       "    .dataframe thead th {\n",
       "        text-align: right;\n",
       "    }\n",
       "</style>\n",
       "<table border=\"1\" class=\"dataframe\">\n",
       "  <thead>\n",
       "    <tr style=\"text-align: right;\">\n",
       "      <th></th>\n",
       "      <th>0</th>\n",
       "    </tr>\n",
       "  </thead>\n",
       "  <tbody>\n",
       "    <tr>\n",
       "      <th>make_model</th>\n",
       "      <td>Mercedes-Benz A 160</td>\n",
       "    </tr>\n",
       "    <tr>\n",
       "      <th>short_description</th>\n",
       "      <td>CDi</td>\n",
       "    </tr>\n",
       "    <tr>\n",
       "      <th>make</th>\n",
       "      <td>\\nMercedes-Benz\\n</td>\n",
       "    </tr>\n",
       "    <tr>\n",
       "      <th>model</th>\n",
       "      <td>[\\n, A 160 ,\\n]</td>\n",
       "    </tr>\n",
       "    <tr>\n",
       "      <th>location</th>\n",
       "      <td>P.I. EL PALMAR C/FORJA 6,  11500 PUERTO DE SAN...</td>\n",
       "    </tr>\n",
       "    <tr>\n",
       "      <th>price</th>\n",
       "      <td>€ 16,950.-</td>\n",
       "    </tr>\n",
       "    <tr>\n",
       "      <th>Body type</th>\n",
       "      <td>[\\n, Compact, \\n]</td>\n",
       "    </tr>\n",
       "    <tr>\n",
       "      <th>Type</th>\n",
       "      <td>[\\n, Used, \\n]</td>\n",
       "    </tr>\n",
       "    <tr>\n",
       "      <th>Doors</th>\n",
       "      <td>[\\n, 5, \\n]</td>\n",
       "    </tr>\n",
       "    <tr>\n",
       "      <th>Country version</th>\n",
       "      <td>[\\n, Spain, \\n]</td>\n",
       "    </tr>\n",
       "    <tr>\n",
       "      <th>Offer number</th>\n",
       "      <td>[\\n, 7468157, \\n]</td>\n",
       "    </tr>\n",
       "    <tr>\n",
       "      <th>Warranty</th>\n",
       "      <td>[\\n, 24 months, \\n]</td>\n",
       "    </tr>\n",
       "    <tr>\n",
       "      <th>Mileage</th>\n",
       "      <td>120,200 km</td>\n",
       "    </tr>\n",
       "    <tr>\n",
       "      <th>First registration</th>\n",
       "      <td>06/2016</td>\n",
       "    </tr>\n",
       "    <tr>\n",
       "      <th>Gearbox</th>\n",
       "      <td>[\\nManual\\n]</td>\n",
       "    </tr>\n",
       "    <tr>\n",
       "      <th>Fuel type</th>\n",
       "      <td>Diesel</td>\n",
       "    </tr>\n",
       "    <tr>\n",
       "      <th>Colour</th>\n",
       "      <td>Black</td>\n",
       "    </tr>\n",
       "    <tr>\n",
       "      <th>Paint</th>\n",
       "      <td>Metallic</td>\n",
       "    </tr>\n",
       "    <tr>\n",
       "      <th>desc</th>\n",
       "      <td>[ , Precio al contado: 16950 euros,  ,  , Vehí...</td>\n",
       "    </tr>\n",
       "    <tr>\n",
       "      <th>seller</th>\n",
       "      <td>Dealer</td>\n",
       "    </tr>\n",
       "    <tr>\n",
       "      <th>Seats</th>\n",
       "      <td>NaN</td>\n",
       "    </tr>\n",
       "    <tr>\n",
       "      <th>Power</th>\n",
       "      <td>NaN</td>\n",
       "    </tr>\n",
       "    <tr>\n",
       "      <th>Engine size</th>\n",
       "      <td>NaN</td>\n",
       "    </tr>\n",
       "    <tr>\n",
       "      <th>Gears</th>\n",
       "      <td>NaN</td>\n",
       "    </tr>\n",
       "    <tr>\n",
       "      <th>CO₂-emissions</th>\n",
       "      <td>NaN</td>\n",
       "    </tr>\n",
       "    <tr>\n",
       "      <th>Manufacturer colour</th>\n",
       "      <td>NaN</td>\n",
       "    </tr>\n",
       "    <tr>\n",
       "      <th>Drivetrain</th>\n",
       "      <td>NaN</td>\n",
       "    </tr>\n",
       "    <tr>\n",
       "      <th>Cylinders</th>\n",
       "      <td>NaN</td>\n",
       "    </tr>\n",
       "    <tr>\n",
       "      <th>Fuel consumption</th>\n",
       "      <td>NaN</td>\n",
       "    </tr>\n",
       "    <tr>\n",
       "      <th>\\nComfort &amp; Convenience\\n</th>\n",
       "      <td>NaN</td>\n",
       "    </tr>\n",
       "    <tr>\n",
       "      <th>\\nEntertainment &amp; Media\\n</th>\n",
       "      <td>NaN</td>\n",
       "    </tr>\n",
       "    <tr>\n",
       "      <th>\\nSafety &amp; Security\\n</th>\n",
       "      <td>NaN</td>\n",
       "    </tr>\n",
       "    <tr>\n",
       "      <th>\\nExtras\\n</th>\n",
       "      <td>NaN</td>\n",
       "    </tr>\n",
       "    <tr>\n",
       "      <th>Empty weight</th>\n",
       "      <td>NaN</td>\n",
       "    </tr>\n",
       "    <tr>\n",
       "      <th>Model code</th>\n",
       "      <td>NaN</td>\n",
       "    </tr>\n",
       "    <tr>\n",
       "      <th>General inspection</th>\n",
       "      <td>NaN</td>\n",
       "    </tr>\n",
       "    <tr>\n",
       "      <th>Last service</th>\n",
       "      <td>NaN</td>\n",
       "    </tr>\n",
       "    <tr>\n",
       "      <th>Full service history</th>\n",
       "      <td>NaN</td>\n",
       "    </tr>\n",
       "    <tr>\n",
       "      <th>Non-smoker vehicle</th>\n",
       "      <td>NaN</td>\n",
       "    </tr>\n",
       "    <tr>\n",
       "      <th>Emission class</th>\n",
       "      <td>NaN</td>\n",
       "    </tr>\n",
       "    <tr>\n",
       "      <th>Emissions sticker</th>\n",
       "      <td>NaN</td>\n",
       "    </tr>\n",
       "    <tr>\n",
       "      <th>Upholstery colour</th>\n",
       "      <td>NaN</td>\n",
       "    </tr>\n",
       "    <tr>\n",
       "      <th>Upholstery</th>\n",
       "      <td>NaN</td>\n",
       "    </tr>\n",
       "    <tr>\n",
       "      <th>Production date</th>\n",
       "      <td>NaN</td>\n",
       "    </tr>\n",
       "    <tr>\n",
       "      <th>Previous owner</th>\n",
       "      <td>NaN</td>\n",
       "    </tr>\n",
       "    <tr>\n",
       "      <th>Other fuel types</th>\n",
       "      <td>NaN</td>\n",
       "    </tr>\n",
       "    <tr>\n",
       "      <th>Power consumption</th>\n",
       "      <td>NaN</td>\n",
       "    </tr>\n",
       "    <tr>\n",
       "      <th>Energy efficiency class</th>\n",
       "      <td>NaN</td>\n",
       "    </tr>\n",
       "    <tr>\n",
       "      <th>CO₂-efficiency</th>\n",
       "      <td>NaN</td>\n",
       "    </tr>\n",
       "    <tr>\n",
       "      <th>Fuel consumption (WLTP)</th>\n",
       "      <td>NaN</td>\n",
       "    </tr>\n",
       "    <tr>\n",
       "      <th>CO₂-emissions (WLTP)</th>\n",
       "      <td>NaN</td>\n",
       "    </tr>\n",
       "    <tr>\n",
       "      <th>Available from</th>\n",
       "      <td>NaN</td>\n",
       "    </tr>\n",
       "    <tr>\n",
       "      <th>Taxi or rental car</th>\n",
       "      <td>NaN</td>\n",
       "    </tr>\n",
       "    <tr>\n",
       "      <th>Availability</th>\n",
       "      <td>NaN</td>\n",
       "    </tr>\n",
       "    <tr>\n",
       "      <th>Last timing belt change</th>\n",
       "      <td>NaN</td>\n",
       "    </tr>\n",
       "    <tr>\n",
       "      <th>Electric Range (WLTP)</th>\n",
       "      <td>NaN</td>\n",
       "    </tr>\n",
       "    <tr>\n",
       "      <th>Power consumption (WLTP)</th>\n",
       "      <td>NaN</td>\n",
       "    </tr>\n",
       "    <tr>\n",
       "      <th>Battery Ownership</th>\n",
       "      <td>NaN</td>\n",
       "    </tr>\n",
       "  </tbody>\n",
       "</table>\n",
       "</div>"
      ],
      "text/plain": [
       "                                                                           0\n",
       "make_model                                               Mercedes-Benz A 160\n",
       "short_description                                                        CDi\n",
       "make                                                       \\nMercedes-Benz\\n\n",
       "model                                                        [\\n, A 160 ,\\n]\n",
       "location                   P.I. EL PALMAR C/FORJA 6,  11500 PUERTO DE SAN...\n",
       "price                                                             € 16,950.-\n",
       "Body type                                                  [\\n, Compact, \\n]\n",
       "Type                                                          [\\n, Used, \\n]\n",
       "Doors                                                            [\\n, 5, \\n]\n",
       "Country version                                              [\\n, Spain, \\n]\n",
       "Offer number                                               [\\n, 7468157, \\n]\n",
       "Warranty                                                 [\\n, 24 months, \\n]\n",
       "Mileage                                                           120,200 km\n",
       "First registration                                                   06/2016\n",
       "Gearbox                                                         [\\nManual\\n]\n",
       "Fuel type                                                             Diesel\n",
       "Colour                                                                 Black\n",
       "Paint                                                               Metallic\n",
       "desc                       [ , Precio al contado: 16950 euros,  ,  , Vehí...\n",
       "seller                                                                Dealer\n",
       "Seats                                                                    NaN\n",
       "Power                                                                    NaN\n",
       "Engine size                                                              NaN\n",
       "Gears                                                                    NaN\n",
       "CO₂-emissions                                                            NaN\n",
       "Manufacturer colour                                                      NaN\n",
       "Drivetrain                                                               NaN\n",
       "Cylinders                                                                NaN\n",
       "Fuel consumption                                                         NaN\n",
       "\\nComfort & Convenience\\n                                                NaN\n",
       "\\nEntertainment & Media\\n                                                NaN\n",
       "\\nSafety & Security\\n                                                    NaN\n",
       "\\nExtras\\n                                                               NaN\n",
       "Empty weight                                                             NaN\n",
       "Model code                                                               NaN\n",
       "General inspection                                                       NaN\n",
       "Last service                                                             NaN\n",
       "Full service history                                                     NaN\n",
       "Non-smoker vehicle                                                       NaN\n",
       "Emission class                                                           NaN\n",
       "Emissions sticker                                                        NaN\n",
       "Upholstery colour                                                        NaN\n",
       "Upholstery                                                               NaN\n",
       "Production date                                                          NaN\n",
       "Previous owner                                                           NaN\n",
       "Other fuel types                                                         NaN\n",
       "Power consumption                                                        NaN\n",
       "Energy efficiency class                                                  NaN\n",
       "CO₂-efficiency                                                           NaN\n",
       "Fuel consumption (WLTP)                                                  NaN\n",
       "CO₂-emissions (WLTP)                                                     NaN\n",
       "Available from                                                           NaN\n",
       "Taxi or rental car                                                       NaN\n",
       "Availability                                                             NaN\n",
       "Last timing belt change                                                  NaN\n",
       "Electric Range (WLTP)                                                    NaN\n",
       "Power consumption (WLTP)                                                 NaN\n",
       "Battery Ownership                                                        NaN"
      ]
     },
     "execution_count": 3,
     "metadata": {},
     "output_type": "execute_result"
    }
   ],
   "source": [
    "df.head(1).T"
   ]
  },
  {
   "cell_type": "code",
   "execution_count": 4,
   "metadata": {},
   "outputs": [
    {
     "name": "stdout",
     "output_type": "stream",
     "text": [
      "<class 'pandas.core.frame.DataFrame'>\n",
      "RangeIndex: 29480 entries, 0 to 29479\n",
      "Data columns (total 58 columns):\n",
      " #   Column                    Non-Null Count  Dtype  \n",
      "---  ------                    --------------  -----  \n",
      " 0   make_model                28630 non-null  object \n",
      " 1   short_description         28630 non-null  object \n",
      " 2   make                      28630 non-null  object \n",
      " 3   model                     28630 non-null  object \n",
      " 4   location                  28630 non-null  object \n",
      " 5   price                     28630 non-null  object \n",
      " 6   Body type                 28630 non-null  object \n",
      " 7   Type                      28630 non-null  object \n",
      " 8   Doors                     28271 non-null  object \n",
      " 9   Country version           16889 non-null  object \n",
      " 10  Offer number              23100 non-null  object \n",
      " 11  Warranty                  15784 non-null  object \n",
      " 12  Mileage                   28629 non-null  object \n",
      " 13  First registration        28628 non-null  object \n",
      " 14  Gearbox                   28382 non-null  object \n",
      " 15  Fuel type                 26843 non-null  object \n",
      " 16  Colour                    26906 non-null  object \n",
      " 17  Paint                     14495 non-null  object \n",
      " 18  desc                      28047 non-null  object \n",
      " 19  seller                    28630 non-null  object \n",
      " 20  Seats                     25505 non-null  object \n",
      " 21  Power                     28058 non-null  object \n",
      " 22  Engine size               27227 non-null  object \n",
      " 23  Gears                     18954 non-null  object \n",
      " 24  CO₂-emissions             18594 non-null  object \n",
      " 25  Manufacturer colour       21787 non-null  object \n",
      " 26  Drivetrain                16893 non-null  object \n",
      " 27  Cylinders                 18852 non-null  object \n",
      " 28  Fuel consumption          23385 non-null  object \n",
      " 29  \n",
      "Comfort & Convenience\n",
      "   25433 non-null  object \n",
      " 30  \n",
      "Entertainment & Media\n",
      "   23644 non-null  object \n",
      " 31  \n",
      "Safety & Security\n",
      "       25415 non-null  object \n",
      " 32  \n",
      "Extras\n",
      "                  23480 non-null  object \n",
      " 33  Empty weight              17758 non-null  object \n",
      " 34  Model code                8367 non-null   object \n",
      " 35  General inspection        12254 non-null  object \n",
      " 36  Last service              2003 non-null   object \n",
      " 37  Full service history      12565 non-null  object \n",
      " 38  Non-smoker vehicle        11594 non-null  object \n",
      " 39  Emission class            17859 non-null  object \n",
      " 40  Emissions sticker         9414 non-null   object \n",
      " 41  Upholstery colour         14569 non-null  object \n",
      " 42  Upholstery                18610 non-null  object \n",
      " 43  Production date           5908 non-null   float64\n",
      " 44  Previous owner            14015 non-null  object \n",
      " 45  Other fuel types          2313 non-null   object \n",
      " 46  Power consumption         515 non-null    object \n",
      " 47  Energy efficiency class   7804 non-null   object \n",
      " 48  CO₂-efficiency            7804 non-null   object \n",
      " 49  Fuel consumption (WLTP)   100 non-null    object \n",
      " 50  CO₂-emissions (WLTP)      116 non-null    object \n",
      " 51  Available from            393 non-null    object \n",
      " 52  Taxi or rental car        422 non-null    object \n",
      " 53  Availability              301 non-null    object \n",
      " 54  Last timing belt change   572 non-null    object \n",
      " 55  Electric Range (WLTP)     16 non-null     object \n",
      " 56  Power consumption (WLTP)  16 non-null     object \n",
      " 57  Battery Ownership         7 non-null      object \n",
      "dtypes: float64(1), object(57)\n",
      "memory usage: 13.0+ MB\n"
     ]
    }
   ],
   "source": [
    "df.info()"
   ]
  },
  {
   "cell_type": "code",
   "execution_count": 5,
   "metadata": {},
   "outputs": [
    {
     "data": {
      "text/plain": [
       "Index(['make_model', 'short_description', 'make', 'model', 'location', 'price',\n",
       "       'Body type', 'Type', 'Doors', 'Country version', 'Offer number',\n",
       "       'Warranty', 'Mileage', 'First registration', 'Gearbox', 'Fuel type',\n",
       "       'Colour', 'Paint', 'desc', 'seller', 'Seats', 'Power', 'Engine size',\n",
       "       'Gears', 'CO₂-emissions', 'Manufacturer colour', 'Drivetrain',\n",
       "       'Cylinders', 'Fuel consumption', '\\nComfort & Convenience\\n',\n",
       "       '\\nEntertainment & Media\\n', '\\nSafety & Security\\n', '\\nExtras\\n',\n",
       "       'Empty weight', 'Model code', 'General inspection', 'Last service',\n",
       "       'Full service history', 'Non-smoker vehicle', 'Emission class',\n",
       "       'Emissions sticker', 'Upholstery colour', 'Upholstery',\n",
       "       'Production date', 'Previous owner', 'Other fuel types',\n",
       "       'Power consumption', 'Energy efficiency class', 'CO₂-efficiency',\n",
       "       'Fuel consumption (WLTP)', 'CO₂-emissions (WLTP)', 'Available from',\n",
       "       'Taxi or rental car', 'Availability', 'Last timing belt change',\n",
       "       'Electric Range (WLTP)', 'Power consumption (WLTP)',\n",
       "       'Battery Ownership'],\n",
       "      dtype='object')"
      ]
     },
     "execution_count": 5,
     "metadata": {},
     "output_type": "execute_result"
    }
   ],
   "source": [
    "df.columns"
   ]
  },
  {
   "cell_type": "code",
   "execution_count": 6,
   "metadata": {},
   "outputs": [
    {
     "data": {
      "text/plain": [
       "0       Mercedes-Benz A 160\n",
       "1     Mercedes-Benz EQE 350\n",
       "2    Mercedes-Benz A 45 AMG\n",
       "3    Mercedes-Benz A 35 AMG\n",
       "4    Mercedes-Benz A 45 AMG\n",
       "Name: make_model, dtype: object"
      ]
     },
     "execution_count": 6,
     "metadata": {},
     "output_type": "execute_result"
    }
   ],
   "source": [
    "df.make_model.head()"
   ]
  },
  {
   "cell_type": "code",
   "execution_count": 7,
   "metadata": {},
   "outputs": [
    {
     "data": {
      "text/plain": [
       "0    \\nMercedes-Benz\\n\n",
       "1    \\nMercedes-Benz\\n\n",
       "2    \\nMercedes-Benz\\n\n",
       "3    \\nMercedes-Benz\\n\n",
       "4    \\nMercedes-Benz\\n\n",
       "Name: make, dtype: object"
      ]
     },
     "execution_count": 7,
     "metadata": {},
     "output_type": "execute_result"
    }
   ],
   "source": [
    "df.make.head()"
   ]
  },
  {
   "cell_type": "code",
   "execution_count": 8,
   "metadata": {},
   "outputs": [
    {
     "data": {
      "text/plain": [
       "0       [\\n, A 160 ,\\n]\n",
       "1     [\\n, EQE 350 ,\\n]\n",
       "2    [\\n, A 45 AMG ,\\n]\n",
       "3    [\\n, A 35 AMG ,\\n]\n",
       "4    [\\n, A 45 AMG ,\\n]\n",
       "Name: model, dtype: object"
      ]
     },
     "execution_count": 8,
     "metadata": {},
     "output_type": "execute_result"
    }
   ],
   "source": [
    "df.model.head()"
   ]
  },
  {
   "cell_type": "code",
   "execution_count": 9,
   "metadata": {},
   "outputs": [],
   "source": [
    "#yukarıdaki make model veya make ve model split edilip kullanılabilir"
   ]
  },
  {
   "cell_type": "code",
   "execution_count": 10,
   "metadata": {},
   "outputs": [
    {
     "data": {
      "text/plain": [
       "0                                                CDi\n",
       "1                                               350+\n",
       "2                                   S 4Matic+ 8G-DCT\n",
       "3                                     4Matic+ 7G-DCT\n",
       "4                           200CDI BE Line 4M 7G-DCT\n",
       "5    Sp. Ed. C-Klasse Sportcoupe!TÜV N.!24 Mon. Gew.\n",
       "6                                               180D\n",
       "7                                             7G-DCT\n",
       "8                                             4MATIC\n",
       "9                                  200CDI Autotronic\n",
       "Name: short_description, dtype: object"
      ]
     },
     "execution_count": 10,
     "metadata": {},
     "output_type": "execute_result"
    }
   ],
   "source": [
    "df.short_description.head(10)"
   ]
  },
  {
   "cell_type": "code",
   "execution_count": 11,
   "metadata": {},
   "outputs": [
    {
     "data": {
      "text/plain": [
       "12119                13 Rue Des Ardennes,  21000 Dijon, FR\n",
       "21392            Ludwig-Erhard-Str. 1-3,  03238 Massen, DE\n",
       "5124     Koop jouw auto online 24/7,  1101 BA AMSTERDAM...\n",
       "11604          Nürnberger Straße 131b,  97076 Würzburg, DE\n",
       "6670                 Sluiswachter 26,  3861 SN NIJKERK, NL\n",
       "Name: location, dtype: object"
      ]
     },
     "execution_count": 11,
     "metadata": {},
     "output_type": "execute_result"
    }
   ],
   "source": [
    "df.location.sample(5)"
   ]
  },
  {
   "cell_type": "code",
   "execution_count": 12,
   "metadata": {},
   "outputs": [
    {
     "data": {
      "text/plain": [
       "23364    € 15,490.-\n",
       "7307     € 23,499.-\n",
       "1705     € 24,999.-\n",
       "5912     € 45,800.-\n",
       "22057    € 50,940.-\n",
       "9784     € 12,998.-\n",
       "12276     € 9,944.-\n",
       "22322    € 39,500.-\n",
       "13610    € 34,990.-\n",
       "14298    € 21,900.-\n",
       "Name: price, dtype: object"
      ]
     },
     "execution_count": 12,
     "metadata": {},
     "output_type": "execute_result"
    }
   ],
   "source": [
    "df.price.sample(10)"
   ]
  },
  {
   "cell_type": "code",
   "execution_count": 54,
   "metadata": {},
   "outputs": [
    {
     "data": {
      "text/plain": [
       "price\n",
       "NaN           850\n",
       "€ 14,990.-    222\n",
       "€ 12,990.-    219\n",
       "€ 16,990.-    186\n",
       "€ 19,990.-    166\n",
       "             ... \n",
       "€ 19,112.-      1\n",
       "€ 30,465.-      1\n",
       "€ 18,461.-      1\n",
       "€ 22,649.-      1\n",
       "€ 4,440.-       1\n",
       "Name: count, Length: 5022, dtype: int64"
      ]
     },
     "execution_count": 54,
     "metadata": {},
     "output_type": "execute_result"
    }
   ],
   "source": [
    "df.price.value_counts(dropna=False)"
   ]
  },
  {
   "cell_type": "code",
   "execution_count": 56,
   "metadata": {},
   "outputs": [],
   "source": [
    "df=df.dropna(subset=['price'])"
   ]
  },
  {
   "cell_type": "code",
   "execution_count": 57,
   "metadata": {},
   "outputs": [
    {
     "data": {
      "text/plain": [
       "price\n",
       "€ 14,990.-    222\n",
       "€ 12,990.-    219\n",
       "€ 16,990.-    186\n",
       "€ 19,990.-    166\n",
       "€ 9,990.-     160\n",
       "             ... \n",
       "€ 19,112.-      1\n",
       "€ 30,465.-      1\n",
       "€ 18,461.-      1\n",
       "€ 22,649.-      1\n",
       "€ 4,440.-       1\n",
       "Name: count, Length: 5021, dtype: int64"
      ]
     },
     "execution_count": 57,
     "metadata": {},
     "output_type": "execute_result"
    }
   ],
   "source": [
    "df.price.value_counts(dropna=False)"
   ]
  },
  {
   "cell_type": "code",
   "execution_count": 55,
   "metadata": {},
   "outputs": [
    {
     "data": {
      "text/plain": [
       "6037     [\\n, Off-Road/Pick-up, \\n]\n",
       "17676               [\\n, Coupe, \\n]\n",
       "8403     [\\n, Off-Road/Pick-up, \\n]\n",
       "3335                [\\n, Coupe, \\n]\n",
       "8768     [\\n, Off-Road/Pick-up, \\n]\n",
       "24535    [\\n, Off-Road/Pick-up, \\n]\n",
       "5288          [\\n, Convertible, \\n]\n",
       "22623    [\\n, Off-Road/Pick-up, \\n]\n",
       "2693              [\\n, Compact, \\n]\n",
       "4817              [\\n, Compact, \\n]\n",
       "5406          [\\n, Convertible, \\n]\n",
       "2002                [\\n, Sedan, \\n]\n",
       "19413             [\\n, Compact, \\n]\n",
       "15931    [\\n, Off-Road/Pick-up, \\n]\n",
       "26147             [\\n, Compact, \\n]\n",
       "14904       [\\n, Station wagon, \\n]\n",
       "18484       [\\n, Station wagon, \\n]\n",
       "3782     [\\n, Off-Road/Pick-up, \\n]\n",
       "8819        [\\n, Station wagon, \\n]\n",
       "25618               [\\n, Sedan, \\n]\n",
       "Name: Body type, dtype: object"
      ]
     },
     "execution_count": 55,
     "metadata": {},
     "output_type": "execute_result"
    }
   ],
   "source": [
    "df['Body type'].sample(20)"
   ]
  },
  {
   "cell_type": "code",
   "execution_count": 14,
   "metadata": {},
   "outputs": [
    {
     "data": {
      "text/plain": [
       "Body type\n",
       "[\\n, Station wagon, \\n]       5448\n",
       "[\\n, Off-Road/Pick-up, \\n]    5415\n",
       "[\\n, Compact, \\n]             5387\n",
       "[\\n, Sedan, \\n]               5043\n",
       "[\\n, Coupe, \\n]               4009\n",
       "[\\n, Convertible, \\n]         3328\n",
       "NaN                            850\n",
       "Name: count, dtype: int64"
      ]
     },
     "execution_count": 14,
     "metadata": {},
     "output_type": "execute_result"
    }
   ],
   "source": [
    "df['Body type'].value_counts(dropna=False)"
   ]
  },
  {
   "cell_type": "code",
   "execution_count": 15,
   "metadata": {},
   "outputs": [],
   "source": [
    "#850 adet tipi bilinmeyen var"
   ]
  },
  {
   "cell_type": "code",
   "execution_count": 52,
   "metadata": {},
   "outputs": [
    {
     "data": {
      "text/plain": [
       "22948              [\\n, Used, \\n]\n",
       "267                [\\n, Used, \\n]\n",
       "18471              [\\n, Used, \\n]\n",
       "4171      [\\n, Demonstration, \\n]\n",
       "12539              [\\n, Used, \\n]\n",
       "25229              [\\n, Used, \\n]\n",
       "11402              [\\n, Used, \\n]\n",
       "29017              [\\n, Used, \\n]\n",
       "15134    [\\n, Employee's car, \\n]\n",
       "16443              [\\n, Used, \\n]\n",
       "Name: Type, dtype: object"
      ]
     },
     "execution_count": 52,
     "metadata": {},
     "output_type": "execute_result"
    }
   ],
   "source": [
    "df.Type.sample(10)"
   ]
  },
  {
   "cell_type": "code",
   "execution_count": 53,
   "metadata": {},
   "outputs": [
    {
     "data": {
      "text/plain": [
       "Type\n",
       "[\\n, Used, \\n]              25251\n",
       "[\\n, Demonstration, \\n]      1433\n",
       "[\\n, Pre-registered, \\n]     1377\n",
       "NaN                           850\n",
       "[\\n, Employee's car, \\n]      569\n",
       "Name: count, dtype: int64"
      ]
     },
     "execution_count": 53,
     "metadata": {},
     "output_type": "execute_result"
    }
   ],
   "source": [
    "df.Type.value_counts(dropna=False)"
   ]
  },
  {
   "cell_type": "code",
   "execution_count": 18,
   "metadata": {},
   "outputs": [],
   "source": [
    "#850 adet tipi bilinmeyen var"
   ]
  },
  {
   "cell_type": "code",
   "execution_count": 19,
   "metadata": {},
   "outputs": [
    {
     "data": {
      "text/plain": [
       "Doors\n",
       "[\\n, 5, \\n]    17481\n",
       "[\\n, 2, \\n]     5523\n",
       "[\\n, 4, \\n]     3001\n",
       "[\\n, 3, \\n]     2259\n",
       "NaN             1209\n",
       "[\\n, 6, \\n]        5\n",
       "[\\n, 1, \\n]        2\n",
       "Name: count, dtype: int64"
      ]
     },
     "execution_count": 19,
     "metadata": {},
     "output_type": "execute_result"
    }
   ],
   "source": [
    "df.Doors.value_counts(dropna=False)"
   ]
  },
  {
   "cell_type": "code",
   "execution_count": 20,
   "metadata": {},
   "outputs": [],
   "source": [
    "#1209 Nan value"
   ]
  },
  {
   "cell_type": "code",
   "execution_count": 21,
   "metadata": {},
   "outputs": [
    {
     "data": {
      "text/plain": [
       "Country version\n",
       "NaN                         12591\n",
       "[\\n, Germany, \\n]            7939\n",
       "[\\n, Spain, \\n]              6376\n",
       "[\\n, Italy, \\n]               679\n",
       "[\\n, Belgium, \\n]             641\n",
       "[\\n, European Union, \\n]      340\n",
       "[\\n, Netherlands, \\n]         306\n",
       "[\\n, Austria, \\n]             266\n",
       "[\\n, France, \\n]              101\n",
       "[\\n, United States, \\n]        57\n",
       "[\\n, Czechia, \\n]              47\n",
       "[\\n, Poland, \\n]               31\n",
       "[\\n, Hungary, \\n]              21\n",
       "[\\n, Denmark, \\n]              21\n",
       "[\\n, Romania, \\n]              12\n",
       "[\\n, Japan, \\n]                12\n",
       "[\\n, Switzerland, \\n]           9\n",
       "[\\n, Luxembourg, \\n]            9\n",
       "[\\n, Sweden, \\n]                6\n",
       "[\\n, Slovenia, \\n]              5\n",
       "[\\n, Slovakia, \\n]              4\n",
       "[\\n, Croatia, \\n]               3\n",
       "[\\n, Bulgaria, \\n]              1\n",
       "[\\n, Malta, \\n]                 1\n",
       "[\\n, Canada, \\n]                1\n",
       "[\\n, Mexico, \\n]                1\n",
       "Name: count, dtype: int64"
      ]
     },
     "execution_count": 21,
     "metadata": {},
     "output_type": "execute_result"
    }
   ],
   "source": [
    "df['Country version'].value_counts(dropna=False)"
   ]
  },
  {
   "cell_type": "code",
   "execution_count": 22,
   "metadata": {},
   "outputs": [],
   "source": [
    "#future eng yapılabilir ülke için"
   ]
  },
  {
   "cell_type": "code",
   "execution_count": 23,
   "metadata": {},
   "outputs": [
    {
     "data": {
      "text/plain": [
       "15243    [\\n, MDX-QBCR3XWH, \\n]\n",
       "21290         [\\n, 7413245, \\n]\n",
       "20779                       NaN\n",
       "5876            [\\n, aj812, \\n]\n",
       "16423            [\\n, 3827, \\n]\n",
       "14654         [\\n, MN-8067, \\n]\n",
       "1656                        NaN\n",
       "23              [\\n, 13031, \\n]\n",
       "13457     [\\n, 76 - KO1414, \\n]\n",
       "11942          [\\n, 328776, \\n]\n",
       "Name: Offer number, dtype: object"
      ]
     },
     "execution_count": 23,
     "metadata": {},
     "output_type": "execute_result"
    }
   ],
   "source": [
    "df['Offer number'].sample(10)"
   ]
  },
  {
   "cell_type": "code",
   "execution_count": null,
   "metadata": {},
   "outputs": [],
   "source": [
    "df['Offer number'].isnull.sum()"
   ]
  },
  {
   "cell_type": "code",
   "execution_count": 26,
   "metadata": {},
   "outputs": [
    {
     "data": {
      "text/plain": [
       "Index(['make_model', 'short_description', 'make', 'model', 'location', 'price',\n",
       "       'Body type', 'Type', 'Doors', 'Country version', 'Offer number',\n",
       "       'Warranty', 'Mileage', 'First registration', 'Gearbox', 'Fuel type',\n",
       "       'Colour', 'Paint', 'desc', 'seller', 'Seats', 'Power', 'Engine size',\n",
       "       'Gears', 'CO₂-emissions', 'Manufacturer colour', 'Drivetrain',\n",
       "       'Cylinders', 'Fuel consumption', '\\nComfort & Convenience\\n',\n",
       "       '\\nEntertainment & Media\\n', '\\nSafety & Security\\n', '\\nExtras\\n',\n",
       "       'Empty weight', 'Model code', 'General inspection', 'Last service',\n",
       "       'Full service history', 'Non-smoker vehicle', 'Emission class',\n",
       "       'Emissions sticker', 'Upholstery colour', 'Upholstery',\n",
       "       'Production date', 'Previous owner', 'Other fuel types',\n",
       "       'Power consumption', 'Energy efficiency class', 'CO₂-efficiency',\n",
       "       'Fuel consumption (WLTP)', 'CO₂-emissions (WLTP)', 'Available from',\n",
       "       'Taxi or rental car', 'Availability', 'Last timing belt change',\n",
       "       'Electric Range (WLTP)', 'Power consumption (WLTP)',\n",
       "       'Battery Ownership'],\n",
       "      dtype='object')"
      ]
     },
     "execution_count": 26,
     "metadata": {},
     "output_type": "execute_result"
    }
   ],
   "source": [
    "df.columns"
   ]
  },
  {
   "cell_type": "code",
   "execution_count": 27,
   "metadata": {},
   "outputs": [
    {
     "data": {
      "text/plain": [
       "13506                    NaN\n",
       "11384    [\\n, 12 months, \\n]\n",
       "2453                     NaN\n",
       "3727                     NaN\n",
       "27462                    NaN\n",
       "Name: Warranty, dtype: object"
      ]
     },
     "execution_count": 27,
     "metadata": {},
     "output_type": "execute_result"
    }
   ],
   "source": [
    "df.Warranty.sample(5)\n"
   ]
  },
  {
   "cell_type": "code",
   "execution_count": 28,
   "metadata": {},
   "outputs": [
    {
     "data": {
      "text/plain": [
       "Warranty\n",
       "NaN                     13696\n",
       "[\\n, 12 months, \\n]      9545\n",
       "[\\n, Yes, \\n]            2319\n",
       "[\\n, 24 months, \\n]      1515\n",
       "[\\n, 60 months, \\n]       968\n",
       "                        ...  \n",
       "[\\n, 55 months, \\n]         1\n",
       "[\\n, 99 months, \\n]         1\n",
       "[\\n, 122 months, \\n]        1\n",
       "[\\n, 44 months, \\n]         1\n",
       "[\\n, 4 months, \\n]          1\n",
       "Name: count, Length: 66, dtype: int64"
      ]
     },
     "execution_count": 28,
     "metadata": {},
     "output_type": "execute_result"
    }
   ],
   "source": [
    "df.Warranty.value_counts(dropna=False)"
   ]
  },
  {
   "cell_type": "code",
   "execution_count": null,
   "metadata": {},
   "outputs": [],
   "source": [
    "#warranty düşülebilir Nan fazla"
   ]
  },
  {
   "cell_type": "code",
   "execution_count": 29,
   "metadata": {},
   "outputs": [
    {
     "data": {
      "text/plain": [
       "Mileage\n",
       "NaN           851\n",
       "10 km         586\n",
       "1 km          172\n",
       "50 km         133\n",
       "100 km        119\n",
       "             ... \n",
       "141,589 km      1\n",
       "59,821 km       1\n",
       "123,500 km      1\n",
       "29,781 km       1\n",
       "230,047 km      1\n",
       "Name: count, Length: 14184, dtype: int64"
      ]
     },
     "execution_count": 29,
     "metadata": {},
     "output_type": "execute_result"
    }
   ],
   "source": [
    "df.Mileage.value_counts(dropna=False)"
   ]
  },
  {
   "cell_type": "code",
   "execution_count": 34,
   "metadata": {},
   "outputs": [
    {
     "data": {
      "text/plain": [
       "7675     133,000 km\n",
       "5631     235,000 km\n",
       "7603     125,700 km\n",
       "4042      82,450 km\n",
       "15069     10,000 km\n",
       "7163      35,963 km\n",
       "16868     27,942 km\n",
       "10168      5,000 km\n",
       "10112      8,000 km\n",
       "11856     99,288 km\n",
       "Name: Mileage, dtype: object"
      ]
     },
     "execution_count": 34,
     "metadata": {},
     "output_type": "execute_result"
    }
   ],
   "source": [
    "df.Mileage.sample(10)"
   ]
  },
  {
   "cell_type": "code",
   "execution_count": 37,
   "metadata": {},
   "outputs": [
    {
     "data": {
      "text/plain": [
       "First registration\n",
       "NaN        852\n",
       "08/2022    454\n",
       "06/2022    428\n",
       "05/2019    420\n",
       "06/2019    418\n",
       "          ... \n",
       "08/1980      1\n",
       "06/1980      1\n",
       "09/1970      1\n",
       "06/1963      1\n",
       "10/1979      1\n",
       "Name: count, Length: 656, dtype: int64"
      ]
     },
     "execution_count": 37,
     "metadata": {},
     "output_type": "execute_result"
    }
   ],
   "source": [
    "df['First registration'].value_counts(dropna=False)"
   ]
  },
  {
   "cell_type": "code",
   "execution_count": null,
   "metadata": {},
   "outputs": [],
   "source": [
    "# veri tipi int olarak girilmiş. Tarih bilgileri içerdiği için datetime a çevirilebilir\n",
    "# araçların model yılı kayıt yılı. \n"
   ]
  },
  {
   "cell_type": "code",
   "execution_count": 40,
   "metadata": {},
   "outputs": [
    {
     "data": {
      "text/plain": [
       "18656    08/2020\n",
       "10218    01/2016\n",
       "9442     07/1990\n",
       "11069    07/2022\n",
       "26312    03/2018\n",
       "17762    04/2019\n",
       "748      07/2018\n",
       "8384     01/2017\n",
       "27144    07/1970\n",
       "28847    10/2016\n",
       "Name: First registration, dtype: object"
      ]
     },
     "execution_count": 40,
     "metadata": {},
     "output_type": "execute_result"
    }
   ],
   "source": [
    "df['First registration'].sample(10)"
   ]
  },
  {
   "cell_type": "code",
   "execution_count": 46,
   "metadata": {},
   "outputs": [
    {
     "data": {
      "text/plain": [
       "<bound method Series.isnull of 0        06/2016\n",
       "1        06/2022\n",
       "2        07/2020\n",
       "3        01/2020\n",
       "4        09/2015\n",
       "          ...   \n",
       "29475    06/2004\n",
       "29476    04/2011\n",
       "29477    11/2017\n",
       "29478    07/2002\n",
       "29479        NaN\n",
       "Name: First registration, Length: 29480, dtype: object>"
      ]
     },
     "execution_count": 46,
     "metadata": {},
     "output_type": "execute_result"
    }
   ],
   "source": [
    "df['First registration'].isnull"
   ]
  },
  {
   "cell_type": "code",
   "execution_count": 47,
   "metadata": {},
   "outputs": [
    {
     "data": {
      "text/plain": [
       "9819        [\\nManual\\n]\n",
       "23836       [\\nManual\\n]\n",
       "22947       [\\nManual\\n]\n",
       "6054     [\\nAutomatic\\n]\n",
       "23750       [\\nManual\\n]\n",
       "11125       [\\nManual\\n]\n",
       "22616    [\\nAutomatic\\n]\n",
       "3933     [\\nAutomatic\\n]\n",
       "12004       [\\nManual\\n]\n",
       "9579     [\\nAutomatic\\n]\n",
       "Name: Gearbox, dtype: object"
      ]
     },
     "execution_count": 47,
     "metadata": {},
     "output_type": "execute_result"
    }
   ],
   "source": [
    "df.Gearbox.sample(10)"
   ]
  },
  {
   "cell_type": "code",
   "execution_count": 49,
   "metadata": {},
   "outputs": [
    {
     "data": {
      "text/plain": [
       "Gearbox\n",
       "[\\nManual\\n]            17023\n",
       "[\\nAutomatic\\n]         11287\n",
       "NaN                      1098\n",
       "[\\nSemi-automatic\\n]       72\n",
       "Name: count, dtype: int64"
      ]
     },
     "execution_count": 49,
     "metadata": {},
     "output_type": "execute_result"
    }
   ],
   "source": [
    "df.Gearbox.value_counts(dropna=False)"
   ]
  },
  {
   "cell_type": "code",
   "execution_count": 50,
   "metadata": {},
   "outputs": [
    {
     "data": {
      "text/plain": [
       "4986       Diesel\n",
       "26530         NaN\n",
       "6704     Super 95\n",
       "9321     Gasoline\n",
       "5428     Gasoline\n",
       "16514    Gasoline\n",
       "21929    Gasoline\n",
       "653      Super 95\n",
       "7164     Electric\n",
       "7028     Gasoline\n",
       "Name: Fuel type, dtype: object"
      ]
     },
     "execution_count": 50,
     "metadata": {},
     "output_type": "execute_result"
    }
   ],
   "source": [
    "df['Fuel type'].sample(10)"
   ]
  },
  {
   "cell_type": "code",
   "execution_count": 51,
   "metadata": {},
   "outputs": [
    {
     "data": {
      "text/plain": [
       "Fuel type\n",
       "Gasoline                                                                                              8532\n",
       "Diesel                                                                                                5911\n",
       "Super 95                                                                                              3557\n",
       "Diesel (Particle filter)                                                                              2816\n",
       "NaN                                                                                                   2637\n",
       "Regular/Benzine 91                                                                                    2065\n",
       "Super E10 95                                                                                          1016\n",
       "Regular/Benzine 91 (Particle filter)                                                                   555\n",
       "Super 95 (Particle filter)                                                                             537\n",
       "Super E10 95 (Particle filter)                                                                         324\n",
       "Regular/Benzine E10 91                                                                                 278\n",
       "Others                                                                                                 197\n",
       "Gasoline (Particle filter)                                                                             196\n",
       "Electric                                                                                               185\n",
       "Super Plus 98                                                                                          170\n",
       "Liquid petroleum gas (LPG)                                                                             148\n",
       "CNG                                                                                                     87\n",
       "LPG                                                                                                     73\n",
       "Super Plus E10 98                                                                                       42\n",
       "Super Plus E10 98 (Particle filter)                                                                     35\n",
       "Domestic gas H                                                                                          24\n",
       "Others (Particle filter)                                                                                16\n",
       "Super Plus 98 (Particle filter)                                                                         15\n",
       "Domestic gas L                                                                                          10\n",
       "CNG (Particle filter)                                                                                    8\n",
       "Regular/Benzine E10 91 (Particle filter)                                                                 8\n",
       "LPG (Particle filter)                                                                                    4\n",
       "Hydrogen                                                                                                 3\n",
       "Ethanol                                                                                                  3\n",
       "Electric (Particle filter)                                                                               3\n",
       "Liquid petroleum gas (LPG) (Particle filter) / Super 95 / Super E10 95                                   3\n",
       "Liquid petroleum gas (LPG) / Super 95 / Super Plus 98 / Super Plus E10 98 / Super E10 95                 2\n",
       "Liquid petroleum gas (LPG) / Super 95 / Super E10 95                                                     2\n",
       "Domestic gas L (Particle filter)                                                                         2\n",
       "Liquid petroleum gas (LPG) (Particle filter)                                                             2\n",
       "Liquid petroleum gas (LPG) / Super 95                                                                    2\n",
       "Liquid petroleum gas (LPG) / Super 95 / Super E10 95 / Super Plus 98                                     2\n",
       "Liquid petroleum gas (LPG) / Super 95 / Super Plus 98                                                    1\n",
       "Super 95 (Particle filter) / Super E10 95 / Ethanol                                                      1\n",
       "Liquid petroleum gas (LPG) / Super E10 95 / Super Plus E10 98 / Super Plus 98 / Super 95                 1\n",
       "Liquid petroleum gas (LPG) / Super E10 95                                                                1\n",
       "Biogas                                                                                                   1\n",
       "Super 95 / Super Plus 98 / Liquid petroleum gas (LPG)                                                    1\n",
       "Domestic gas L / Super 95 / Domestic gas H                                                               1\n",
       "Domestic gas H / Super E10 95 / Super Plus E10 98 / Super 95 / Super Plus 98 / Domestic gas L            1\n",
       "Liquid petroleum gas (LPG) / Super E10 95 / Regular/Benzine 91 / Super 95 / Super Plus 98 / Biogas       1\n",
       "Super 95 / Liquid petroleum gas (LPG)                                                                    1\n",
       "Name: count, dtype: int64"
      ]
     },
     "execution_count": 51,
     "metadata": {},
     "output_type": "execute_result"
    }
   ],
   "source": [
    "df['Fuel type'].value_counts(dropna=False)\n"
   ]
  },
  {
   "cell_type": "code",
   "execution_count": 1,
   "metadata": {},
   "outputs": [],
   "source": [
    "#aynı türden olanlar ortak bir isimde toplanabilir"
   ]
  },
  {
   "cell_type": "code",
   "execution_count": null,
   "metadata": {},
   "outputs": [],
   "source": []
  },
  {
   "cell_type": "code",
   "execution_count": null,
   "metadata": {},
   "outputs": [],
   "source": []
  },
  {
   "cell_type": "code",
   "execution_count": null,
   "metadata": {},
   "outputs": [],
   "source": []
  },
  {
   "cell_type": "code",
   "execution_count": null,
   "metadata": {},
   "outputs": [],
   "source": []
  },
  {
   "cell_type": "code",
   "execution_count": null,
   "metadata": {},
   "outputs": [],
   "source": []
  },
  {
   "cell_type": "code",
   "execution_count": null,
   "metadata": {},
   "outputs": [],
   "source": []
  },
  {
   "cell_type": "code",
   "execution_count": null,
   "metadata": {},
   "outputs": [],
   "source": []
  },
  {
   "cell_type": "code",
   "execution_count": null,
   "metadata": {},
   "outputs": [],
   "source": []
  },
  {
   "cell_type": "code",
   "execution_count": null,
   "metadata": {},
   "outputs": [],
   "source": []
  },
  {
   "cell_type": "code",
   "execution_count": null,
   "metadata": {},
   "outputs": [],
   "source": []
  },
  {
   "cell_type": "code",
   "execution_count": null,
   "metadata": {},
   "outputs": [],
   "source": []
  },
  {
   "cell_type": "code",
   "execution_count": null,
   "metadata": {},
   "outputs": [],
   "source": []
  },
  {
   "cell_type": "code",
   "execution_count": null,
   "metadata": {},
   "outputs": [],
   "source": []
  },
  {
   "cell_type": "code",
   "execution_count": null,
   "metadata": {},
   "outputs": [],
   "source": []
  },
  {
   "cell_type": "code",
   "execution_count": null,
   "metadata": {},
   "outputs": [],
   "source": []
  },
  {
   "cell_type": "code",
   "execution_count": null,
   "metadata": {},
   "outputs": [],
   "source": []
  },
  {
   "cell_type": "code",
   "execution_count": null,
   "metadata": {},
   "outputs": [],
   "source": []
  },
  {
   "cell_type": "code",
   "execution_count": null,
   "metadata": {},
   "outputs": [],
   "source": []
  },
  {
   "cell_type": "code",
   "execution_count": null,
   "metadata": {},
   "outputs": [],
   "source": []
  },
  {
   "cell_type": "code",
   "execution_count": null,
   "metadata": {},
   "outputs": [],
   "source": []
  },
  {
   "cell_type": "code",
   "execution_count": null,
   "metadata": {},
   "outputs": [],
   "source": []
  },
  {
   "cell_type": "code",
   "execution_count": null,
   "metadata": {},
   "outputs": [],
   "source": []
  },
  {
   "cell_type": "code",
   "execution_count": null,
   "metadata": {},
   "outputs": [],
   "source": []
  },
  {
   "cell_type": "code",
   "execution_count": null,
   "metadata": {},
   "outputs": [],
   "source": []
  },
  {
   "cell_type": "code",
   "execution_count": null,
   "metadata": {},
   "outputs": [],
   "source": []
  },
  {
   "cell_type": "code",
   "execution_count": null,
   "metadata": {},
   "outputs": [],
   "source": []
  },
  {
   "cell_type": "code",
   "execution_count": null,
   "metadata": {},
   "outputs": [],
   "source": []
  },
  {
   "cell_type": "code",
   "execution_count": null,
   "metadata": {},
   "outputs": [],
   "source": []
  },
  {
   "cell_type": "code",
   "execution_count": null,
   "metadata": {},
   "outputs": [],
   "source": []
  },
  {
   "cell_type": "code",
   "execution_count": null,
   "metadata": {},
   "outputs": [],
   "source": []
  },
  {
   "cell_type": "code",
   "execution_count": null,
   "metadata": {},
   "outputs": [],
   "source": []
  },
  {
   "cell_type": "code",
   "execution_count": null,
   "metadata": {},
   "outputs": [],
   "source": []
  },
  {
   "cell_type": "code",
   "execution_count": null,
   "metadata": {},
   "outputs": [],
   "source": []
  },
  {
   "cell_type": "code",
   "execution_count": null,
   "metadata": {},
   "outputs": [],
   "source": []
  },
  {
   "cell_type": "code",
   "execution_count": null,
   "metadata": {},
   "outputs": [],
   "source": []
  },
  {
   "cell_type": "code",
   "execution_count": null,
   "metadata": {},
   "outputs": [],
   "source": []
  },
  {
   "cell_type": "code",
   "execution_count": null,
   "metadata": {},
   "outputs": [],
   "source": []
  },
  {
   "cell_type": "code",
   "execution_count": null,
   "metadata": {},
   "outputs": [],
   "source": []
  },
  {
   "cell_type": "code",
   "execution_count": null,
   "metadata": {},
   "outputs": [],
   "source": []
  },
  {
   "cell_type": "code",
   "execution_count": null,
   "metadata": {},
   "outputs": [],
   "source": []
  },
  {
   "cell_type": "code",
   "execution_count": null,
   "metadata": {},
   "outputs": [],
   "source": []
  },
  {
   "cell_type": "code",
   "execution_count": null,
   "metadata": {},
   "outputs": [],
   "source": []
  },
  {
   "cell_type": "code",
   "execution_count": null,
   "metadata": {},
   "outputs": [],
   "source": []
  },
  {
   "cell_type": "code",
   "execution_count": null,
   "metadata": {},
   "outputs": [],
   "source": []
  },
  {
   "cell_type": "code",
   "execution_count": null,
   "metadata": {},
   "outputs": [],
   "source": []
  },
  {
   "cell_type": "code",
   "execution_count": null,
   "metadata": {},
   "outputs": [],
   "source": []
  },
  {
   "cell_type": "markdown",
   "metadata": {
    "id": "uGeKSdYds1MD"
   },
   "source": [
    "# PART- 2 `( Handling With Missing Vales )`"
   ]
  },
  {
   "cell_type": "code",
   "execution_count": null,
   "metadata": {
    "id": "WDZnqBhbs1ME"
   },
   "outputs": [],
   "source": []
  },
  {
   "cell_type": "markdown",
   "metadata": {
    "id": "gPPdPAu5s1ME"
   },
   "source": [
    "# PART- 3 `( Handling With Outliers )`"
   ]
  },
  {
   "cell_type": "code",
   "execution_count": null,
   "metadata": {
    "id": "Is4HLjHWs1MF"
   },
   "outputs": [],
   "source": []
  },
  {
   "cell_type": "markdown",
   "metadata": {
    "id": "EKxmsgfts1MG"
   },
   "source": [
    "# Final Step (Checking final situation of data via graphs)"
   ]
  },
  {
   "cell_type": "code",
   "execution_count": null,
   "metadata": {
    "id": "8mgL_Bd0s1MG"
   },
   "outputs": [],
   "source": []
  },
  {
   "cell_type": "markdown",
   "metadata": {
    "id": "2PgUVPoes1MH"
   },
   "source": [
    "## Export dataframe to csv file (without dummy)"
   ]
  },
  {
   "cell_type": "code",
   "execution_count": null,
   "metadata": {
    "id": "Byg_o2ZMs1MI"
   },
   "outputs": [],
   "source": [
    "df.to_csv(\"final_scout_not_dummy.csv\", index=False)"
   ]
  },
  {
   "cell_type": "markdown",
   "metadata": {
    "id": "hrw9hr-3s1MJ"
   },
   "source": [
    "# Dummy Operation"
   ]
  },
  {
   "cell_type": "code",
   "execution_count": null,
   "metadata": {
    "id": "faDyWTC9s1MJ"
   },
   "outputs": [],
   "source": []
  },
  {
   "cell_type": "markdown",
   "metadata": {
    "id": "DUOdihlqs1MJ"
   },
   "source": [
    "## Export dataframe to csv file (dummy)"
   ]
  },
  {
   "cell_type": "code",
   "execution_count": null,
   "metadata": {
    "id": "IJT7Yl1Us1MK"
   },
   "outputs": [],
   "source": [
    "df_dummied.to_csv(\"final_scout_dummy.csv\", index=False)"
   ]
  },
  {
   "cell_type": "markdown",
   "metadata": {},
   "source": [
    "<a href=\"https://clarusway.com/\"><img align=\"center\" src=\"https://i.ibb.co/Rpz9L36/clarusway-logo-black.png\" width=\"450\" height=\"200\" alt=\"CLRSWY_LOGO\" title=\"Open and Execute in Google Colaboratory\"></a><br/>\n",
    "\n",
    "<p style=\"background-color:#E51A59; font-family:newtimeroman; color:#FDFEFE; font-size:130%; text-align:center; border-radius:10px 10px;\">WAY TO REINVENT YOURSELF</p>"
   ]
  }
 ],
 "metadata": {
  "colab": {
   "name": "DAwPy-Capstone_Project_(AutoScout)_Student.ipynb",
   "provenance": []
  },
  "kernelspec": {
   "display_name": "Python 3 (ipykernel)",
   "language": "python",
   "name": "python3"
  },
  "language_info": {
   "codemirror_mode": {
    "name": "ipython",
    "version": 3
   },
   "file_extension": ".py",
   "mimetype": "text/x-python",
   "name": "python",
   "nbconvert_exporter": "python",
   "pygments_lexer": "ipython3",
   "version": "3.12.4"
  },
  "toc": {
   "base_numbering": 1,
   "nav_menu": {},
   "number_sections": false,
   "sideBar": true,
   "skip_h1_title": false,
   "title_cell": "Table of Contents",
   "title_sidebar": "Contents",
   "toc_cell": false,
   "toc_position": {},
   "toc_section_display": true,
   "toc_window_display": false
  }
 },
 "nbformat": 4,
 "nbformat_minor": 4
}
