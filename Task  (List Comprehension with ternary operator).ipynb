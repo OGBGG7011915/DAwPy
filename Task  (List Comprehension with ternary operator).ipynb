{
 "cells": [
  {
   "cell_type": "code",
   "execution_count": 36,
   "id": "99934298-f799-4881-ba4f-ee1756a794b4",
   "metadata": {},
   "outputs": [],
   "source": [
    "data = [5, 'Python', 3.14, -2, 'Data', True, 0, 12.5, 9, 'AI', None, 4]"
   ]
  },
  {
   "cell_type": "code",
   "execution_count": 37,
   "id": "2b95da19-b440-4fee-bbe6-ce15d6d8ce09",
   "metadata": {},
   "outputs": [
    {
     "name": "stdout",
     "output_type": "stream",
     "text": [
      "[25, None, None, 4, None, 1, 0, None, 81, None, None, 16]\n"
     ]
    }
   ],
   "source": [
    "def func(lst):\n",
    "    return [x**2 if isinstance(x, int) else None for x in lst]\n",
    "result = func(data)\n",
    "print(result)"
   ]
  }
 ],
 "metadata": {
  "kernelspec": {
   "display_name": "Python 3 (ipykernel)",
   "language": "python",
   "name": "python3"
  },
  "language_info": {
   "codemirror_mode": {
    "name": "ipython",
    "version": 3
   },
   "file_extension": ".py",
   "mimetype": "text/x-python",
   "name": "python",
   "nbconvert_exporter": "python",
   "pygments_lexer": "ipython3",
   "version": "3.12.4"
  }
 },
 "nbformat": 4,
 "nbformat_minor": 5
}
