{
 "cells": [
  {
   "cell_type": "markdown",
   "metadata": {
    "id": "fepd5K3rAd-n"
   },
   "source": [
    "___\n",
    "\n",
    "<p style=\"text-align: center;\"><img src=\"https://docs.google.com/uc?id=1lY0Uj5R04yMY3-ZppPWxqCr5pvBLYPnV\" class=\"img-fluid\"\n",
    "alt=\"CLRSWY\"></p>\n",
    "\n",
    "## <p style=\"background-color:#FDFEFE; font-family:newtimeroman; color:#9d4f8c; font-size:100%; text-align:center; border-radius:10px 10px;\">WAY TO REINVENT YOURSELF</p>\n",
    "\n",
    "## <p style=\"background-color:#FDFEFE; font-family:newtimeroman; color:#060108; font-size:200%; text-align:center; border-radius:10px 10px;\">Data Analysis with Python</p>\n",
    "\n",
    "![Image_Assignment](https://i.ibb.co/cY9HhF7/bnote-assignment.gif)\n",
    "\n",
    "## <p style=\"background-color:#FDFEFE; font-family:newtimeroman; color:#4d77cf; font-size:200%; text-align:center; border-radius:10px 10px;\">Assignment 01 (NumPy & Pandas Basics)</p>"
   ]
  },
  {
   "cell_type": "markdown",
   "metadata": {
    "id": "2hCaqzd9bbDw"
   },
   "source": [
    "<a id=\"toc\"></a>\n",
    "\n",
    "## <p style=\"background-color:#9d4f8c; font-family:newtimeroman; color:#FFF9ED; font-size:175%; text-align:center; border-radius:10px 10px;\">Content</p>\n",
    "\n",
    "* [NUMPY SECTION](#0)\n",
    "* [PANDAS SECTION](#1)\n"
   ]
  },
  {
   "cell_type": "markdown",
   "metadata": {
    "id": "lFoJR2iTAd-v"
   },
   "source": [
    "**In this assignment you will start off with Numpy Exercises and then complete the whole Exercise with Pandas questions. All the subjects related to questions here already covered in preclass materials and in-class sessions. So good luck!**"
   ]
  },
  {
   "cell_type": "markdown",
   "metadata": {
    "id": "qlXHDgY8bbDx"
   },
   "source": [
    "## <p style=\"background-color:#9d4f8c; font-family:newtimeroman; color:#FFF9ED; font-size:175%; text-align:center; border-radius:10px 10px;\">Numpy Section</p>\n",
    "\n",
    "<a id=\"0\"></a>\n",
    "<a href=\"#toc\" class=\"btn btn-primary btn-sm\" role=\"button\" aria-pressed=\"true\"\n",
    "style=\"color:blue; background-color:#dfa8e4\" data-toggle=\"popover\">Content</a>"
   ]
  },
  {
   "cell_type": "markdown",
   "metadata": {
    "id": "9LrbgcwYAd-w"
   },
   "source": [
    "### 1. Import NumPy Library."
   ]
  },
  {
   "cell_type": "code",
   "execution_count": 1,
   "metadata": {
    "id": "MymrsT_dAd-x"
   },
   "outputs": [],
   "source": [
    "# YOUR CODE IS HERE\n",
    "import numpy as np\n"
   ]
  },
  {
   "cell_type": "markdown",
   "metadata": {
    "id": "It1vT4JYAd-y"
   },
   "source": [
    "### 2. Create an array from my_list = [5, 10, 15, 20, 25]"
   ]
  },
  {
   "cell_type": "code",
   "execution_count": 4,
   "metadata": {
    "id": "0uO_rHvlbbDy"
   },
   "outputs": [
    {
     "data": {
      "text/plain": [
       "array([ 5, 10, 15, 20, 25])"
      ]
     },
     "execution_count": 4,
     "metadata": {},
     "output_type": "execute_result"
    }
   ],
   "source": [
    "# YOUR CODE IS HERE\n",
    "my_list = [5, 10, 15, 20, 25]\n",
    "c_array= np.array(my_list)\n",
    "c_array"
   ]
  },
  {
   "cell_type": "raw",
   "metadata": {
    "id": "dPndrpKOAd-z",
    "outputId": "fa4080ee-8528-454e-d834-2d13d49bbec2"
   },
   "source": [
    "Desired Output:\n",
    "\n",
    "array([ 5, 10, 15, 20, 25])"
   ]
  },
  {
   "cell_type": "markdown",
   "metadata": {
    "id": "1hVeq_fEAd-1"
   },
   "source": [
    "### 3. Generate an array of 5x5 with zeros."
   ]
  },
  {
   "cell_type": "code",
   "execution_count": 2,
   "metadata": {
    "id": "Y0R-L8hBAd-2"
   },
   "outputs": [
    {
     "data": {
      "text/plain": [
       "array([[0., 0., 0., 0., 0.],\n",
       "       [0., 0., 0., 0., 0.],\n",
       "       [0., 0., 0., 0., 0.],\n",
       "       [0., 0., 0., 0., 0.],\n",
       "       [0., 0., 0., 0., 0.]])"
      ]
     },
     "execution_count": 2,
     "metadata": {},
     "output_type": "execute_result"
    }
   ],
   "source": [
    "# YOUR CODE IS HERE\n",
    "\n",
    "zarray = np.zeros((5,5))\n",
    "zarray"
   ]
  },
  {
   "cell_type": "raw",
   "metadata": {
    "id": "V4EGTgs_bbDz"
   },
   "source": [
    "Desired Output:\n",
    "\n",
    "array([[0., 0., 0., 0., 0.],\n",
    "       [0., 0., 0., 0., 0.],\n",
    "       [0., 0., 0., 0., 0.],\n",
    "       [0., 0., 0., 0., 0.],\n",
    "       [0., 0., 0., 0., 0.]])"
   ]
  },
  {
   "cell_type": "markdown",
   "metadata": {
    "id": "lHhdpBa6Ad-3"
   },
   "source": [
    "### 4. Generate an array of 4x4 with ones and assign data type as int."
   ]
  },
  {
   "cell_type": "code",
   "execution_count": 19,
   "metadata": {
    "id": "s45bqkmOAd-3"
   },
   "outputs": [
    {
     "data": {
      "text/plain": [
       "array([[1, 1, 1, 1],\n",
       "       [1, 1, 1, 1],\n",
       "       [1, 1, 1, 1],\n",
       "       [1, 1, 1, 1]])"
      ]
     },
     "execution_count": 19,
     "metadata": {},
     "output_type": "execute_result"
    }
   ],
   "source": [
    "# YOUR CODE IS HERE\n",
    "orray=np.ones((4,4), dtype=int)\n",
    "orray"
   ]
  },
  {
   "cell_type": "raw",
   "metadata": {
    "id": "5CtTLhJHbbDz"
   },
   "source": [
    "Desired Output:\n",
    "\n",
    "array([[1, 1, 1, 1],\n",
    "       [1, 1, 1, 1],\n",
    "       [1, 1, 1, 1],\n",
    "       [1, 1, 1, 1]])"
   ]
  },
  {
   "cell_type": "markdown",
   "metadata": {
    "id": "1gD94nCeAd-5"
   },
   "source": [
    "### 5. Make all the values of the array above with the value of 7."
   ]
  },
  {
   "cell_type": "code",
   "execution_count": 26,
   "metadata": {
    "id": "L8fjsn5JAd-6"
   },
   "outputs": [
    {
     "name": "stdout",
     "output_type": "stream",
     "text": [
      "[[7 7 7 7]\n",
      " [7 7 7 7]\n",
      " [7 7 7 7]\n",
      " [7 7 7 7]]\n"
     ]
    }
   ],
   "source": [
    "# YOUR CODE IS HERE\n",
    "orray.fill(7)\n",
    "print(orray)\n"
   ]
  },
  {
   "cell_type": "raw",
   "metadata": {
    "id": "q7kLEfScbbD0"
   },
   "source": [
    "Desired Output:\n",
    "\n",
    "array([[7, 7, 7, 7],\n",
    "       [7, 7, 7, 7],\n",
    "       [7, 7, 7, 7],\n",
    "       [7, 7, 7, 7]])"
   ]
  },
  {
   "cell_type": "markdown",
   "metadata": {
    "id": "XeOPD2dBAd-7"
   },
   "source": [
    "### 6. Create the previous array above by full() method."
   ]
  },
  {
   "cell_type": "code",
   "execution_count": 28,
   "metadata": {
    "id": "xqoPe_PJAd-7"
   },
   "outputs": [
    {
     "data": {
      "text/plain": [
       "array([[7, 7, 7, 7],\n",
       "       [7, 7, 7, 7],\n",
       "       [7, 7, 7, 7],\n",
       "       [7, 7, 7, 7]])"
      ]
     },
     "execution_count": 28,
     "metadata": {},
     "output_type": "execute_result"
    }
   ],
   "source": [
    "# YOUR CODE IS HERE\n",
    "\n",
    "fseven= np.full((4,4),7)\n",
    "fseven"
   ]
  },
  {
   "cell_type": "raw",
   "metadata": {
    "id": "a0Nx3INYbbD0"
   },
   "source": [
    "Desired Output:\n",
    "\n",
    "array([[7, 7, 7, 7],\n",
    "       [7, 7, 7, 7],\n",
    "       [7, 7, 7, 7],\n",
    "       [7, 7, 7, 7]])"
   ]
  },
  {
   "cell_type": "markdown",
   "metadata": {
    "id": "G8_xFCyQAd-8"
   },
   "source": [
    "### 7. Create an array of even integers from 2 to 16 (inclusive)."
   ]
  },
  {
   "cell_type": "code",
   "execution_count": 30,
   "metadata": {
    "id": "Nu6VInWWAd-8"
   },
   "outputs": [
    {
     "data": {
      "text/plain": [
       "array([ 2,  4,  6,  8, 10, 12, 14, 16])"
      ]
     },
     "execution_count": 30,
     "metadata": {},
     "output_type": "execute_result"
    }
   ],
   "source": [
    "# YOUR CODE IS HERE\n",
    "\n",
    "even = np.arange(2,17,2)\n",
    "even"
   ]
  },
  {
   "cell_type": "raw",
   "metadata": {
    "id": "Xm3jhez3bbD0"
   },
   "source": [
    "Desired Output:\n",
    "\n",
    "array([ 2,  4,  6,  8, 10, 12, 14, 16])"
   ]
  },
  {
   "cell_type": "markdown",
   "metadata": {
    "id": "-SZvgEVVAd-9"
   },
   "source": [
    "### 8. Create a 5x5 matrix with the values between 0 to 25 (exclusive)."
   ]
  },
  {
   "cell_type": "code",
   "execution_count": 37,
   "metadata": {
    "id": "ddkmPCghAd--",
    "scrolled": true
   },
   "outputs": [
    {
     "data": {
      "text/plain": [
       "array([[ 0,  1,  2,  3,  4],\n",
       "       [ 5,  6,  7,  8,  9],\n",
       "       [10, 11, 12, 13, 14],\n",
       "       [15, 16, 17, 18, 19],\n",
       "       [20, 21, 22, 23, 24]])"
      ]
     },
     "execution_count": 37,
     "metadata": {},
     "output_type": "execute_result"
    }
   ],
   "source": [
    "# YOUR CODE IS HERE\n",
    "\n",
    "nw=np.arange(25).reshape(5, 5)\n",
    "nw"
   ]
  },
  {
   "cell_type": "raw",
   "metadata": {
    "id": "1U9YuXLsbbD0"
   },
   "source": [
    "Desired Output:\n",
    "\n",
    "array([[ 0,  1,  2,  3,  4],\n",
    "       [ 5,  6,  7,  8,  9],\n",
    "       [10, 11, 12, 13, 14],\n",
    "       [15, 16, 17, 18, 19],\n",
    "       [20, 21, 22, 23, 24]])"
   ]
  },
  {
   "cell_type": "markdown",
   "metadata": {
    "id": "-QuMw6v5Ad-_"
   },
   "source": [
    "### 9. Create a 5x5 matrix with the values between 0 to 25 (exclusive) using linspace method."
   ]
  },
  {
   "cell_type": "code",
   "execution_count": 43,
   "metadata": {
    "id": "4A195I5iAd_A",
    "scrolled": true
   },
   "outputs": [
    {
     "data": {
      "text/plain": [
       "array([[ 0.,  1.,  2.,  3.,  4.],\n",
       "       [ 5.,  6.,  7.,  8.,  9.],\n",
       "       [10., 11., 12., 13., 14.],\n",
       "       [15., 16., 17., 18., 19.],\n",
       "       [20., 21., 22., 23., 24.]])"
      ]
     },
     "execution_count": 43,
     "metadata": {},
     "output_type": "execute_result"
    }
   ],
   "source": [
    "# YOUR CODE IS HERE\n",
    "nw5= np.linspace(0, 25, num=25, endpoint=False).reshape(5, 5)\n",
    "nw5"
   ]
  },
  {
   "cell_type": "raw",
   "metadata": {
    "id": "xTP2TU0ObbD1"
   },
   "source": [
    "Desired Output:\n",
    "\n",
    "array([[ 0,  1,  2,  3,  4],\n",
    "       [ 5,  6,  7,  8,  9],\n",
    "       [10, 11, 12, 13, 14],\n",
    "       [15, 16, 17, 18, 19],\n",
    "       [20, 21, 22, 23, 24]])"
   ]
  },
  {
   "cell_type": "markdown",
   "metadata": {
    "id": "xL-eRUXEAd_B"
   },
   "source": [
    "### 10. Create randomly 5 numbers with numpy."
   ]
  },
  {
   "cell_type": "code",
   "execution_count": 45,
   "metadata": {
    "id": "0xda3LnLAd_B"
   },
   "outputs": [
    {
     "data": {
      "text/plain": [
       "array([0.53260974, 0.22798488, 0.05814234, 0.12940315, 0.3402412 ])"
      ]
     },
     "execution_count": 45,
     "metadata": {},
     "output_type": "execute_result"
    }
   ],
   "source": [
    "# YOUR CODE IS HERE\n",
    "randy=np.random.rand(5)\n",
    "randy"
   ]
  },
  {
   "cell_type": "raw",
   "metadata": {
    "id": "_22iG3jRbbD1"
   },
   "source": [
    "Desired Output (WATCH OUT! Your output will probably NOT be the same as the one below due to randomization):\n",
    "\n",
    "array([0.69664494, 0.66387647, 0.97508534, 0.33818591, 0.58766187])"
   ]
  },
  {
   "cell_type": "markdown",
   "metadata": {
    "id": "JXiZjg06Ad_C"
   },
   "source": [
    "### 11. Create an array of 5*5 shape and fills it with random values as per the standard normal distribution."
   ]
  },
  {
   "cell_type": "code",
   "execution_count": 48,
   "metadata": {
    "id": "KeJDVElTAd_C"
   },
   "outputs": [
    {
     "data": {
      "text/plain": [
       "array([[0.86152194, 0.57354997, 0.63634653, 0.4928486 , 0.5584147 ],\n",
       "       [0.62517281, 0.08872415, 0.63992318, 0.73887102, 0.75963509],\n",
       "       [0.8563988 , 0.99839207, 0.89740428, 0.59587411, 0.59086316],\n",
       "       [0.01940798, 0.76824671, 0.23624547, 0.49607753, 0.64691047],\n",
       "       [0.06096557, 0.86547128, 0.55224473, 0.8567064 , 0.03075388]])"
      ]
     },
     "execution_count": 48,
     "metadata": {},
     "output_type": "execute_result"
    }
   ],
   "source": [
    "# YOUR CODE IS HERE\n",
    "\n",
    "rand_new= np.random.rand(5,5)\n",
    "rand_new"
   ]
  },
  {
   "cell_type": "raw",
   "metadata": {
    "id": "dYZG-9H7bbD2"
   },
   "source": [
    "Desired Output (WATCH OUT! Your output will probably NOT be the same as the one below due to randomization):\n",
    "\n",
    "array([[ 0.73087006, -0.34675846, -1.03601606, -0.61227298, -0.57078798],\n",
    "       [ 1.85976917, -0.37158111, -1.16789003, -0.81271697,  1.39620977],\n",
    "       [ 0.52695367, -0.19017673,  0.78067235, -1.3520313 ,  0.44878344],\n",
    "       [ 0.27758877,  0.75391726, -0.52652875,  0.74519765, -0.40414682],\n",
    "       [ 0.12743864, -0.81637521,  0.14086653, -0.29524574,  0.12703938]])"
   ]
  },
  {
   "cell_type": "markdown",
   "metadata": {
    "id": "iHRAL69DAd_D"
   },
   "source": [
    "### 12. Create a 3*4 array of random int numbers between 20 and 50."
   ]
  },
  {
   "cell_type": "code",
   "execution_count": 3,
   "metadata": {
    "id": "19owhlhjAd_D"
   },
   "outputs": [
    {
     "data": {
      "text/plain": [
       "array([[34, 20, 43, 29],\n",
       "       [31, 20, 34, 36],\n",
       "       [20, 24, 25, 46]])"
      ]
     },
     "execution_count": 3,
     "metadata": {},
     "output_type": "execute_result"
    }
   ],
   "source": [
    "# YOUR CODE IS HERE\n",
    "ud= np.random.randint(20, 50, size=(3, 4))\n",
    "ud\n"
   ]
  },
  {
   "cell_type": "raw",
   "metadata": {
    "id": "q0N-LgQ0bbD2"
   },
   "source": [
    "Desired Output (WATCH OUT! Your output will probably NOT be the same as the one below due to randomization):\n",
    "\n",
    "array([[33, 39, 47, 26],\n",
    "       [41, 20, 32, 23],\n",
    "       [25, 22, 41, 28]])"
   ]
  },
  {
   "cell_type": "markdown",
   "metadata": {
    "id": "XpsHE5BsAd_E"
   },
   "source": [
    "### 13. Create an array named \"ranarr\"consisting of randomly 48 numbers and reshape this array with the shape of 6x8 in different ways."
   ]
  },
  {
   "cell_type": "code",
   "execution_count": 62,
   "metadata": {
    "id": "8DWl1ExmAd_E",
    "scrolled": true
   },
   "outputs": [
    {
     "data": {
      "text/plain": [
       "array([[32, 11, 22,  5, 18, 24,  9,  7],\n",
       "       [ 7, 26, 26, 17, 35, 38, 19, 38],\n",
       "       [33, 45, 25, 22,  8, 43, 40,  2],\n",
       "       [34, 13, 39, 32, 26, 42,  4, 35],\n",
       "       [22,  7, 23, 48, 28,  0, 39, 19],\n",
       "       [18, 34, 27,  6, 29, 19, 31, 21]])"
      ]
     },
     "execution_count": 62,
     "metadata": {},
     "output_type": "execute_result"
    }
   ],
   "source": [
    "# YOUR CODE IS HERE\n",
    "ranarr= np.random.randint(50,size=(6, 8))\n",
    "ranarr"
   ]
  },
  {
   "cell_type": "raw",
   "metadata": {
    "id": "jcbp1avHbbD3"
   },
   "source": [
    "Desired Output (WATCH OUT! Your output may NOT be the same as the one):\n",
    "\n",
    "array([ 6, 21, 18, 53, 38, 37, 30, 47, 19, 44, 29, 12, 14, 37, 24, 14, 16,\n",
    "       18,  3, 19, 19, 41, 28, 41,  3, 47,  4, 18, 27, 44, 15, 21,  5, 55,\n",
    "       38,  9,  5, 50, 15, 20,  7, 26, 45, 39, 37, 23,  6, 10])"
   ]
  },
  {
   "cell_type": "code",
   "execution_count": 68,
   "metadata": {
    "id": "3YxAvl1zAd_E",
    "scrolled": true
   },
   "outputs": [
    {
     "data": {
      "text/plain": [
       "array([[0.39051029, 0.50598252, 0.40221556, 0.01575099, 0.21172588,\n",
       "        0.40944256, 0.70255672, 0.38975339],\n",
       "       [0.0875853 , 0.90449267, 0.66024533, 0.9258798 , 0.56386905,\n",
       "        0.47912686, 0.48156757, 0.84420106],\n",
       "       [0.81227015, 0.88466253, 0.40524261, 0.19504961, 0.90232038,\n",
       "        0.93178792, 0.40898933, 0.97061659],\n",
       "       [0.46732828, 0.93981494, 0.87232533, 0.5509671 , 0.01442481,\n",
       "        0.704751  , 0.08418393, 0.46910561],\n",
       "       [0.2322055 , 0.10711246, 0.24842528, 0.74448679, 0.4124325 ,\n",
       "        0.42322558, 0.18248121, 0.67491644],\n",
       "       [0.8859324 , 0.83266598, 0.22484377, 0.20326037, 0.8710079 ,\n",
       "        0.1949816 , 0.83544479, 0.45452334]])"
      ]
     },
     "execution_count": 68,
     "metadata": {},
     "output_type": "execute_result"
    }
   ],
   "source": [
    "# YOUR CODE IS HERE (RESHAPING WITH NUM)\n",
    "\n",
    "ranarr = np.random.random(48)\n",
    "reshaped_array1 = ranarr.reshape(6, 8)\n",
    "reshaped_array1\n"
   ]
  },
  {
   "cell_type": "raw",
   "metadata": {
    "id": "CGTW2vQIbbD4"
   },
   "source": [
    "Desired Output (WATCH OUT! Your output may NOT be the same as the one):\n",
    "\n",
    "array([[ 6, 21, 18, 53, 38, 37, 30, 47],\n",
    "       [19, 44, 29, 12, 14, 37, 24, 14],\n",
    "       [16, 18,  3, 19, 19, 41, 28, 41],\n",
    "       [ 3, 47,  4, 18, 27, 44, 15, 21],\n",
    "       [ 5, 55, 38,  9,  5, 50, 15, 20],\n",
    "       [ 7, 26, 45, 39, 37, 23,  6, 10]])"
   ]
  },
  {
   "cell_type": "code",
   "execution_count": 70,
   "metadata": {
    "id": "5PJczaI-Ad_F"
   },
   "outputs": [
    {
     "name": "stdout",
     "output_type": "stream",
     "text": [
      "[[0.39051029 0.50598252 0.40221556 0.01575099 0.21172588 0.40944256\n",
      "  0.70255672 0.38975339]\n",
      " [0.0875853  0.90449267 0.66024533 0.9258798  0.56386905 0.47912686\n",
      "  0.48156757 0.84420106]\n",
      " [0.81227015 0.88466253 0.40524261 0.19504961 0.90232038 0.93178792\n",
      "  0.40898933 0.97061659]\n",
      " [0.46732828 0.93981494 0.87232533 0.5509671  0.01442481 0.704751\n",
      "  0.08418393 0.46910561]\n",
      " [0.2322055  0.10711246 0.24842528 0.74448679 0.4124325  0.42322558\n",
      "  0.18248121 0.67491644]\n",
      " [0.8859324  0.83266598 0.22484377 0.20326037 0.8710079  0.1949816\n",
      "  0.83544479 0.45452334]]\n"
     ]
    }
   ],
   "source": [
    "# YOUR CODE IS HERE (RESHAPING WITH -1)\n",
    "\n"
   ]
  },
  {
   "cell_type": "raw",
   "metadata": {
    "id": "njxA7L4ebbD4"
   },
   "source": [
    "Desired Output (WATCH OUT! Your output may NOT be the same as the one):\n",
    "\n",
    "array([[ 6, 21, 18, 53, 38, 37, 30, 47],\n",
    "       [19, 44, 29, 12, 14, 37, 24, 14],\n",
    "       [16, 18,  3, 19, 19, 41, 28, 41],\n",
    "       [ 3, 47,  4, 18, 27, 44, 15, 21],\n",
    "       [ 5, 55, 38,  9,  5, 50, 15, 20],\n",
    "       [ 7, 26, 45, 39, 37, 23,  6, 10]])"
   ]
  },
  {
   "cell_type": "code",
   "execution_count": 71,
   "metadata": {
    "id": "C5AXPQS-bbD4"
   },
   "outputs": [
    {
     "name": "stdout",
     "output_type": "stream",
     "text": [
      "[[0.39051029 0.50598252 0.40221556 0.01575099 0.21172588 0.40944256\n",
      "  0.70255672 0.38975339]\n",
      " [0.0875853  0.90449267 0.66024533 0.9258798  0.56386905 0.47912686\n",
      "  0.48156757 0.84420106]\n",
      " [0.81227015 0.88466253 0.40524261 0.19504961 0.90232038 0.93178792\n",
      "  0.40898933 0.97061659]\n",
      " [0.46732828 0.93981494 0.87232533 0.5509671  0.01442481 0.704751\n",
      "  0.08418393 0.46910561]\n",
      " [0.2322055  0.10711246 0.24842528 0.74448679 0.4124325  0.42322558\n",
      "  0.18248121 0.67491644]\n",
      " [0.8859324  0.83266598 0.22484377 0.20326037 0.8710079  0.1949816\n",
      "  0.83544479 0.45452334]]\n"
     ]
    }
   ],
   "source": [
    "# YOUR CODE IS HERE (RESHAPING WITH -1)\n",
    "reshaped_array2 = ranarr.reshape(6, -1)\n",
    "print(reshaped_array2)\n"
   ]
  },
  {
   "cell_type": "raw",
   "metadata": {
    "id": "dVoy5WgibbD4"
   },
   "source": [
    "Desired Output (WATCH OUT! Your output may NOT be the same as the one):\n",
    "\n",
    "array([[ 6, 21, 18, 53, 38, 37, 30, 47],\n",
    "       [19, 44, 29, 12, 14, 37, 24, 14],\n",
    "       [16, 18,  3, 19, 19, 41, 28, 41],\n",
    "       [ 3, 47,  4, 18, 27, 44, 15, 21],\n",
    "       [ 5, 55, 38,  9,  5, 50, 15, 20],\n",
    "       [ 7, 26, 45, 39, 37, 23,  6, 10]])"
   ]
  },
  {
   "cell_type": "markdown",
   "metadata": {
    "id": "jB4suWaXAd_F"
   },
   "source": [
    "## Numpy Indexing and Selection"
   ]
  },
  {
   "cell_type": "markdown",
   "metadata": {
    "id": "A6SXueUJbbD5"
   },
   "source": [
    "### Create an array named \"mat\" in accordence with the desired output below."
   ]
  },
  {
   "cell_type": "code",
   "execution_count": 40,
   "metadata": {
    "id": "x2zNGxNkAd_F"
   },
   "outputs": [
    {
     "data": {
      "text/plain": [
       "array([[ 1,  2,  3,  4],\n",
       "       [ 5,  6,  7,  8],\n",
       "       [ 9, 10, 11, 12],\n",
       "       [13, 14, 15, 16]])"
      ]
     },
     "execution_count": 40,
     "metadata": {},
     "output_type": "execute_result"
    }
   ],
   "source": [
    "# YOUR CODE IS HERE\n",
    "mat= np.arange(1,17).reshape(4,4)\n",
    "mat"
   ]
  },
  {
   "cell_type": "raw",
   "metadata": {
    "id": "lw2-Sj_dbbD5"
   },
   "source": [
    "Desired Output:\n",
    "\n",
    "array([[ 1,  2,  3,  4],\n",
    "       [ 5,  6,  7,  8],\n",
    "       [ 9, 10, 11, 12],\n",
    "       [13, 14, 15, 16]])"
   ]
  },
  {
   "cell_type": "markdown",
   "metadata": {
    "id": "wyNXBC0GAd_G"
   },
   "source": [
    "### 14. Using the array above, write a code that reproduces the desired output shown below.<br>"
   ]
  },
  {
   "cell_type": "code",
   "execution_count": 41,
   "metadata": {
    "id": "k6FmQqjxAd_G"
   },
   "outputs": [
    {
     "data": {
      "text/plain": [
       "array([[ 6,  7],\n",
       "       [10, 11]])"
      ]
     },
     "execution_count": 41,
     "metadata": {},
     "output_type": "execute_result"
    }
   ],
   "source": [
    "# YOUR CODE IS HERE\n",
    "sliced = mat[1:3, 1:3]\n",
    "sliced"
   ]
  },
  {
   "cell_type": "raw",
   "metadata": {
    "id": "1IcelID5bbD5"
   },
   "source": [
    "Desired Output:\n",
    "\n",
    "array([[ 6,  7],\n",
    "       [10, 11]])"
   ]
  },
  {
   "cell_type": "markdown",
   "metadata": {
    "id": "bUShSGkJAd_G"
   },
   "source": [
    "### 15. Get the 1st column (index number 0) of the array above."
   ]
  },
  {
   "cell_type": "code",
   "execution_count": 20,
   "metadata": {
    "id": "Wv7YR2drAd_G"
   },
   "outputs": [
    {
     "data": {
      "text/plain": [
       "array([ 1,  5,  9, 13])"
      ]
     },
     "execution_count": 20,
     "metadata": {},
     "output_type": "execute_result"
    }
   ],
   "source": [
    "# YOUR CODE IS HERE\n",
    "fc= mat[:,0]\n",
    "fc"
   ]
  },
  {
   "cell_type": "raw",
   "metadata": {
    "id": "dU2rWSKkbbD5"
   },
   "source": [
    "Desired Output:\n",
    "\n",
    "array([ 1,  5,  9, 13])"
   ]
  },
  {
   "cell_type": "markdown",
   "metadata": {
    "id": "GGdWljRJAd_H"
   },
   "source": [
    "### 16. Get the values in 2nd row (index number 1) for every 2 step."
   ]
  },
  {
   "cell_type": "code",
   "execution_count": 21,
   "metadata": {},
   "outputs": [
    {
     "data": {
      "text/plain": [
       "array([[ 1,  2,  3,  4],\n",
       "       [ 5,  6,  7,  8],\n",
       "       [ 9, 10, 11, 12],\n",
       "       [13, 14, 15, 16]])"
      ]
     },
     "execution_count": 21,
     "metadata": {},
     "output_type": "execute_result"
    }
   ],
   "source": [
    "mat\n"
   ]
  },
  {
   "cell_type": "code",
   "execution_count": 22,
   "metadata": {
    "id": "7e6tP0NlAd_H"
   },
   "outputs": [
    {
     "data": {
      "text/plain": [
       "array([5, 7])"
      ]
     },
     "execution_count": 22,
     "metadata": {},
     "output_type": "execute_result"
    }
   ],
   "source": [
    "# YOUR CODE IS HERE\n",
    "step= mat[1, ::2]\n",
    "step"
   ]
  },
  {
   "cell_type": "raw",
   "metadata": {
    "id": "o-gR0BgXbbD6"
   },
   "source": [
    "Desired Output:\n",
    "\n",
    "array([5, 7])"
   ]
  },
  {
   "cell_type": "markdown",
   "metadata": {
    "id": "aANYlDooAd_H"
   },
   "source": [
    "### 17.Assign 77 to every cell in 3rd column."
   ]
  },
  {
   "cell_type": "code",
   "execution_count": 42,
   "metadata": {
    "id": "oy5AxrK1Ad_I"
   },
   "outputs": [
    {
     "data": {
      "text/plain": [
       "array([[ 1,  2, 77,  4],\n",
       "       [ 5,  6, 77,  8],\n",
       "       [ 9, 10, 77, 12],\n",
       "       [13, 14, 77, 16]])"
      ]
     },
     "execution_count": 42,
     "metadata": {},
     "output_type": "execute_result"
    }
   ],
   "source": [
    "# YOUR CODE IS HERE\n",
    "mat[::,2]=77\n",
    "mat"
   ]
  },
  {
   "cell_type": "raw",
   "metadata": {
    "id": "p91ecaSrbbD6"
   },
   "source": [
    "Desired Output:\n",
    "\n",
    "array([[ 1,  2, 77,  4],\n",
    "       [ 5,  6, 77,  8],\n",
    "       [ 9, 10, 77, 12],\n",
    "       [13, 14, 77, 16]])"
   ]
  },
  {
   "cell_type": "markdown",
   "metadata": {
    "id": "OsrIo34xAd_I"
   },
   "source": [
    "### 18. (a) Take 2nd row (index number 1) and 1st column (index number 0) , (b) 4th row (index number 3) and 3rd column (index number 2) ."
   ]
  },
  {
   "cell_type": "code",
   "execution_count": 24,
   "metadata": {},
   "outputs": [],
   "source": [
    "a=mat[1,0],mat[3,2]"
   ]
  },
  {
   "cell_type": "code",
   "execution_count": 25,
   "metadata": {
    "id": "fESSmtPDAd_I"
   },
   "outputs": [
    {
     "data": {
      "text/plain": [
       "array([[ 5, 77]])"
      ]
     },
     "execution_count": 25,
     "metadata": {},
     "output_type": "execute_result"
    }
   ],
   "source": [
    "# YOUR CODE IS HERE\n",
    "son= np.array([a])\n",
    "son"
   ]
  },
  {
   "cell_type": "raw",
   "metadata": {
    "id": "D5dX-A27bbD6"
   },
   "source": [
    "Desired Output:\n",
    "\n",
    "array([ 5, 77])"
   ]
  },
  {
   "cell_type": "markdown",
   "metadata": {
    "id": "dsZDs5vjAd_J"
   },
   "source": [
    "### 19. Take between 2nd and last row with step 2 and between 1st and last column with step 2."
   ]
  },
  {
   "cell_type": "code",
   "execution_count": 26,
   "metadata": {
    "id": "0IW0GtfCAd_J"
   },
   "outputs": [
    {
     "data": {
      "text/plain": [
       "array([[ 5, 77],\n",
       "       [13, 77]])"
      ]
     },
     "execution_count": 26,
     "metadata": {},
     "output_type": "execute_result"
    }
   ],
   "source": [
    "# YOUR CODE IS HERE\n",
    "tod= mat[1::2, 0::2]\n",
    "tod\n"
   ]
  },
  {
   "cell_type": "raw",
   "metadata": {
    "id": "owEpuL8rbbD7"
   },
   "source": [
    "Desired Output:\n",
    "\n",
    "array([[ 5, 77],\n",
    "       [13, 77]])"
   ]
  },
  {
   "cell_type": "markdown",
   "metadata": {
    "id": "G1aoEVaJAd_J"
   },
   "source": [
    "## NumPy Operations"
   ]
  },
  {
   "cell_type": "markdown",
   "metadata": {
    "id": "2p7ZbeTLAd_K"
   },
   "source": [
    "### 20. Get the sum of values smaller than 10 and values bigger than 12 in \"mat\"."
   ]
  },
  {
   "cell_type": "code",
   "execution_count": 38,
   "metadata": {},
   "outputs": [
    {
     "data": {
      "text/plain": [
       "array([[[ True,  True,  True,  True],\n",
       "        [ True,  True,  True,  True],\n",
       "        [ True, False, False, False],\n",
       "        [False, False, False, False]]])"
      ]
     },
     "execution_count": 38,
     "metadata": {},
     "output_type": "execute_result"
    }
   ],
   "source": [
    "ok=np.array([mat < 10])\n",
    "ok"
   ]
  },
  {
   "cell_type": "code",
   "execution_count": 39,
   "metadata": {
    "id": "IBf3KzxBbbD7"
   },
   "outputs": [
    {
     "data": {
      "text/plain": [
       "45"
      ]
     },
     "execution_count": 39,
     "metadata": {},
     "output_type": "execute_result"
    }
   ],
   "source": [
    "# LET US REMEMBER OUR ARRAY OF \"mat\"\n",
    "\n",
    "# YOUR CODE IS HERE\n",
    "ondankucuk= np.sum(mat[mat < 10])\n",
    "ondankucuk\n"
   ]
  },
  {
   "cell_type": "code",
   "execution_count": 29,
   "metadata": {},
   "outputs": [
    {
     "data": {
      "text/plain": [
       "351"
      ]
     },
     "execution_count": 29,
     "metadata": {},
     "output_type": "execute_result"
    }
   ],
   "source": [
    "onikidenbuyuk=np.sum(mat[mat > 12])\n",
    "onikidenbuyuk"
   ]
  },
  {
   "cell_type": "raw",
   "metadata": {
    "id": "UC-qgSRTbbD7"
   },
   "source": [
    "Desired Output:\n",
    "\n",
    "array([[ 1,  2, 77,  4],\n",
    "       [ 5,  6, 77,  8],\n",
    "       [ 9, 10, 77, 12],\n",
    "       [13, 14, 77, 16]])"
   ]
  },
  {
   "cell_type": "code",
   "execution_count": 30,
   "metadata": {
    "id": "LD_0rzT6Ad_K"
   },
   "outputs": [
    {
     "data": {
      "text/plain": [
       "array([1, 2, 4, 5, 6, 8, 9])"
      ]
     },
     "execution_count": 30,
     "metadata": {},
     "output_type": "execute_result"
    }
   ],
   "source": [
    "# LET US FIND THE VALUES SMALLER THAN 10 IN \"mat\"\n",
    "\n",
    "# YOUR CODE IS HERE\n",
    "\n",
    "ok=np.array(mat[mat < 10])\n",
    "ok"
   ]
  },
  {
   "cell_type": "raw",
   "metadata": {
    "id": "umFKIIIVbbD7"
   },
   "source": [
    "Desired Output:\n",
    "\n",
    "array([1, 2, 4, 5, 6, 8, 9])"
   ]
  },
  {
   "cell_type": "code",
   "execution_count": 31,
   "metadata": {
    "id": "RIpotHKeAd_K"
   },
   "outputs": [
    {
     "data": {
      "text/plain": [
       "array([77, 77, 77, 13, 14, 77, 16])"
      ]
     },
     "execution_count": 31,
     "metadata": {},
     "output_type": "execute_result"
    }
   ],
   "source": [
    "# LET US FIND THE VALUES BIGGER THAN 12 IN \"mat\"\n",
    "\n",
    "# YOUR CODE IS HERE\n",
    "\n",
    "ooi=np.array(mat[mat > 12])\n",
    "ooi"
   ]
  },
  {
   "cell_type": "raw",
   "metadata": {
    "id": "yyWasCsqbbD7"
   },
   "source": [
    "Desired Output:\n",
    "\n",
    "array([77, 77, 77, 13, 14, 77, 16])"
   ]
  },
  {
   "cell_type": "code",
   "execution_count": 45,
   "metadata": {
    "id": "m4XkRQFiAd_K"
   },
   "outputs": [
    {
     "name": "stdout",
     "output_type": "stream",
     "text": [
      "Total sum of values smaller than 10 and bigger than 12: 103\n"
     ]
    }
   ],
   "source": [
    "# LET US SUM THE VALUES SMALLER THAN 10 AND BIGGER THAN 12 IN \"mat\"\n",
    "\n",
    "# YOUR CODE IS HERE\n",
    "\n",
    "\n",
    "sum_smaller_than_10 = np.sum(mat[mat < 10])\n",
    "\n",
    "\n",
    "sum_bigger_than_12 = np.sum(mat[mat > 12])\n",
    "\n",
    "# Total sum\n",
    "total_sum = sum_smaller_than_10 + sum_bigger_than_12\n",
    "print(\"Total sum of values smaller than 10 and bigger than 12:\", total_sum)"
   ]
  },
  {
   "cell_type": "raw",
   "metadata": {
    "id": "MqQqfVihbbD8"
   },
   "source": [
    "Desired Output:\n",
    "\n",
    "array([78, 79, 81, 18, 20, 85, 25])"
   ]
  },
  {
   "cell_type": "markdown",
   "metadata": {
    "id": "adWvgD-oAd_L"
   },
   "source": [
    "### 21. Get the standard deviation (std) of the result above."
   ]
  },
  {
   "cell_type": "code",
   "execution_count": 44,
   "metadata": {},
   "outputs": [
    {
     "data": {
      "text/plain": [
       "array([ 1,  2,  3,  4,  5,  6,  7,  8,  9, 13, 14, 15, 16])"
      ]
     },
     "execution_count": 44,
     "metadata": {},
     "output_type": "execute_result"
    }
   ],
   "source": [
    "values_to_consider = np.concatenate((mat[mat < 10], mat[mat > 12]))\n",
    "values_to_consider"
   ]
  },
  {
   "cell_type": "code",
   "execution_count": null,
   "metadata": {},
   "outputs": [],
   "source": []
  },
  {
   "cell_type": "code",
   "execution_count": null,
   "metadata": {},
   "outputs": [],
   "source": []
  },
  {
   "cell_type": "code",
   "execution_count": 43,
   "metadata": {
    "id": "96DAIF1fAd_L"
   },
   "outputs": [
    {
     "name": "stdout",
     "output_type": "stream",
     "text": [
      "Standard deviation of the values: 4.921874853245043\n"
     ]
    }
   ],
   "source": [
    "# YOUR CODE IS HERE\n",
    "\n"
   ]
  },
  {
   "cell_type": "raw",
   "metadata": {
    "id": "wU2x44IubbD9"
   },
   "source": [
    "Desired Output:\n",
    "\n",
    "29.700546274093877"
   ]
  },
  {
   "cell_type": "markdown",
   "metadata": {
    "id": "FkhK2cOqAd_L"
   },
   "source": [
    "### 22. Get the sum of the 2nd column in the original \"mat\"."
   ]
  },
  {
   "cell_type": "code",
   "execution_count": 14,
   "metadata": {
    "id": "XDQqGSzkAd_M"
   },
   "outputs": [
    {
     "data": {
      "text/plain": [
       "array([[ 1,  2, 77,  4],\n",
       "       [ 5,  6, 77,  8],\n",
       "       [ 9, 10, 77, 12],\n",
       "       [13, 14, 77, 16]])"
      ]
     },
     "execution_count": 14,
     "metadata": {},
     "output_type": "execute_result"
    }
   ],
   "source": [
    "# LET US REMEMBER OUR ARRAY OF \"mat\"\n",
    "\n",
    "# YOUR CODE IS HERE\n",
    "mat[::,2]=77\n",
    "mat"
   ]
  },
  {
   "cell_type": "raw",
   "metadata": {
    "id": "OghqqpP4bbD9"
   },
   "source": [
    "Desired Output:\n",
    "\n",
    "array([[ 1,  2, 77,  4],\n",
    "       [ 5,  6, 77,  8],\n",
    "       [ 9, 10, 77, 12],\n",
    "       [13, 14, 77, 16]])"
   ]
  },
  {
   "cell_type": "code",
   "execution_count": 47,
   "metadata": {
    "id": "qNeP5ttGAd_M"
   },
   "outputs": [
    {
     "data": {
      "text/plain": [
       "array([[ 1,  2,  3,  4],\n",
       "       [ 5,  6,  7,  8],\n",
       "       [ 9, 10, 11, 12],\n",
       "       [13, 14, 15, 16]])"
      ]
     },
     "execution_count": 47,
     "metadata": {},
     "output_type": "execute_result"
    }
   ],
   "source": [
    "# LET OBTAIN THE ORIGINAL ARRAY OF \"mat\"\n",
    "\n",
    "# YOUR CODE IS HERE\n",
    "\n",
    "mat = np.arange(1, 17).reshape(4, 4)\n",
    "mat"
   ]
  },
  {
   "cell_type": "raw",
   "metadata": {
    "id": "oLiipgBWbbD9"
   },
   "source": [
    "Desired Output:\n",
    "\n",
    "array([[ 1,  2,  3,  4],\n",
    "       [ 5,  6,  7,  8],\n",
    "       [ 9, 10, 11, 12],\n",
    "       [13, 14, 15, 16]])"
   ]
  },
  {
   "cell_type": "code",
   "execution_count": 49,
   "metadata": {
    "id": "xzqyV2SZAd_M",
    "scrolled": true
   },
   "outputs": [
    {
     "data": {
      "text/plain": [
       "32"
      ]
     },
     "execution_count": 49,
     "metadata": {},
     "output_type": "execute_result"
    }
   ],
   "source": [
    "# YOUR CODE IS HERE\n",
    "mat[3,3]*2\n"
   ]
  },
  {
   "cell_type": "raw",
   "metadata": {
    "id": "v9TL0YlTbbD9"
   },
   "source": [
    "Desired Output:\n",
    "\n",
    "32"
   ]
  },
  {
   "cell_type": "markdown",
   "metadata": {
    "id": "kCQ1GvPUAd_N"
   },
   "source": [
    "### 23. Get the median, mean and std of 3rd column in \"mat\"."
   ]
  },
  {
   "cell_type": "code",
   "execution_count": 50,
   "metadata": {
    "id": "NDLT7dBKbbD-"
   },
   "outputs": [
    {
     "data": {
      "text/plain": [
       "array([[ 1,  2,  3,  4],\n",
       "       [ 5,  6,  7,  8],\n",
       "       [ 9, 10, 11, 12],\n",
       "       [13, 14, 15, 16]])"
      ]
     },
     "execution_count": 50,
     "metadata": {},
     "output_type": "execute_result"
    }
   ],
   "source": [
    "# LET US REMEMBER OUR ARRAY OF \"mat\"\n",
    "\n",
    "# YOUR CODE IS HERE\n",
    "\n",
    "mat"
   ]
  },
  {
   "cell_type": "raw",
   "metadata": {
    "id": "-mZ1QRD3bbD-"
   },
   "source": [
    "Desired Output:\n",
    "\n",
    "array([[ 1,  2,  3,  4],\n",
    "       [ 5,  6,  7,  8],\n",
    "       [ 9, 10, 11, 12],\n",
    "       [13, 14, 15, 16]])"
   ]
  },
  {
   "cell_type": "code",
   "execution_count": 53,
   "metadata": {
    "id": "GmfBsuJPbbD-"
   },
   "outputs": [
    {
     "data": {
      "text/plain": [
       "array([[ 3],\n",
       "       [ 7],\n",
       "       [11],\n",
       "       [15]])"
      ]
     },
     "execution_count": 53,
     "metadata": {},
     "output_type": "execute_result"
    }
   ],
   "source": [
    "# LET US ASSIGN THE COLUMN WE ARE INTERESTED IN TO A VARIABLE\n",
    "\n",
    "# YOUR CODE IS HERE\n",
    "mat[:,2].reshape(4,1)\n"
   ]
  },
  {
   "cell_type": "raw",
   "metadata": {
    "id": "umI2mMNfbbD-"
   },
   "source": [
    "Desired Output:\n",
    "\n",
    "array([[ 3],\n",
    "       [ 7],\n",
    "       [11],\n",
    "       [15]])"
   ]
  },
  {
   "cell_type": "code",
   "execution_count": 56,
   "metadata": {
    "id": "d_DGwW6xbbD-"
   },
   "outputs": [
    {
     "data": {
      "text/plain": [
       "array([ 9, 10, 11, 12])"
      ]
     },
     "execution_count": 56,
     "metadata": {},
     "output_type": "execute_result"
    }
   ],
   "source": [
    "# WHAT IF WE ARE INTERESTED IN THE 3RD ROW?\n",
    "\n",
    "# YOUR CODE IS HERE\n",
    "\n",
    "mat[2]"
   ]
  },
  {
   "cell_type": "raw",
   "metadata": {
    "id": "S-egBgcCbbD-"
   },
   "source": [
    "Desired Output:\n",
    "\n",
    "array([ 9, 10, 11, 12])"
   ]
  },
  {
   "cell_type": "code",
   "execution_count": 65,
   "metadata": {
    "id": "OX4fqkipAd_N"
   },
   "outputs": [
    {
     "name": "stdout",
     "output_type": "stream",
     "text": [
      "9.0\n"
     ]
    },
    {
     "data": {
      "text/plain": [
       "10.5"
      ]
     },
     "execution_count": 65,
     "metadata": {},
     "output_type": "execute_result"
    }
   ],
   "source": [
    "# LET US GET MEDIAN VALUE\n",
    "\n",
    "# YOUR CODE IS HERE\n",
    "media_one= np.median(mat[:,2])\n",
    "media_two= np.median(mat[2])\n",
    "print(media_one)\n",
    "media_two\n"
   ]
  },
  {
   "cell_type": "raw",
   "metadata": {
    "id": "LCVoTshPbbD_"
   },
   "source": [
    "Desired Output:\n",
    "\n",
    "9.0\n",
    "10.5"
   ]
  },
  {
   "cell_type": "code",
   "execution_count": 66,
   "metadata": {
    "id": "oZpsC7rFAd_N"
   },
   "outputs": [
    {
     "name": "stdout",
     "output_type": "stream",
     "text": [
      "9.0\n"
     ]
    },
    {
     "data": {
      "text/plain": [
       "10.5"
      ]
     },
     "execution_count": 66,
     "metadata": {},
     "output_type": "execute_result"
    }
   ],
   "source": [
    "# LET US GET MEAN VALUE\n",
    "\n",
    "# YOUR CODE IS HERE\n",
    "\n",
    "medi_one= np.mean(mat[:,2])\n",
    "medi_two= np.mean(mat[2])\n",
    "print(medi_one)\n",
    "medi_two"
   ]
  },
  {
   "cell_type": "raw",
   "metadata": {
    "id": "AOaME1zQbbD_"
   },
   "source": [
    "Desired Output:\n",
    "\n",
    "9.0\n",
    "10.5"
   ]
  },
  {
   "cell_type": "code",
   "execution_count": 67,
   "metadata": {
    "id": "g8bveYJuAd_O"
   },
   "outputs": [
    {
     "name": "stdout",
     "output_type": "stream",
     "text": [
      "4.47213595499958\n"
     ]
    },
    {
     "data": {
      "text/plain": [
       "1.118033988749895"
      ]
     },
     "execution_count": 67,
     "metadata": {},
     "output_type": "execute_result"
    }
   ],
   "source": [
    "# LET US GET STANDART DEVIATION (std) VALUE\n",
    "\n",
    "# YOUR CODE IS HERE\n",
    "mei_one= np.std(mat[:,2])\n",
    "mei_two= np.std(mat[2])\n",
    "print(mei_one)\n",
    "mei_two\n"
   ]
  },
  {
   "cell_type": "raw",
   "metadata": {
    "id": "v0rULud6bbD_"
   },
   "source": [
    "Desired Output:\n",
    "\n",
    "4.47213595499958\n",
    "1.118033988749895"
   ]
  },
  {
   "cell_type": "markdown",
   "metadata": {
    "collapsed": true,
    "id": "gZ5HUfC4Ad_O",
    "jupyter": {
     "outputs_hidden": true
    }
   },
   "source": [
    "## <p style=\"background-color:#9d4f8c; font-family:newtimeroman; color:#FFF9ED; font-size:175%; text-align:center; border-radius:10px 10px;\">Pandas Section</p>\n",
    "\n",
    "<a id=\"1\"></a>\n",
    "<a href=\"#toc\" class=\"btn btn-primary btn-sm\" role=\"button\" aria-pressed=\"true\"\n",
    "style=\"color:blue; background-color:#dfa8e4\" data-toggle=\"popover\">Content</a>"
   ]
  },
  {
   "cell_type": "markdown",
   "metadata": {
    "id": "vQuiH4T8bbEA"
   },
   "source": [
    "### Import Pandas Library"
   ]
  },
  {
   "cell_type": "code",
   "execution_count": 68,
   "metadata": {
    "id": "lrbS4u52Ad_P"
   },
   "outputs": [],
   "source": [
    "import pandas as pd"
   ]
  },
  {
   "cell_type": "markdown",
   "metadata": {
    "id": "eacrpv_7Ad_P"
   },
   "source": [
    "### Read Salaries.csv and take a look at the first 5 rows, df info and df statistical measurements.*"
   ]
  },
  {
   "cell_type": "markdown",
   "metadata": {
    "id": "RHEXcRH_b9Y-"
   },
   "source": [
    "[pandas.read_csv() function --> (pandas official document)](https://pandas.pydata.org/docs/reference/api/pandas.read_csv.html)"
   ]
  },
  {
   "cell_type": "code",
   "execution_count": 99,
   "metadata": {
    "id": "pizKpWqtbigy"
   },
   "outputs": [
    {
     "name": "stdout",
     "output_type": "stream",
     "text": [
      "Collecting py7zr\n",
      "  Downloading py7zr-0.22.0-py3-none-any.whl.metadata (16 kB)\n",
      "Collecting texttable (from py7zr)\n",
      "  Downloading texttable-1.7.0-py2.py3-none-any.whl.metadata (9.8 kB)\n",
      "Collecting pycryptodomex>=3.16.0 (from py7zr)\n",
      "  Downloading pycryptodomex-3.21.0-cp36-abi3-win_amd64.whl.metadata (3.4 kB)\n",
      "Collecting pyzstd>=0.15.9 (from py7zr)\n",
      "  Downloading pyzstd-0.16.2-cp312-cp312-win_amd64.whl.metadata (2.5 kB)\n",
      "Collecting pyppmd<1.2.0,>=1.1.0 (from py7zr)\n",
      "  Downloading pyppmd-1.1.0-cp312-cp312-win_amd64.whl.metadata (5.8 kB)\n",
      "Collecting pybcj<1.1.0,>=1.0.0 (from py7zr)\n",
      "  Downloading pybcj-1.0.2-cp312-cp312-win_amd64.whl.metadata (4.1 kB)\n",
      "Collecting multivolumefile>=0.2.3 (from py7zr)\n",
      "  Downloading multivolumefile-0.2.3-py3-none-any.whl.metadata (6.3 kB)\n",
      "Collecting inflate64<1.1.0,>=1.0.0 (from py7zr)\n",
      "  Downloading inflate64-1.0.0-cp312-cp312-win_amd64.whl.metadata (4.1 kB)\n",
      "Collecting brotli>=1.1.0 (from py7zr)\n",
      "  Downloading Brotli-1.1.0-cp312-cp312-win_amd64.whl.metadata (5.6 kB)\n",
      "Requirement already satisfied: psutil in c:\\users\\eyp\\.ipython\\lib\\site-packages (from py7zr) (5.9.0)\n",
      "Downloading py7zr-0.22.0-py3-none-any.whl (67 kB)\n",
      "   ---------------------------------------- 0.0/67.9 kB ? eta -:--:--\n",
      "   ------------------ --------------------- 30.7/67.9 kB 660.6 kB/s eta 0:00:01\n",
      "   ---------------------------------------- 67.9/67.9 kB 739.3 kB/s eta 0:00:00\n",
      "Downloading Brotli-1.1.0-cp312-cp312-win_amd64.whl (357 kB)\n",
      "   ---------------------------------------- 0.0/357.3 kB ? eta -:--:--\n",
      "   --- ------------------------------------ 30.7/357.3 kB 1.3 MB/s eta 0:00:01\n",
      "   ------- ------------------------------- 71.7/357.3 kB 787.7 kB/s eta 0:00:01\n",
      "   ----------- -------------------------- 112.6/357.3 kB 939.4 kB/s eta 0:00:01\n",
      "   --------------- ---------------------- 143.4/357.3 kB 853.3 kB/s eta 0:00:01\n",
      "   -------------------- ----------------- 194.6/357.3 kB 908.0 kB/s eta 0:00:01\n",
      "   ----------------------- -------------- 225.3/357.3 kB 860.2 kB/s eta 0:00:01\n",
      "   --------------------------- ---------- 256.0/357.3 kB 874.6 kB/s eta 0:00:01\n",
      "   ------------------------------ ------- 286.7/357.3 kB 842.9 kB/s eta 0:00:01\n",
      "   --------------------------------- ---- 317.4/357.3 kB 855.7 kB/s eta 0:00:01\n",
      "   -------------------------------------- 357.3/357.3 kB 854.7 kB/s eta 0:00:00\n",
      "Downloading inflate64-1.0.0-cp312-cp312-win_amd64.whl (35 kB)\n",
      "Downloading multivolumefile-0.2.3-py3-none-any.whl (17 kB)\n",
      "Downloading pybcj-1.0.2-cp312-cp312-win_amd64.whl (24 kB)\n",
      "Downloading pycryptodomex-3.21.0-cp36-abi3-win_amd64.whl (1.8 MB)\n",
      "   ---------------------------------------- 0.0/1.8 MB ? eta -:--:--\n",
      "    --------------------------------------- 0.0/1.8 MB 1.3 MB/s eta 0:00:02\n",
      "   - -------------------------------------- 0.1/1.8 MB 812.7 kB/s eta 0:00:03\n",
      "   -- ------------------------------------- 0.1/1.8 MB 871.5 kB/s eta 0:00:02\n",
      "   --- ------------------------------------ 0.1/1.8 MB 853.3 kB/s eta 0:00:02\n",
      "   --- ------------------------------------ 0.2/1.8 MB 871.5 kB/s eta 0:00:02\n",
      "   ---- ----------------------------------- 0.2/1.8 MB 827.9 kB/s eta 0:00:02\n",
      "   ----- ---------------------------------- 0.2/1.8 MB 846.9 kB/s eta 0:00:02\n",
      "   ------ --------------------------------- 0.3/1.8 MB 850.6 kB/s eta 0:00:02\n",
      "   ------ --------------------------------- 0.3/1.8 MB 853.3 kB/s eta 0:00:02\n",
      "   ------- -------------------------------- 0.3/1.8 MB 864.2 kB/s eta 0:00:02\n",
      "   -------- ------------------------------- 0.4/1.8 MB 859.0 kB/s eta 0:00:02\n",
      "   --------- ------------------------------ 0.4/1.8 MB 865.6 kB/s eta 0:00:02\n",
      "   ---------- ----------------------------- 0.5/1.8 MB 848.5 kB/s eta 0:00:02\n",
      "   ---------- ----------------------------- 0.5/1.8 MB 836.7 kB/s eta 0:00:02\n",
      "   ----------- ---------------------------- 0.5/1.8 MB 862.0 kB/s eta 0:00:02\n",
      "   ------------ --------------------------- 0.6/1.8 MB 842.9 kB/s eta 0:00:02\n",
      "   ------------- -------------------------- 0.6/1.8 MB 863.3 kB/s eta 0:00:02\n",
      "   ------------- -------------------------- 0.6/1.8 MB 849.9 kB/s eta 0:00:02\n",
      "   -------------- ------------------------- 0.7/1.8 MB 855.6 kB/s eta 0:00:02\n",
      "   --------------- ------------------------ 0.7/1.8 MB 860.8 kB/s eta 0:00:02\n",
      "   ---------------- ----------------------- 0.7/1.8 MB 849.3 kB/s eta 0:00:02\n",
      "   ---------------- ----------------------- 0.8/1.8 MB 866.0 kB/s eta 0:00:02\n",
      "   ----------------- ---------------------- 0.8/1.8 MB 855.2 kB/s eta 0:00:02\n",
      "   ------------------ --------------------- 0.8/1.8 MB 866.5 kB/s eta 0:00:02\n",
      "   ------------------- -------------------- 0.9/1.8 MB 856.7 kB/s eta 0:00:02\n",
      "   -------------------- ------------------- 0.9/1.8 MB 860.7 kB/s eta 0:00:02\n",
      "   -------------------- ------------------- 0.9/1.8 MB 851.8 kB/s eta 0:00:02\n",
      "   --------------------- ------------------ 1.0/1.8 MB 855.6 kB/s eta 0:00:01\n",
      "   ---------------------- ----------------- 1.0/1.8 MB 868.1 kB/s eta 0:00:01\n",
      "   ----------------------- ---------------- 1.0/1.8 MB 859.7 kB/s eta 0:00:01\n",
      "   ----------------------- ---------------- 1.1/1.8 MB 852.0 kB/s eta 0:00:01\n",
      "   ------------------------ --------------- 1.1/1.8 MB 860.6 kB/s eta 0:00:01\n",
      "   ------------------------- -------------- 1.2/1.8 MB 853.3 kB/s eta 0:00:01\n",
      "   -------------------------- ------------- 1.2/1.8 MB 856.4 kB/s eta 0:00:01\n",
      "   --------------------------- ------------ 1.2/1.8 MB 864.1 kB/s eta 0:00:01\n",
      "   --------------------------- ------------ 1.3/1.8 MB 857.4 kB/s eta 0:00:01\n",
      "   ----------------------------- ---------- 1.4/1.8 MB 850.1 kB/s eta 0:00:01\n",
      "   ------------------------------ --------- 1.4/1.8 MB 852.3 kB/s eta 0:00:01\n",
      "   ------------------------------- -------- 1.4/1.8 MB 859.5 kB/s eta 0:00:01\n",
      "   -------------------------------- ------- 1.5/1.8 MB 853.8 kB/s eta 0:00:01\n",
      "   --------------------------------- ------ 1.5/1.8 MB 861.7 kB/s eta 0:00:01\n",
      "   --------------------------------- ------ 1.5/1.8 MB 856.7 kB/s eta 0:00:01\n",
      "   ---------------------------------- ----- 1.6/1.8 MB 858.5 kB/s eta 0:00:01\n",
      "   ----------------------------------- ---- 1.6/1.8 MB 860.7 kB/s eta 0:00:01\n",
      "   ----------------------------------- ---- 1.6/1.8 MB 855.6 kB/s eta 0:00:01\n",
      "   ------------------------------------ --- 1.7/1.8 MB 863.1 kB/s eta 0:00:01\n",
      "   ------------------------------------- -- 1.7/1.8 MB 858.1 kB/s eta 0:00:01\n",
      "   -------------------------------------- - 1.7/1.8 MB 853.3 kB/s eta 0:00:01\n",
      "   -------------------------------------- - 1.7/1.8 MB 853.3 kB/s eta 0:00:01\n",
      "   ---------------------------------------  1.8/1.8 MB 854.1 kB/s eta 0:00:01\n",
      "   ---------------------------------------- 1.8/1.8 MB 849.9 kB/s eta 0:00:00\n",
      "Downloading pyppmd-1.1.0-cp312-cp312-win_amd64.whl (46 kB)\n",
      "   ---------------------------------------- 0.0/46.2 kB ? eta -:--:--\n",
      "   -------------------------- ------------- 30.7/46.2 kB 1.3 MB/s eta 0:00:01\n",
      "   ---------------------------------------- 46.2/46.2 kB 765.0 kB/s eta 0:00:00\n",
      "Downloading pyzstd-0.16.2-cp312-cp312-win_amd64.whl (245 kB)\n",
      "   ---------------------------------------- 0.0/245.3 kB ? eta -:--:--\n",
      "   ---- ---------------------------------- 30.7/245.3 kB 640.0 kB/s eta 0:00:01\n",
      "   --------- ----------------------------- 61.4/245.3 kB 656.4 kB/s eta 0:00:01\n",
      "   -------------- ------------------------ 92.2/245.3 kB 871.5 kB/s eta 0:00:01\n",
      "   ------------------- ------------------ 122.9/245.3 kB 798.9 kB/s eta 0:00:01\n",
      "   -------------------------- ----------- 174.1/245.3 kB 871.5 kB/s eta 0:00:01\n",
      "   ------------------------------- ------ 204.8/245.3 kB 827.9 kB/s eta 0:00:01\n",
      "   ------------------------------------ - 235.5/245.3 kB 846.9 kB/s eta 0:00:01\n",
      "   ------------------------------------ - 235.5/245.3 kB 846.9 kB/s eta 0:00:01\n",
      "   -------------------------------------- 245.3/245.3 kB 653.0 kB/s eta 0:00:00\n",
      "Downloading texttable-1.7.0-py2.py3-none-any.whl (10 kB)\n",
      "Installing collected packages: texttable, brotli, pyzstd, pyppmd, pycryptodomex, pybcj, multivolumefile, inflate64, py7zr\n",
      "  Attempting uninstall: brotli\n",
      "    Found existing installation: Brotli 1.0.9\n",
      "    Uninstalling Brotli-1.0.9:\n",
      "      Successfully uninstalled Brotli-1.0.9\n",
      "Successfully installed brotli-1.1.0 inflate64-1.0.0 multivolumefile-0.2.3 py7zr-0.22.0 pybcj-1.0.2 pycryptodomex-3.21.0 pyppmd-1.1.0 pyzstd-0.16.2 texttable-1.7.0\n"
     ]
    },
    {
     "name": "stderr",
     "output_type": "stream",
     "text": [
      "  WARNING: Failed to remove contents in a temporary directory 'C:\\Users\\EYP\\AppData\\Local\\Temp\\pip-uninstall-2daprtcm'.\n",
      "  You can safely remove it manually.\n"
     ]
    }
   ],
   "source": [
    "!pip install py7zr\n",
    "\n",
    "import py7zr\n",
    "with py7zr.SevenZipFile('Salaries.7z', mode='r') as z:\n",
    "    z.extractall()"
   ]
  },
  {
   "cell_type": "code",
   "execution_count": 83,
   "metadata": {
    "id": "OP4b0LcTAd_P"
   },
   "outputs": [],
   "source": [
    "# LET US READ Salaries.csv\n",
    "\n",
    "df = pd.read_csv('Salaries.csv')\n"
   ]
  },
  {
   "cell_type": "code",
   "execution_count": 84,
   "metadata": {
    "id": "qc6Tt4loAd_Q"
   },
   "outputs": [
    {
     "data": {
      "text/html": [
       "<div>\n",
       "<style scoped>\n",
       "    .dataframe tbody tr th:only-of-type {\n",
       "        vertical-align: middle;\n",
       "    }\n",
       "\n",
       "    .dataframe tbody tr th {\n",
       "        vertical-align: top;\n",
       "    }\n",
       "\n",
       "    .dataframe thead th {\n",
       "        text-align: right;\n",
       "    }\n",
       "</style>\n",
       "<table border=\"1\" class=\"dataframe\">\n",
       "  <thead>\n",
       "    <tr style=\"text-align: right;\">\n",
       "      <th></th>\n",
       "      <th>Id</th>\n",
       "      <th>EmployeeName</th>\n",
       "      <th>JobTitle</th>\n",
       "      <th>BasePay</th>\n",
       "      <th>OvertimePay</th>\n",
       "      <th>OtherPay</th>\n",
       "      <th>Benefits</th>\n",
       "      <th>TotalPay</th>\n",
       "      <th>TotalPayBenefits</th>\n",
       "      <th>Year</th>\n",
       "      <th>Notes</th>\n",
       "      <th>Agency</th>\n",
       "      <th>Status</th>\n",
       "    </tr>\n",
       "  </thead>\n",
       "  <tbody>\n",
       "    <tr>\n",
       "      <th>0</th>\n",
       "      <td>1</td>\n",
       "      <td>NATHANIEL FORD</td>\n",
       "      <td>GENERAL MANAGER-METROPOLITAN TRANSIT AUTHORITY</td>\n",
       "      <td>167411.18</td>\n",
       "      <td>0.00</td>\n",
       "      <td>400184.25</td>\n",
       "      <td>NaN</td>\n",
       "      <td>567595.43</td>\n",
       "      <td>567595.43</td>\n",
       "      <td>2011</td>\n",
       "      <td>NaN</td>\n",
       "      <td>San Francisco</td>\n",
       "      <td>NaN</td>\n",
       "    </tr>\n",
       "    <tr>\n",
       "      <th>1</th>\n",
       "      <td>2</td>\n",
       "      <td>GARY JIMENEZ</td>\n",
       "      <td>CAPTAIN III (POLICE DEPARTMENT)</td>\n",
       "      <td>155966.02</td>\n",
       "      <td>245131.88</td>\n",
       "      <td>137811.38</td>\n",
       "      <td>NaN</td>\n",
       "      <td>538909.28</td>\n",
       "      <td>538909.28</td>\n",
       "      <td>2011</td>\n",
       "      <td>NaN</td>\n",
       "      <td>San Francisco</td>\n",
       "      <td>NaN</td>\n",
       "    </tr>\n",
       "    <tr>\n",
       "      <th>2</th>\n",
       "      <td>3</td>\n",
       "      <td>ALBERT PARDINI</td>\n",
       "      <td>CAPTAIN III (POLICE DEPARTMENT)</td>\n",
       "      <td>212739.13</td>\n",
       "      <td>106088.18</td>\n",
       "      <td>16452.60</td>\n",
       "      <td>NaN</td>\n",
       "      <td>335279.91</td>\n",
       "      <td>335279.91</td>\n",
       "      <td>2011</td>\n",
       "      <td>NaN</td>\n",
       "      <td>San Francisco</td>\n",
       "      <td>NaN</td>\n",
       "    </tr>\n",
       "    <tr>\n",
       "      <th>3</th>\n",
       "      <td>4</td>\n",
       "      <td>CHRISTOPHER CHONG</td>\n",
       "      <td>WIRE ROPE CABLE MAINTENANCE MECHANIC</td>\n",
       "      <td>77916.00</td>\n",
       "      <td>56120.71</td>\n",
       "      <td>198306.90</td>\n",
       "      <td>NaN</td>\n",
       "      <td>332343.61</td>\n",
       "      <td>332343.61</td>\n",
       "      <td>2011</td>\n",
       "      <td>NaN</td>\n",
       "      <td>San Francisco</td>\n",
       "      <td>NaN</td>\n",
       "    </tr>\n",
       "    <tr>\n",
       "      <th>4</th>\n",
       "      <td>5</td>\n",
       "      <td>PATRICK GARDNER</td>\n",
       "      <td>DEPUTY CHIEF OF DEPARTMENT,(FIRE DEPARTMENT)</td>\n",
       "      <td>134401.60</td>\n",
       "      <td>9737.00</td>\n",
       "      <td>182234.59</td>\n",
       "      <td>NaN</td>\n",
       "      <td>326373.19</td>\n",
       "      <td>326373.19</td>\n",
       "      <td>2011</td>\n",
       "      <td>NaN</td>\n",
       "      <td>San Francisco</td>\n",
       "      <td>NaN</td>\n",
       "    </tr>\n",
       "  </tbody>\n",
       "</table>\n",
       "</div>"
      ],
      "text/plain": [
       "   Id       EmployeeName                                        JobTitle  \\\n",
       "0   1     NATHANIEL FORD  GENERAL MANAGER-METROPOLITAN TRANSIT AUTHORITY   \n",
       "1   2       GARY JIMENEZ                 CAPTAIN III (POLICE DEPARTMENT)   \n",
       "2   3     ALBERT PARDINI                 CAPTAIN III (POLICE DEPARTMENT)   \n",
       "3   4  CHRISTOPHER CHONG            WIRE ROPE CABLE MAINTENANCE MECHANIC   \n",
       "4   5    PATRICK GARDNER    DEPUTY CHIEF OF DEPARTMENT,(FIRE DEPARTMENT)   \n",
       "\n",
       "     BasePay  OvertimePay   OtherPay  Benefits   TotalPay  TotalPayBenefits  \\\n",
       "0  167411.18         0.00  400184.25       NaN  567595.43         567595.43   \n",
       "1  155966.02    245131.88  137811.38       NaN  538909.28         538909.28   \n",
       "2  212739.13    106088.18   16452.60       NaN  335279.91         335279.91   \n",
       "3   77916.00     56120.71  198306.90       NaN  332343.61         332343.61   \n",
       "4  134401.60      9737.00  182234.59       NaN  326373.19         326373.19   \n",
       "\n",
       "   Year  Notes         Agency  Status  \n",
       "0  2011    NaN  San Francisco     NaN  \n",
       "1  2011    NaN  San Francisco     NaN  \n",
       "2  2011    NaN  San Francisco     NaN  \n",
       "3  2011    NaN  San Francisco     NaN  \n",
       "4  2011    NaN  San Francisco     NaN  "
      ]
     },
     "execution_count": 84,
     "metadata": {},
     "output_type": "execute_result"
    }
   ],
   "source": [
    "# LET US LOOK AT THE FIRST 5 ROWS\n",
    "\n",
    "# YOUR CODE IS HERE\n",
    "df.head()\n"
   ]
  },
  {
   "cell_type": "markdown",
   "metadata": {
    "id": "-MtROu1cbbEA"
   },
   "source": [
    "Desired Output:\n",
    "\n",
    "![image.png](https://i.ibb.co/6BTmGX8/assignment1a.png)"
   ]
  },
  {
   "cell_type": "code",
   "execution_count": 86,
   "metadata": {
    "id": "YwUmq9IAAd_Q"
   },
   "outputs": [
    {
     "data": {
      "text/html": [
       "<div>\n",
       "<style scoped>\n",
       "    .dataframe tbody tr th:only-of-type {\n",
       "        vertical-align: middle;\n",
       "    }\n",
       "\n",
       "    .dataframe tbody tr th {\n",
       "        vertical-align: top;\n",
       "    }\n",
       "\n",
       "    .dataframe thead th {\n",
       "        text-align: right;\n",
       "    }\n",
       "</style>\n",
       "<table border=\"1\" class=\"dataframe\">\n",
       "  <thead>\n",
       "    <tr style=\"text-align: right;\">\n",
       "      <th></th>\n",
       "      <th>Id</th>\n",
       "      <th>EmployeeName</th>\n",
       "      <th>JobTitle</th>\n",
       "      <th>BasePay</th>\n",
       "      <th>OvertimePay</th>\n",
       "      <th>OtherPay</th>\n",
       "      <th>Benefits</th>\n",
       "      <th>TotalPay</th>\n",
       "      <th>TotalPayBenefits</th>\n",
       "      <th>Year</th>\n",
       "      <th>Notes</th>\n",
       "      <th>Agency</th>\n",
       "      <th>Status</th>\n",
       "    </tr>\n",
       "  </thead>\n",
       "  <tbody>\n",
       "    <tr>\n",
       "      <th>101869</th>\n",
       "      <td>101870</td>\n",
       "      <td>Earl A Scott</td>\n",
       "      <td>Transit Operator</td>\n",
       "      <td>22401.85</td>\n",
       "      <td>6328.66</td>\n",
       "      <td>224.92</td>\n",
       "      <td>10546.09</td>\n",
       "      <td>28955.43</td>\n",
       "      <td>39501.52</td>\n",
       "      <td>2013</td>\n",
       "      <td>NaN</td>\n",
       "      <td>San Francisco</td>\n",
       "      <td>NaN</td>\n",
       "    </tr>\n",
       "  </tbody>\n",
       "</table>\n",
       "</div>"
      ],
      "text/plain": [
       "            Id  EmployeeName          JobTitle   BasePay  OvertimePay  \\\n",
       "101869  101870  Earl A Scott  Transit Operator  22401.85      6328.66   \n",
       "\n",
       "        OtherPay  Benefits  TotalPay  TotalPayBenefits  Year  Notes  \\\n",
       "101869    224.92  10546.09  28955.43          39501.52  2013    NaN   \n",
       "\n",
       "               Agency  Status  \n",
       "101869  San Francisco     NaN  "
      ]
     },
     "execution_count": 86,
     "metadata": {},
     "output_type": "execute_result"
    }
   ],
   "source": [
    "# LET US GET A SAMPLE\n",
    "\n",
    "# YOUR CODE IS HERE\n",
    "sample_df = df.sample()\n",
    "sample_df"
   ]
  },
  {
   "cell_type": "markdown",
   "metadata": {
    "id": "zrDHcQRpbbEA"
   },
   "source": [
    "Desired Output (WATCH OUT! Your output may NOT be the same as the one):\n",
    "\n",
    "![image.png](https://i.ibb.co/mcsCxxC/assignment1b.png)"
   ]
  },
  {
   "cell_type": "code",
   "execution_count": 89,
   "metadata": {
    "id": "WuXy195gAd_Q"
   },
   "outputs": [
    {
     "name": "stdout",
     "output_type": "stream",
     "text": [
      "<class 'pandas.core.frame.DataFrame'>\n",
      "RangeIndex: 148654 entries, 0 to 148653\n",
      "Data columns (total 13 columns):\n",
      " #   Column            Non-Null Count   Dtype  \n",
      "---  ------            --------------   -----  \n",
      " 0   Id                148654 non-null  int64  \n",
      " 1   EmployeeName      148654 non-null  object \n",
      " 2   JobTitle          148654 non-null  object \n",
      " 3   BasePay           148045 non-null  float64\n",
      " 4   OvertimePay       148650 non-null  float64\n",
      " 5   OtherPay          148650 non-null  float64\n",
      " 6   Benefits          112491 non-null  float64\n",
      " 7   TotalPay          148654 non-null  float64\n",
      " 8   TotalPayBenefits  148654 non-null  float64\n",
      " 9   Year              148654 non-null  int64  \n",
      " 10  Notes             0 non-null       float64\n",
      " 11  Agency            148654 non-null  object \n",
      " 12  Status            0 non-null       float64\n",
      "dtypes: float64(8), int64(2), object(3)\n",
      "memory usage: 14.7+ MB\n"
     ]
    }
   ],
   "source": [
    "# YOUR CODE IS HERE\n",
    "\n",
    "df.info()"
   ]
  },
  {
   "cell_type": "raw",
   "metadata": {
    "id": "lB60UwzZbbEA"
   },
   "source": [
    "Desired Output:\n",
    "\n",
    "<class 'pandas.core.frame.DataFrame'>\n",
    "RangeIndex: 148654 entries, 0 to 148653\n",
    "Data columns (total 13 columns):\n",
    " #   Column            Non-Null Count   Dtype\n",
    "---  ------            --------------   -----\n",
    " 0   Id                148654 non-null  int64\n",
    " 1   EmployeeName      148654 non-null  object\n",
    " 2   JobTitle          148654 non-null  object\n",
    " 3   BasePay           148045 non-null  float64\n",
    " 4   OvertimePay       148650 non-null  float64\n",
    " 5   OtherPay          148650 non-null  float64\n",
    " 6   Benefits          112491 non-null  float64\n",
    " 7   TotalPay          148654 non-null  float64\n",
    " 8   TotalPayBenefits  148654 non-null  float64\n",
    " 9   Year              148654 non-null  int64\n",
    " 10  Notes             0 non-null       float64\n",
    " 11  Agency            148654 non-null  object\n",
    " 12  Status            0 non-null       float64\n",
    "dtypes: float64(8), int64(2), object(3)\n",
    "memory usage: 14.7+ MB"
   ]
  },
  {
   "cell_type": "code",
   "execution_count": 90,
   "metadata": {
    "id": "02GV54nZAd_R"
   },
   "outputs": [
    {
     "data": {
      "text/html": [
       "<div>\n",
       "<style scoped>\n",
       "    .dataframe tbody tr th:only-of-type {\n",
       "        vertical-align: middle;\n",
       "    }\n",
       "\n",
       "    .dataframe tbody tr th {\n",
       "        vertical-align: top;\n",
       "    }\n",
       "\n",
       "    .dataframe thead th {\n",
       "        text-align: right;\n",
       "    }\n",
       "</style>\n",
       "<table border=\"1\" class=\"dataframe\">\n",
       "  <thead>\n",
       "    <tr style=\"text-align: right;\">\n",
       "      <th></th>\n",
       "      <th>Id</th>\n",
       "      <th>BasePay</th>\n",
       "      <th>OvertimePay</th>\n",
       "      <th>OtherPay</th>\n",
       "      <th>Benefits</th>\n",
       "      <th>TotalPay</th>\n",
       "      <th>TotalPayBenefits</th>\n",
       "      <th>Year</th>\n",
       "      <th>Notes</th>\n",
       "      <th>Status</th>\n",
       "    </tr>\n",
       "  </thead>\n",
       "  <tbody>\n",
       "    <tr>\n",
       "      <th>count</th>\n",
       "      <td>148654.000000</td>\n",
       "      <td>148045.000000</td>\n",
       "      <td>148650.000000</td>\n",
       "      <td>148650.000000</td>\n",
       "      <td>112491.000000</td>\n",
       "      <td>148654.000000</td>\n",
       "      <td>148654.000000</td>\n",
       "      <td>148654.000000</td>\n",
       "      <td>0.0</td>\n",
       "      <td>0.0</td>\n",
       "    </tr>\n",
       "    <tr>\n",
       "      <th>mean</th>\n",
       "      <td>74327.500000</td>\n",
       "      <td>66325.448840</td>\n",
       "      <td>5066.059886</td>\n",
       "      <td>3648.767297</td>\n",
       "      <td>25007.893151</td>\n",
       "      <td>74768.321972</td>\n",
       "      <td>93692.554811</td>\n",
       "      <td>2012.522643</td>\n",
       "      <td>NaN</td>\n",
       "      <td>NaN</td>\n",
       "    </tr>\n",
       "    <tr>\n",
       "      <th>std</th>\n",
       "      <td>42912.857795</td>\n",
       "      <td>42764.635495</td>\n",
       "      <td>11454.380559</td>\n",
       "      <td>8056.601866</td>\n",
       "      <td>15402.215858</td>\n",
       "      <td>50517.005274</td>\n",
       "      <td>62793.533483</td>\n",
       "      <td>1.117538</td>\n",
       "      <td>NaN</td>\n",
       "      <td>NaN</td>\n",
       "    </tr>\n",
       "    <tr>\n",
       "      <th>min</th>\n",
       "      <td>1.000000</td>\n",
       "      <td>-166.010000</td>\n",
       "      <td>-0.010000</td>\n",
       "      <td>-7058.590000</td>\n",
       "      <td>-33.890000</td>\n",
       "      <td>-618.130000</td>\n",
       "      <td>-618.130000</td>\n",
       "      <td>2011.000000</td>\n",
       "      <td>NaN</td>\n",
       "      <td>NaN</td>\n",
       "    </tr>\n",
       "    <tr>\n",
       "      <th>25%</th>\n",
       "      <td>37164.250000</td>\n",
       "      <td>33588.200000</td>\n",
       "      <td>0.000000</td>\n",
       "      <td>0.000000</td>\n",
       "      <td>11535.395000</td>\n",
       "      <td>36168.995000</td>\n",
       "      <td>44065.650000</td>\n",
       "      <td>2012.000000</td>\n",
       "      <td>NaN</td>\n",
       "      <td>NaN</td>\n",
       "    </tr>\n",
       "    <tr>\n",
       "      <th>50%</th>\n",
       "      <td>74327.500000</td>\n",
       "      <td>65007.450000</td>\n",
       "      <td>0.000000</td>\n",
       "      <td>811.270000</td>\n",
       "      <td>28628.620000</td>\n",
       "      <td>71426.610000</td>\n",
       "      <td>92404.090000</td>\n",
       "      <td>2013.000000</td>\n",
       "      <td>NaN</td>\n",
       "      <td>NaN</td>\n",
       "    </tr>\n",
       "    <tr>\n",
       "      <th>75%</th>\n",
       "      <td>111490.750000</td>\n",
       "      <td>94691.050000</td>\n",
       "      <td>4658.175000</td>\n",
       "      <td>4236.065000</td>\n",
       "      <td>35566.855000</td>\n",
       "      <td>105839.135000</td>\n",
       "      <td>132876.450000</td>\n",
       "      <td>2014.000000</td>\n",
       "      <td>NaN</td>\n",
       "      <td>NaN</td>\n",
       "    </tr>\n",
       "    <tr>\n",
       "      <th>max</th>\n",
       "      <td>148654.000000</td>\n",
       "      <td>319275.010000</td>\n",
       "      <td>245131.880000</td>\n",
       "      <td>400184.250000</td>\n",
       "      <td>96570.660000</td>\n",
       "      <td>567595.430000</td>\n",
       "      <td>567595.430000</td>\n",
       "      <td>2014.000000</td>\n",
       "      <td>NaN</td>\n",
       "      <td>NaN</td>\n",
       "    </tr>\n",
       "  </tbody>\n",
       "</table>\n",
       "</div>"
      ],
      "text/plain": [
       "                  Id        BasePay    OvertimePay       OtherPay  \\\n",
       "count  148654.000000  148045.000000  148650.000000  148650.000000   \n",
       "mean    74327.500000   66325.448840    5066.059886    3648.767297   \n",
       "std     42912.857795   42764.635495   11454.380559    8056.601866   \n",
       "min         1.000000    -166.010000      -0.010000   -7058.590000   \n",
       "25%     37164.250000   33588.200000       0.000000       0.000000   \n",
       "50%     74327.500000   65007.450000       0.000000     811.270000   \n",
       "75%    111490.750000   94691.050000    4658.175000    4236.065000   \n",
       "max    148654.000000  319275.010000  245131.880000  400184.250000   \n",
       "\n",
       "            Benefits       TotalPay  TotalPayBenefits           Year  Notes  \\\n",
       "count  112491.000000  148654.000000     148654.000000  148654.000000    0.0   \n",
       "mean    25007.893151   74768.321972      93692.554811    2012.522643    NaN   \n",
       "std     15402.215858   50517.005274      62793.533483       1.117538    NaN   \n",
       "min       -33.890000    -618.130000       -618.130000    2011.000000    NaN   \n",
       "25%     11535.395000   36168.995000      44065.650000    2012.000000    NaN   \n",
       "50%     28628.620000   71426.610000      92404.090000    2013.000000    NaN   \n",
       "75%     35566.855000  105839.135000     132876.450000    2014.000000    NaN   \n",
       "max     96570.660000  567595.430000     567595.430000    2014.000000    NaN   \n",
       "\n",
       "       Status  \n",
       "count     0.0  \n",
       "mean      NaN  \n",
       "std       NaN  \n",
       "min       NaN  \n",
       "25%       NaN  \n",
       "50%       NaN  \n",
       "75%       NaN  \n",
       "max       NaN  "
      ]
     },
     "execution_count": 90,
     "metadata": {},
     "output_type": "execute_result"
    }
   ],
   "source": [
    "# LET US GET SOME DESCRIPTIVE MEASUREMENTS\n",
    "\n",
    "# YOUR CODE IS HERE\n",
    "\n",
    "df.describe()"
   ]
  },
  {
   "cell_type": "markdown",
   "metadata": {
    "id": "2l_P-JyCbbEB"
   },
   "source": [
    "Desired Output:\n",
    "\n",
    "![image.png](https://i.ibb.co/ftMP67H/assignmnet1c.png)"
   ]
  },
  {
   "cell_type": "markdown",
   "metadata": {
    "id": "vIWqIPCdAd_R"
   },
   "source": [
    "### How many different year values are there?"
   ]
  },
  {
   "cell_type": "code",
   "execution_count": 100,
   "metadata": {
    "id": "rT-R-ru5bbEB"
   },
   "outputs": [
    {
     "data": {
      "text/plain": [
       "Year\n",
       "2014    38123\n",
       "2013    37606\n",
       "2012    36766\n",
       "2011    36159\n",
       "Name: count, dtype: int64"
      ]
     },
     "execution_count": 100,
     "metadata": {},
     "output_type": "execute_result"
    }
   ],
   "source": [
    "# YOUR CODE IS HERE\n",
    "\n",
    "hmy= df['Year'].value_counts()\n",
    "hmy"
   ]
  },
  {
   "cell_type": "raw",
   "metadata": {
    "id": "Kij-1q0RbbEB"
   },
   "source": [
    "Desired Output:\n",
    "\n",
    "2014    38123\n",
    "2013    37606\n",
    "2012    36766\n",
    "2011    36159\n",
    "Name: Year, dtype: int64"
   ]
  },
  {
   "cell_type": "code",
   "execution_count": 98,
   "metadata": {
    "id": "_QXgY1bWAd_S"
   },
   "outputs": [
    {
     "data": {
      "text/plain": [
       "4"
      ]
     },
     "execution_count": 98,
     "metadata": {},
     "output_type": "execute_result"
    }
   ],
   "source": [
    "# LET US FIND THE NUMBER OF UNIQUE VALUES IN THE COLUMN OF \"Year\"\n",
    "\n",
    "# YOUR CODE IS HERE\n",
    "\n",
    "uniqueyear = df['Year'].nunique()\n",
    "uniqueyear"
   ]
  },
  {
   "cell_type": "raw",
   "metadata": {
    "id": "Phe8rBHqbbEC"
   },
   "source": [
    "Desired Output:\n",
    "\n",
    "4"
   ]
  },
  {
   "cell_type": "code",
   "execution_count": 101,
   "metadata": {
    "id": "fcvz1i37bbEC"
   },
   "outputs": [
    {
     "data": {
      "text/plain": [
       "array([2011, 2012, 2013, 2014], dtype=int64)"
      ]
     },
     "execution_count": 101,
     "metadata": {},
     "output_type": "execute_result"
    }
   ],
   "source": [
    "# LET US FIND THE UNIQUE VALUES IN THE COLUMN OF \"Year\"\n",
    "\n",
    "# YOUR CODE IS HERE\n",
    "\n",
    "uniqee = df['Year'].unique()\n",
    "uniqee"
   ]
  },
  {
   "cell_type": "raw",
   "metadata": {
    "id": "NLVACRa2bbEC"
   },
   "source": [
    "Desired Output:\n",
    "\n",
    "array([2011, 2012, 2013, 2014], dtype=int64)"
   ]
  },
  {
   "cell_type": "markdown",
   "metadata": {
    "id": "3KfOM05LAd_S"
   },
   "source": [
    "### Print out max and avg values in the column of \"Totalpay\"."
   ]
  },
  {
   "cell_type": "code",
   "execution_count": 105,
   "metadata": {
    "id": "gZM_k1oGAd_S"
   },
   "outputs": [
    {
     "data": {
      "text/plain": [
       "567595.43"
      ]
     },
     "execution_count": 105,
     "metadata": {},
     "output_type": "execute_result"
    }
   ],
   "source": [
    "# LET US FIND THE MAXIMUM TOTALPAY\n",
    "\n",
    "# YOUR CODE IS HERE\n",
    "\n",
    "max_val = df['TotalPay'].max()\n",
    "max_val"
   ]
  },
  {
   "cell_type": "raw",
   "metadata": {
    "id": "9dELgOTHbbEC"
   },
   "source": [
    "Desired Output:\n",
    "\n",
    "567595.43"
   ]
  },
  {
   "cell_type": "code",
   "execution_count": 106,
   "metadata": {
    "id": "5QVwTgbKAd_S"
   },
   "outputs": [
    {
     "data": {
      "text/plain": [
       "74768.32197169267"
      ]
     },
     "execution_count": 106,
     "metadata": {},
     "output_type": "execute_result"
    }
   ],
   "source": [
    "# LET US FIND THE AVERAGE TOTALPAY\n",
    "\n",
    "# YOUR CODE IS HERE\n",
    "\n",
    "avg_val = df['TotalPay'].mean()\n",
    "avg_val"
   ]
  },
  {
   "cell_type": "raw",
   "metadata": {
    "id": "kepC67mabbED"
   },
   "source": [
    "Desired Output:\n",
    "\n",
    "74768.321971703"
   ]
  },
  {
   "cell_type": "markdown",
   "metadata": {
    "id": "PBH4LugjAd_T"
   },
   "source": [
    "### How many records in the TotalPay column are there bigger than avg TotalPay?"
   ]
  },
  {
   "cell_type": "code",
   "execution_count": null,
   "metadata": {
    "id": "oKcP5pC5bbED"
   },
   "outputs": [],
   "source": [
    "# YOUR CODE IS HERE\n",
    "\n"
   ]
  },
  {
   "cell_type": "code",
   "execution_count": 109,
   "metadata": {},
   "outputs": [
    {
     "data": {
      "text/html": [
       "<div>\n",
       "<style scoped>\n",
       "    .dataframe tbody tr th:only-of-type {\n",
       "        vertical-align: middle;\n",
       "    }\n",
       "\n",
       "    .dataframe tbody tr th {\n",
       "        vertical-align: top;\n",
       "    }\n",
       "\n",
       "    .dataframe thead th {\n",
       "        text-align: right;\n",
       "    }\n",
       "</style>\n",
       "<table border=\"1\" class=\"dataframe\">\n",
       "  <thead>\n",
       "    <tr style=\"text-align: right;\">\n",
       "      <th></th>\n",
       "      <th>Id</th>\n",
       "      <th>EmployeeName</th>\n",
       "      <th>JobTitle</th>\n",
       "      <th>BasePay</th>\n",
       "      <th>OvertimePay</th>\n",
       "      <th>OtherPay</th>\n",
       "      <th>Benefits</th>\n",
       "      <th>TotalPay</th>\n",
       "      <th>TotalPayBenefits</th>\n",
       "      <th>Year</th>\n",
       "      <th>Notes</th>\n",
       "      <th>Agency</th>\n",
       "      <th>Status</th>\n",
       "    </tr>\n",
       "  </thead>\n",
       "  <tbody>\n",
       "    <tr>\n",
       "      <th>0</th>\n",
       "      <td>1</td>\n",
       "      <td>NATHANIEL FORD</td>\n",
       "      <td>GENERAL MANAGER-METROPOLITAN TRANSIT AUTHORITY</td>\n",
       "      <td>167411.18</td>\n",
       "      <td>0.00</td>\n",
       "      <td>400184.25</td>\n",
       "      <td>NaN</td>\n",
       "      <td>567595.43</td>\n",
       "      <td>567595.43</td>\n",
       "      <td>2011</td>\n",
       "      <td>NaN</td>\n",
       "      <td>San Francisco</td>\n",
       "      <td>NaN</td>\n",
       "    </tr>\n",
       "    <tr>\n",
       "      <th>1</th>\n",
       "      <td>2</td>\n",
       "      <td>GARY JIMENEZ</td>\n",
       "      <td>CAPTAIN III (POLICE DEPARTMENT)</td>\n",
       "      <td>155966.02</td>\n",
       "      <td>245131.88</td>\n",
       "      <td>137811.38</td>\n",
       "      <td>NaN</td>\n",
       "      <td>538909.28</td>\n",
       "      <td>538909.28</td>\n",
       "      <td>2011</td>\n",
       "      <td>NaN</td>\n",
       "      <td>San Francisco</td>\n",
       "      <td>NaN</td>\n",
       "    </tr>\n",
       "    <tr>\n",
       "      <th>2</th>\n",
       "      <td>3</td>\n",
       "      <td>ALBERT PARDINI</td>\n",
       "      <td>CAPTAIN III (POLICE DEPARTMENT)</td>\n",
       "      <td>212739.13</td>\n",
       "      <td>106088.18</td>\n",
       "      <td>16452.60</td>\n",
       "      <td>NaN</td>\n",
       "      <td>335279.91</td>\n",
       "      <td>335279.91</td>\n",
       "      <td>2011</td>\n",
       "      <td>NaN</td>\n",
       "      <td>San Francisco</td>\n",
       "      <td>NaN</td>\n",
       "    </tr>\n",
       "    <tr>\n",
       "      <th>3</th>\n",
       "      <td>4</td>\n",
       "      <td>CHRISTOPHER CHONG</td>\n",
       "      <td>WIRE ROPE CABLE MAINTENANCE MECHANIC</td>\n",
       "      <td>77916.00</td>\n",
       "      <td>56120.71</td>\n",
       "      <td>198306.90</td>\n",
       "      <td>NaN</td>\n",
       "      <td>332343.61</td>\n",
       "      <td>332343.61</td>\n",
       "      <td>2011</td>\n",
       "      <td>NaN</td>\n",
       "      <td>San Francisco</td>\n",
       "      <td>NaN</td>\n",
       "    </tr>\n",
       "    <tr>\n",
       "      <th>4</th>\n",
       "      <td>5</td>\n",
       "      <td>PATRICK GARDNER</td>\n",
       "      <td>DEPUTY CHIEF OF DEPARTMENT,(FIRE DEPARTMENT)</td>\n",
       "      <td>134401.60</td>\n",
       "      <td>9737.00</td>\n",
       "      <td>182234.59</td>\n",
       "      <td>NaN</td>\n",
       "      <td>326373.19</td>\n",
       "      <td>326373.19</td>\n",
       "      <td>2011</td>\n",
       "      <td>NaN</td>\n",
       "      <td>San Francisco</td>\n",
       "      <td>NaN</td>\n",
       "    </tr>\n",
       "    <tr>\n",
       "      <th>...</th>\n",
       "      <td>...</td>\n",
       "      <td>...</td>\n",
       "      <td>...</td>\n",
       "      <td>...</td>\n",
       "      <td>...</td>\n",
       "      <td>...</td>\n",
       "      <td>...</td>\n",
       "      <td>...</td>\n",
       "      <td>...</td>\n",
       "      <td>...</td>\n",
       "      <td>...</td>\n",
       "      <td>...</td>\n",
       "      <td>...</td>\n",
       "    </tr>\n",
       "    <tr>\n",
       "      <th>135701</th>\n",
       "      <td>135702</td>\n",
       "      <td>Christina S Jee</td>\n",
       "      <td>Nurse Practitioner</td>\n",
       "      <td>70635.61</td>\n",
       "      <td>0.00</td>\n",
       "      <td>6550.41</td>\n",
       "      <td>771.88</td>\n",
       "      <td>77186.02</td>\n",
       "      <td>77957.90</td>\n",
       "      <td>2014</td>\n",
       "      <td>NaN</td>\n",
       "      <td>San Francisco</td>\n",
       "      <td>NaN</td>\n",
       "    </tr>\n",
       "    <tr>\n",
       "      <th>135778</th>\n",
       "      <td>135779</td>\n",
       "      <td>Mary Ann T Abille</td>\n",
       "      <td>Special Nurse</td>\n",
       "      <td>60889.34</td>\n",
       "      <td>6815.67</td>\n",
       "      <td>9041.21</td>\n",
       "      <td>767.47</td>\n",
       "      <td>76746.22</td>\n",
       "      <td>77513.69</td>\n",
       "      <td>2014</td>\n",
       "      <td>NaN</td>\n",
       "      <td>San Francisco</td>\n",
       "      <td>NaN</td>\n",
       "    </tr>\n",
       "    <tr>\n",
       "      <th>135847</th>\n",
       "      <td>135848</td>\n",
       "      <td>Emilda E Reinosa</td>\n",
       "      <td>Special Nurse</td>\n",
       "      <td>76305.74</td>\n",
       "      <td>0.00</td>\n",
       "      <td>0.00</td>\n",
       "      <td>763.08</td>\n",
       "      <td>76305.74</td>\n",
       "      <td>77068.82</td>\n",
       "      <td>2014</td>\n",
       "      <td>NaN</td>\n",
       "      <td>San Francisco</td>\n",
       "      <td>NaN</td>\n",
       "    </tr>\n",
       "    <tr>\n",
       "      <th>135853</th>\n",
       "      <td>135854</td>\n",
       "      <td>David G Evans</td>\n",
       "      <td>Special Nurse</td>\n",
       "      <td>71178.15</td>\n",
       "      <td>2748.15</td>\n",
       "      <td>2354.40</td>\n",
       "      <td>762.81</td>\n",
       "      <td>76280.70</td>\n",
       "      <td>77043.51</td>\n",
       "      <td>2014</td>\n",
       "      <td>NaN</td>\n",
       "      <td>San Francisco</td>\n",
       "      <td>NaN</td>\n",
       "    </tr>\n",
       "    <tr>\n",
       "      <th>136063</th>\n",
       "      <td>136064</td>\n",
       "      <td>Nicole Joe</td>\n",
       "      <td>Special Nurse</td>\n",
       "      <td>61276.59</td>\n",
       "      <td>8538.44</td>\n",
       "      <td>5078.67</td>\n",
       "      <td>748.95</td>\n",
       "      <td>74893.70</td>\n",
       "      <td>75642.65</td>\n",
       "      <td>2014</td>\n",
       "      <td>NaN</td>\n",
       "      <td>San Francisco</td>\n",
       "      <td>NaN</td>\n",
       "    </tr>\n",
       "  </tbody>\n",
       "</table>\n",
       "<p>69489 rows × 13 columns</p>\n",
       "</div>"
      ],
      "text/plain": [
       "            Id       EmployeeName  \\\n",
       "0            1     NATHANIEL FORD   \n",
       "1            2       GARY JIMENEZ   \n",
       "2            3     ALBERT PARDINI   \n",
       "3            4  CHRISTOPHER CHONG   \n",
       "4            5    PATRICK GARDNER   \n",
       "...        ...                ...   \n",
       "135701  135702    Christina S Jee   \n",
       "135778  135779  Mary Ann T Abille   \n",
       "135847  135848   Emilda E Reinosa   \n",
       "135853  135854      David G Evans   \n",
       "136063  136064         Nicole Joe   \n",
       "\n",
       "                                              JobTitle    BasePay  \\\n",
       "0       GENERAL MANAGER-METROPOLITAN TRANSIT AUTHORITY  167411.18   \n",
       "1                      CAPTAIN III (POLICE DEPARTMENT)  155966.02   \n",
       "2                      CAPTAIN III (POLICE DEPARTMENT)  212739.13   \n",
       "3                 WIRE ROPE CABLE MAINTENANCE MECHANIC   77916.00   \n",
       "4         DEPUTY CHIEF OF DEPARTMENT,(FIRE DEPARTMENT)  134401.60   \n",
       "...                                                ...        ...   \n",
       "135701                              Nurse Practitioner   70635.61   \n",
       "135778                                   Special Nurse   60889.34   \n",
       "135847                                   Special Nurse   76305.74   \n",
       "135853                                   Special Nurse   71178.15   \n",
       "136063                                   Special Nurse   61276.59   \n",
       "\n",
       "        OvertimePay   OtherPay  Benefits   TotalPay  TotalPayBenefits  Year  \\\n",
       "0              0.00  400184.25       NaN  567595.43         567595.43  2011   \n",
       "1         245131.88  137811.38       NaN  538909.28         538909.28  2011   \n",
       "2         106088.18   16452.60       NaN  335279.91         335279.91  2011   \n",
       "3          56120.71  198306.90       NaN  332343.61         332343.61  2011   \n",
       "4           9737.00  182234.59       NaN  326373.19         326373.19  2011   \n",
       "...             ...        ...       ...        ...               ...   ...   \n",
       "135701         0.00    6550.41    771.88   77186.02          77957.90  2014   \n",
       "135778      6815.67    9041.21    767.47   76746.22          77513.69  2014   \n",
       "135847         0.00       0.00    763.08   76305.74          77068.82  2014   \n",
       "135853      2748.15    2354.40    762.81   76280.70          77043.51  2014   \n",
       "136063      8538.44    5078.67    748.95   74893.70          75642.65  2014   \n",
       "\n",
       "        Notes         Agency  Status  \n",
       "0         NaN  San Francisco     NaN  \n",
       "1         NaN  San Francisco     NaN  \n",
       "2         NaN  San Francisco     NaN  \n",
       "3         NaN  San Francisco     NaN  \n",
       "4         NaN  San Francisco     NaN  \n",
       "...       ...            ...     ...  \n",
       "135701    NaN  San Francisco     NaN  \n",
       "135778    NaN  San Francisco     NaN  \n",
       "135847    NaN  San Francisco     NaN  \n",
       "135853    NaN  San Francisco     NaN  \n",
       "136063    NaN  San Francisco     NaN  \n",
       "\n",
       "[69489 rows x 13 columns]"
      ]
     },
     "execution_count": 109,
     "metadata": {},
     "output_type": "execute_result"
    }
   ],
   "source": [
    "count_bigger = df[df['TotalPay']>avg_val]\n",
    "count_bigger"
   ]
  },
  {
   "cell_type": "code",
   "execution_count": null,
   "metadata": {},
   "outputs": [],
   "source": []
  },
  {
   "cell_type": "code",
   "execution_count": null,
   "metadata": {},
   "outputs": [],
   "source": []
  },
  {
   "cell_type": "markdown",
   "metadata": {
    "id": "5QKeGlLRbbED"
   },
   "source": [
    "Desired Output:\n",
    "\n",
    "![image.png](https://i.ibb.co/nj84FbZ/assignment1d.png)"
   ]
  },
  {
   "cell_type": "code",
   "execution_count": null,
   "metadata": {
    "id": "DzLK-P0zAd_T"
   },
   "outputs": [],
   "source": [
    "# YOUR CODE IS HERE\n",
    "\n"
   ]
  },
  {
   "cell_type": "raw",
   "metadata": {
    "id": "geg4aguKbbED"
   },
   "source": [
    "Desired Output:\n",
    "\n",
    "69489"
   ]
  },
  {
   "cell_type": "markdown",
   "metadata": {
    "id": "msGIAyWWAd_T"
   },
   "source": [
    "### How much does ALBERT PARDINI make money (including benefits)?"
   ]
  },
  {
   "cell_type": "code",
   "execution_count": 112,
   "metadata": {
    "id": "Lp85lU0cAd_T"
   },
   "outputs": [
    {
     "data": {
      "text/plain": [
       "-618.13"
      ]
     },
     "execution_count": 112,
     "metadata": {},
     "output_type": "execute_result"
    }
   ],
   "source": [
    "# YOUR CODE IS HERE\n",
    "min_val = df['TotalPay'].min()\n",
    "min_val\n"
   ]
  },
  {
   "cell_type": "raw",
   "metadata": {
    "id": "d6vmLPIFbbED"
   },
   "source": [
    "Desired Output:\n",
    "\n",
    "2    335279.91\n",
    "Name: TotalPayBenefits, dtype: float64"
   ]
  },
  {
   "cell_type": "markdown",
   "metadata": {
    "id": "EhGLJuApAd_U"
   },
   "source": [
    "### Who is the lowest paid person?"
   ]
  },
  {
   "cell_type": "code",
   "execution_count": 123,
   "metadata": {},
   "outputs": [
    {
     "data": {
      "text/plain": [
       "'Joe Lopez'"
      ]
     },
     "execution_count": 123,
     "metadata": {},
     "output_type": "execute_result"
    }
   ],
   "source": [
    "lowest_paid_person = df.loc[df['TotalPay'].idxmin(), 'EmployeeName']\n",
    "lowest_paid_person"
   ]
  },
  {
   "cell_type": "code",
   "execution_count": null,
   "metadata": {},
   "outputs": [],
   "source": []
  },
  {
   "cell_type": "code",
   "execution_count": 124,
   "metadata": {
    "id": "9x8QkcP2Ad_U"
   },
   "outputs": [],
   "source": [
    "# YOUR CODE IS HERE\n",
    "\n"
   ]
  },
  {
   "cell_type": "raw",
   "metadata": {
    "id": "fK4U0MkhbbEE"
   },
   "source": [
    "Desired Output:\n",
    "\n",
    "148653    Joe Lopez\n",
    "Name: EmployeeName, dtype: object"
   ]
  },
  {
   "cell_type": "markdown",
   "metadata": {
    "id": "KX1hSaoCAd_U"
   },
   "source": [
    "### What are the unique Jobs in dataset?"
   ]
  },
  {
   "cell_type": "code",
   "execution_count": 126,
   "metadata": {
    "id": "O97fqU91Ad_U"
   },
   "outputs": [],
   "source": [
    "# YOUR CODE IS HERE\n",
    "\n",
    "uniq_job = df['JobTitle'].unique()"
   ]
  },
  {
   "cell_type": "raw",
   "metadata": {
    "id": "pQAgPhEtbbEE"
   },
   "source": [
    "Desired Output:\n",
    "\n",
    "array(['GENERAL MANAGER-METROPOLITAN TRANSIT AUTHORITY',\n",
    "       'CAPTAIN III (POLICE DEPARTMENT)',\n",
    "       'WIRE ROPE CABLE MAINTENANCE MECHANIC', ..., 'Conversion',\n",
    "       'Cashier 3', 'Not provided'], dtype=object)"
   ]
  },
  {
   "cell_type": "markdown",
   "metadata": {
    "id": "CsYDrYVDAd_V"
   },
   "source": [
    "### List the top 3 least common Jobs in the dataset."
   ]
  },
  {
   "cell_type": "code",
   "execution_count": 127,
   "metadata": {
    "id": "DsZuPQVeAd_V"
   },
   "outputs": [
    {
     "data": {
      "text/plain": [
       "JobTitle\n",
       "BOARD SECRETARY - MUNICIPAL TRANSPORTATION AGENC    1\n",
       "FEASIBILITY ANALYST, PORT                           1\n",
       "ELECTROENCEPHALOGRAPH TECHNICIAN I                  1\n",
       "Name: count, dtype: int64"
      ]
     },
     "execution_count": 127,
     "metadata": {},
     "output_type": "execute_result"
    }
   ],
   "source": [
    "# YOUR CODE IS HERE\n",
    "\n",
    "least_common_jobs = df['JobTitle'].value_counts().nsmallest(3)\n",
    "least_common_jobs\n"
   ]
  },
  {
   "cell_type": "raw",
   "metadata": {
    "id": "moN1OeYDbbEE"
   },
   "source": [
    "Desired Output:\n",
    "\n",
    "COURT COMPUTER FACILITIES COORDINATOR             1\n",
    "AUTOMOTIVE BODY AND FENDER WORKER SUPERVISOR I    1\n",
    "VICTIM & WITNESS TECHNICIAN                       1\n",
    "Name: JobTitle, dtype: int64"
   ]
  },
  {
   "cell_type": "markdown",
   "metadata": {
    "id": "6bY1SKD1Ad_V"
   },
   "source": [
    "### How many people earned more than avg in 2012?"
   ]
  },
  {
   "cell_type": "code",
   "execution_count": 129,
   "metadata": {
    "id": "W9yhfXieAd_W"
   },
   "outputs": [],
   "source": [
    "# YOUR CODE IS HERE\n",
    "\n",
    "df2012 = df[df['Year']==2012]"
   ]
  },
  {
   "cell_type": "code",
   "execution_count": 132,
   "metadata": {},
   "outputs": [],
   "source": [
    "avg2012= df2012['TotalPay'].mean()"
   ]
  },
  {
   "cell_type": "code",
   "execution_count": 133,
   "metadata": {},
   "outputs": [
    {
     "data": {
      "text/html": [
       "<div>\n",
       "<style scoped>\n",
       "    .dataframe tbody tr th:only-of-type {\n",
       "        vertical-align: middle;\n",
       "    }\n",
       "\n",
       "    .dataframe tbody tr th {\n",
       "        vertical-align: top;\n",
       "    }\n",
       "\n",
       "    .dataframe thead th {\n",
       "        text-align: right;\n",
       "    }\n",
       "</style>\n",
       "<table border=\"1\" class=\"dataframe\">\n",
       "  <thead>\n",
       "    <tr style=\"text-align: right;\">\n",
       "      <th></th>\n",
       "      <th>Id</th>\n",
       "      <th>EmployeeName</th>\n",
       "      <th>JobTitle</th>\n",
       "      <th>BasePay</th>\n",
       "      <th>OvertimePay</th>\n",
       "      <th>OtherPay</th>\n",
       "      <th>Benefits</th>\n",
       "      <th>TotalPay</th>\n",
       "      <th>TotalPayBenefits</th>\n",
       "      <th>Year</th>\n",
       "      <th>Notes</th>\n",
       "      <th>Agency</th>\n",
       "      <th>Status</th>\n",
       "    </tr>\n",
       "  </thead>\n",
       "  <tbody>\n",
       "    <tr>\n",
       "      <th>36159</th>\n",
       "      <td>36160</td>\n",
       "      <td>Gary Altenberg</td>\n",
       "      <td>Lieutenant, Fire Suppression</td>\n",
       "      <td>128808.87</td>\n",
       "      <td>220909.48</td>\n",
       "      <td>13126.31</td>\n",
       "      <td>44430.12</td>\n",
       "      <td>362844.66</td>\n",
       "      <td>407274.78</td>\n",
       "      <td>2012</td>\n",
       "      <td>NaN</td>\n",
       "      <td>San Francisco</td>\n",
       "      <td>NaN</td>\n",
       "    </tr>\n",
       "    <tr>\n",
       "      <th>36160</th>\n",
       "      <td>36161</td>\n",
       "      <td>Gregory Suhr</td>\n",
       "      <td>Chief of Police</td>\n",
       "      <td>302578.00</td>\n",
       "      <td>0.00</td>\n",
       "      <td>18974.11</td>\n",
       "      <td>69810.19</td>\n",
       "      <td>321552.11</td>\n",
       "      <td>391362.30</td>\n",
       "      <td>2012</td>\n",
       "      <td>NaN</td>\n",
       "      <td>San Francisco</td>\n",
       "      <td>NaN</td>\n",
       "    </tr>\n",
       "    <tr>\n",
       "      <th>36161</th>\n",
       "      <td>36162</td>\n",
       "      <td>Khoa Trinh</td>\n",
       "      <td>Electronic Maintenance Tech</td>\n",
       "      <td>111921.00</td>\n",
       "      <td>146415.32</td>\n",
       "      <td>78057.41</td>\n",
       "      <td>53102.29</td>\n",
       "      <td>336393.73</td>\n",
       "      <td>389496.02</td>\n",
       "      <td>2012</td>\n",
       "      <td>NaN</td>\n",
       "      <td>San Francisco</td>\n",
       "      <td>NaN</td>\n",
       "    </tr>\n",
       "    <tr>\n",
       "      <th>36162</th>\n",
       "      <td>36163</td>\n",
       "      <td>Joanne Hayes-White</td>\n",
       "      <td>Chief, Fire Department</td>\n",
       "      <td>296943.01</td>\n",
       "      <td>0.00</td>\n",
       "      <td>17816.59</td>\n",
       "      <td>72047.88</td>\n",
       "      <td>314759.60</td>\n",
       "      <td>386807.48</td>\n",
       "      <td>2012</td>\n",
       "      <td>NaN</td>\n",
       "      <td>San Francisco</td>\n",
       "      <td>NaN</td>\n",
       "    </tr>\n",
       "    <tr>\n",
       "      <th>36163</th>\n",
       "      <td>36164</td>\n",
       "      <td>Frederick Binkley</td>\n",
       "      <td>EMT/Paramedic/Firefighter</td>\n",
       "      <td>126863.19</td>\n",
       "      <td>192424.49</td>\n",
       "      <td>17917.18</td>\n",
       "      <td>44438.25</td>\n",
       "      <td>337204.86</td>\n",
       "      <td>381643.11</td>\n",
       "      <td>2012</td>\n",
       "      <td>NaN</td>\n",
       "      <td>San Francisco</td>\n",
       "      <td>NaN</td>\n",
       "    </tr>\n",
       "    <tr>\n",
       "      <th>...</th>\n",
       "      <td>...</td>\n",
       "      <td>...</td>\n",
       "      <td>...</td>\n",
       "      <td>...</td>\n",
       "      <td>...</td>\n",
       "      <td>...</td>\n",
       "      <td>...</td>\n",
       "      <td>...</td>\n",
       "      <td>...</td>\n",
       "      <td>...</td>\n",
       "      <td>...</td>\n",
       "      <td>...</td>\n",
       "      <td>...</td>\n",
       "    </tr>\n",
       "    <tr>\n",
       "      <th>60315</th>\n",
       "      <td>60316</td>\n",
       "      <td>William Jones</td>\n",
       "      <td>Manager V</td>\n",
       "      <td>74195.53</td>\n",
       "      <td>0.00</td>\n",
       "      <td>0.00</td>\n",
       "      <td>5989.25</td>\n",
       "      <td>74195.53</td>\n",
       "      <td>80184.78</td>\n",
       "      <td>2012</td>\n",
       "      <td>NaN</td>\n",
       "      <td>San Francisco</td>\n",
       "      <td>NaN</td>\n",
       "    </tr>\n",
       "    <tr>\n",
       "      <th>60463</th>\n",
       "      <td>60464</td>\n",
       "      <td>Carol Pirolli</td>\n",
       "      <td>Special Nurse</td>\n",
       "      <td>72375.35</td>\n",
       "      <td>2057.90</td>\n",
       "      <td>3559.98</td>\n",
       "      <td>1620.16</td>\n",
       "      <td>77993.23</td>\n",
       "      <td>79613.39</td>\n",
       "      <td>2012</td>\n",
       "      <td>NaN</td>\n",
       "      <td>San Francisco</td>\n",
       "      <td>NaN</td>\n",
       "    </tr>\n",
       "    <tr>\n",
       "      <th>60717</th>\n",
       "      <td>60718</td>\n",
       "      <td>Jocelyn Weiler</td>\n",
       "      <td>Special Nurse</td>\n",
       "      <td>69504.72</td>\n",
       "      <td>5190.55</td>\n",
       "      <td>2658.79</td>\n",
       "      <td>1394.10</td>\n",
       "      <td>77354.06</td>\n",
       "      <td>78748.16</td>\n",
       "      <td>2012</td>\n",
       "      <td>NaN</td>\n",
       "      <td>San Francisco</td>\n",
       "      <td>NaN</td>\n",
       "    </tr>\n",
       "    <tr>\n",
       "      <th>60733</th>\n",
       "      <td>60734</td>\n",
       "      <td>Diana Edward</td>\n",
       "      <td>Special Nurse</td>\n",
       "      <td>76434.48</td>\n",
       "      <td>0.00</td>\n",
       "      <td>834.73</td>\n",
       "      <td>1433.57</td>\n",
       "      <td>77269.21</td>\n",
       "      <td>78702.78</td>\n",
       "      <td>2012</td>\n",
       "      <td>NaN</td>\n",
       "      <td>San Francisco</td>\n",
       "      <td>NaN</td>\n",
       "    </tr>\n",
       "    <tr>\n",
       "      <th>60900</th>\n",
       "      <td>60901</td>\n",
       "      <td>Mary Ann Hauf</td>\n",
       "      <td>Special Nurse</td>\n",
       "      <td>73681.40</td>\n",
       "      <td>2723.40</td>\n",
       "      <td>46.54</td>\n",
       "      <td>1477.34</td>\n",
       "      <td>76451.34</td>\n",
       "      <td>77928.68</td>\n",
       "      <td>2012</td>\n",
       "      <td>NaN</td>\n",
       "      <td>San Francisco</td>\n",
       "      <td>NaN</td>\n",
       "    </tr>\n",
       "  </tbody>\n",
       "</table>\n",
       "<p>16944 rows × 13 columns</p>\n",
       "</div>"
      ],
      "text/plain": [
       "          Id        EmployeeName                      JobTitle    BasePay  \\\n",
       "36159  36160      Gary Altenberg  Lieutenant, Fire Suppression  128808.87   \n",
       "36160  36161        Gregory Suhr               Chief of Police  302578.00   \n",
       "36161  36162          Khoa Trinh   Electronic Maintenance Tech  111921.00   \n",
       "36162  36163  Joanne Hayes-White        Chief, Fire Department  296943.01   \n",
       "36163  36164   Frederick Binkley     EMT/Paramedic/Firefighter  126863.19   \n",
       "...      ...                 ...                           ...        ...   \n",
       "60315  60316       William Jones                     Manager V   74195.53   \n",
       "60463  60464       Carol Pirolli                 Special Nurse   72375.35   \n",
       "60717  60718      Jocelyn Weiler                 Special Nurse   69504.72   \n",
       "60733  60734        Diana Edward                 Special Nurse   76434.48   \n",
       "60900  60901       Mary Ann Hauf                 Special Nurse   73681.40   \n",
       "\n",
       "       OvertimePay  OtherPay  Benefits   TotalPay  TotalPayBenefits  Year  \\\n",
       "36159    220909.48  13126.31  44430.12  362844.66         407274.78  2012   \n",
       "36160         0.00  18974.11  69810.19  321552.11         391362.30  2012   \n",
       "36161    146415.32  78057.41  53102.29  336393.73         389496.02  2012   \n",
       "36162         0.00  17816.59  72047.88  314759.60         386807.48  2012   \n",
       "36163    192424.49  17917.18  44438.25  337204.86         381643.11  2012   \n",
       "...            ...       ...       ...        ...               ...   ...   \n",
       "60315         0.00      0.00   5989.25   74195.53          80184.78  2012   \n",
       "60463      2057.90   3559.98   1620.16   77993.23          79613.39  2012   \n",
       "60717      5190.55   2658.79   1394.10   77354.06          78748.16  2012   \n",
       "60733         0.00    834.73   1433.57   77269.21          78702.78  2012   \n",
       "60900      2723.40     46.54   1477.34   76451.34          77928.68  2012   \n",
       "\n",
       "       Notes         Agency  Status  \n",
       "36159    NaN  San Francisco     NaN  \n",
       "36160    NaN  San Francisco     NaN  \n",
       "36161    NaN  San Francisco     NaN  \n",
       "36162    NaN  San Francisco     NaN  \n",
       "36163    NaN  San Francisco     NaN  \n",
       "...      ...            ...     ...  \n",
       "60315    NaN  San Francisco     NaN  \n",
       "60463    NaN  San Francisco     NaN  \n",
       "60717    NaN  San Francisco     NaN  \n",
       "60733    NaN  San Francisco     NaN  \n",
       "60900    NaN  San Francisco     NaN  \n",
       "\n",
       "[16944 rows x 13 columns]"
      ]
     },
     "execution_count": 133,
     "metadata": {},
     "output_type": "execute_result"
    }
   ],
   "source": [
    "avg_more= df2012[df2012['TotalPay']>avg2012]\n",
    "avg_more"
   ]
  },
  {
   "cell_type": "code",
   "execution_count": null,
   "metadata": {},
   "outputs": [],
   "source": []
  },
  {
   "cell_type": "code",
   "execution_count": null,
   "metadata": {},
   "outputs": [],
   "source": []
  },
  {
   "cell_type": "raw",
   "metadata": {
    "id": "dfJvGfysbbEE"
   },
   "source": [
    "Desired Output:\n",
    "\n",
    "20366"
   ]
  },
  {
   "cell_type": "markdown",
   "metadata": {
    "id": "EM6JCaT-Ad_W"
   },
   "source": [
    "### How many people have a title of Manager in their jobs?"
   ]
  },
  {
   "cell_type": "code",
   "execution_count": 136,
   "metadata": {
    "id": "RjCxcXEWAd_Y"
   },
   "outputs": [
    {
     "ename": "AttributeError",
     "evalue": "'DataFrame' object has no attribute 'counts'",
     "output_type": "error",
     "traceback": [
      "\u001b[1;31m---------------------------------------------------------------------------\u001b[0m",
      "\u001b[1;31mAttributeError\u001b[0m                            Traceback (most recent call last)",
      "\u001b[1;32m~\\AppData\\Local\\Temp\\ipykernel_712\\3082717062.py\u001b[0m in \u001b[0;36m?\u001b[1;34m()\u001b[0m\n\u001b[0;32m      2\u001b[0m \u001b[1;33m\u001b[0m\u001b[0m\n\u001b[0;32m      3\u001b[0m \u001b[1;31m# YOUR CODE IS HERE\u001b[0m\u001b[1;33m\u001b[0m\u001b[1;33m\u001b[0m\u001b[0m\n\u001b[0;32m      4\u001b[0m \u001b[1;33m\u001b[0m\u001b[0m\n\u001b[0;32m      5\u001b[0m \u001b[0mfilter_manager\u001b[0m\u001b[1;33m=\u001b[0m \u001b[0mdf\u001b[0m\u001b[1;33m[\u001b[0m\u001b[0mdf\u001b[0m\u001b[1;33m[\u001b[0m\u001b[1;34m'JobTitle'\u001b[0m\u001b[1;33m]\u001b[0m\u001b[1;33m==\u001b[0m \u001b[1;34m'Manager'\u001b[0m\u001b[1;33m]\u001b[0m\u001b[1;33m\u001b[0m\u001b[1;33m\u001b[0m\u001b[0m\n\u001b[1;32m----> 6\u001b[1;33m \u001b[0mfilter_manager_count\u001b[0m \u001b[1;33m=\u001b[0m \u001b[0mfilter_manager\u001b[0m\u001b[1;33m.\u001b[0m \u001b[0mcounts\u001b[0m\u001b[1;33m(\u001b[0m\u001b[1;33m)\u001b[0m\u001b[1;33m\u001b[0m\u001b[1;33m\u001b[0m\u001b[0m\n\u001b[0m\u001b[0;32m      7\u001b[0m \u001b[0mfilter_manager_count\u001b[0m\u001b[1;33m\u001b[0m\u001b[1;33m\u001b[0m\u001b[0m\n",
      "\u001b[1;32m~\\.ipython\\Lib\\site-packages\\pandas\\core\\generic.py\u001b[0m in \u001b[0;36m?\u001b[1;34m(self, name)\u001b[0m\n\u001b[0;32m   6295\u001b[0m             \u001b[1;32mand\u001b[0m \u001b[0mname\u001b[0m \u001b[1;32mnot\u001b[0m \u001b[1;32min\u001b[0m \u001b[0mself\u001b[0m\u001b[1;33m.\u001b[0m\u001b[0m_accessors\u001b[0m\u001b[1;33m\u001b[0m\u001b[1;33m\u001b[0m\u001b[0m\n\u001b[0;32m   6296\u001b[0m             \u001b[1;32mand\u001b[0m \u001b[0mself\u001b[0m\u001b[1;33m.\u001b[0m\u001b[0m_info_axis\u001b[0m\u001b[1;33m.\u001b[0m\u001b[0m_can_hold_identifiers_and_holds_name\u001b[0m\u001b[1;33m(\u001b[0m\u001b[0mname\u001b[0m\u001b[1;33m)\u001b[0m\u001b[1;33m\u001b[0m\u001b[1;33m\u001b[0m\u001b[0m\n\u001b[0;32m   6297\u001b[0m         \u001b[1;33m)\u001b[0m\u001b[1;33m:\u001b[0m\u001b[1;33m\u001b[0m\u001b[1;33m\u001b[0m\u001b[0m\n\u001b[0;32m   6298\u001b[0m             \u001b[1;32mreturn\u001b[0m \u001b[0mself\u001b[0m\u001b[1;33m[\u001b[0m\u001b[0mname\u001b[0m\u001b[1;33m]\u001b[0m\u001b[1;33m\u001b[0m\u001b[1;33m\u001b[0m\u001b[0m\n\u001b[1;32m-> 6299\u001b[1;33m         \u001b[1;32mreturn\u001b[0m \u001b[0mobject\u001b[0m\u001b[1;33m.\u001b[0m\u001b[0m__getattribute__\u001b[0m\u001b[1;33m(\u001b[0m\u001b[0mself\u001b[0m\u001b[1;33m,\u001b[0m \u001b[0mname\u001b[0m\u001b[1;33m)\u001b[0m\u001b[1;33m\u001b[0m\u001b[1;33m\u001b[0m\u001b[0m\n\u001b[0m",
      "\u001b[1;31mAttributeError\u001b[0m: 'DataFrame' object has no attribute 'counts'"
     ]
    }
   ],
   "source": [
    "# USE APPLY FUNCTION\n",
    "\n",
    "# YOUR CODE IS HERE\n",
    "\n",
    "filter_manager= df[df['JobTitle']== 'Manager']\n",
    "filter_manager_count = filter_manager. counts()\n",
    "filter_manager_count"
   ]
  },
  {
   "cell_type": "code",
   "execution_count": 140,
   "metadata": {},
   "outputs": [
    {
     "data": {
      "text/plain": [
       "3080"
      ]
     },
     "execution_count": 140,
     "metadata": {},
     "output_type": "execute_result"
    }
   ],
   "source": [
    "def contains_manager(title):\n",
    "    return 'Manager' in title\n",
    "\n",
    "\n",
    "# Apply the function to the JobTitle column and sum the True values\n",
    "manager_count = df['JobTitle'].apply(contains_manager).sum()\n",
    "manager_count"
   ]
  },
  {
   "cell_type": "code",
   "execution_count": 142,
   "metadata": {},
   "outputs": [
    {
     "data": {
      "text/plain": [
       "3080"
      ]
     },
     "execution_count": 142,
     "metadata": {},
     "output_type": "execute_result"
    }
   ],
   "source": []
  },
  {
   "cell_type": "raw",
   "metadata": {
    "id": "l9tvgVWtbbEF"
   },
   "source": [
    "Desired Output:\n",
    "\n",
    "4110"
   ]
  },
  {
   "cell_type": "markdown",
   "metadata": {
    "id": "UsSkiFyVAd_Y"
   },
   "source": [
    "### Take Id, EmployeeName, JobTitle, TotalPay and TotalPayBenefits columns with iloc and assign them as sal_new dataframe."
   ]
  },
  {
   "cell_type": "code",
   "execution_count": 143,
   "metadata": {
    "id": "31MPBM2UAd_Y"
   },
   "outputs": [
    {
     "data": {
      "text/html": [
       "<div>\n",
       "<style scoped>\n",
       "    .dataframe tbody tr th:only-of-type {\n",
       "        vertical-align: middle;\n",
       "    }\n",
       "\n",
       "    .dataframe tbody tr th {\n",
       "        vertical-align: top;\n",
       "    }\n",
       "\n",
       "    .dataframe thead th {\n",
       "        text-align: right;\n",
       "    }\n",
       "</style>\n",
       "<table border=\"1\" class=\"dataframe\">\n",
       "  <thead>\n",
       "    <tr style=\"text-align: right;\">\n",
       "      <th></th>\n",
       "      <th>Id</th>\n",
       "      <th>EmployeeName</th>\n",
       "      <th>JobTitle</th>\n",
       "      <th>TotalPay</th>\n",
       "      <th>TotalPayBenefits</th>\n",
       "    </tr>\n",
       "  </thead>\n",
       "  <tbody>\n",
       "    <tr>\n",
       "      <th>0</th>\n",
       "      <td>1</td>\n",
       "      <td>NATHANIEL FORD</td>\n",
       "      <td>GENERAL MANAGER-METROPOLITAN TRANSIT AUTHORITY</td>\n",
       "      <td>567595.43</td>\n",
       "      <td>567595.43</td>\n",
       "    </tr>\n",
       "    <tr>\n",
       "      <th>1</th>\n",
       "      <td>2</td>\n",
       "      <td>GARY JIMENEZ</td>\n",
       "      <td>CAPTAIN III (POLICE DEPARTMENT)</td>\n",
       "      <td>538909.28</td>\n",
       "      <td>538909.28</td>\n",
       "    </tr>\n",
       "    <tr>\n",
       "      <th>2</th>\n",
       "      <td>3</td>\n",
       "      <td>ALBERT PARDINI</td>\n",
       "      <td>CAPTAIN III (POLICE DEPARTMENT)</td>\n",
       "      <td>335279.91</td>\n",
       "      <td>335279.91</td>\n",
       "    </tr>\n",
       "    <tr>\n",
       "      <th>3</th>\n",
       "      <td>4</td>\n",
       "      <td>CHRISTOPHER CHONG</td>\n",
       "      <td>WIRE ROPE CABLE MAINTENANCE MECHANIC</td>\n",
       "      <td>332343.61</td>\n",
       "      <td>332343.61</td>\n",
       "    </tr>\n",
       "    <tr>\n",
       "      <th>4</th>\n",
       "      <td>5</td>\n",
       "      <td>PATRICK GARDNER</td>\n",
       "      <td>DEPUTY CHIEF OF DEPARTMENT,(FIRE DEPARTMENT)</td>\n",
       "      <td>326373.19</td>\n",
       "      <td>326373.19</td>\n",
       "    </tr>\n",
       "    <tr>\n",
       "      <th>...</th>\n",
       "      <td>...</td>\n",
       "      <td>...</td>\n",
       "      <td>...</td>\n",
       "      <td>...</td>\n",
       "      <td>...</td>\n",
       "    </tr>\n",
       "    <tr>\n",
       "      <th>148649</th>\n",
       "      <td>148650</td>\n",
       "      <td>Roy I Tillery</td>\n",
       "      <td>Custodian</td>\n",
       "      <td>0.00</td>\n",
       "      <td>0.00</td>\n",
       "    </tr>\n",
       "    <tr>\n",
       "      <th>148650</th>\n",
       "      <td>148651</td>\n",
       "      <td>Not provided</td>\n",
       "      <td>Not provided</td>\n",
       "      <td>0.00</td>\n",
       "      <td>0.00</td>\n",
       "    </tr>\n",
       "    <tr>\n",
       "      <th>148651</th>\n",
       "      <td>148652</td>\n",
       "      <td>Not provided</td>\n",
       "      <td>Not provided</td>\n",
       "      <td>0.00</td>\n",
       "      <td>0.00</td>\n",
       "    </tr>\n",
       "    <tr>\n",
       "      <th>148652</th>\n",
       "      <td>148653</td>\n",
       "      <td>Not provided</td>\n",
       "      <td>Not provided</td>\n",
       "      <td>0.00</td>\n",
       "      <td>0.00</td>\n",
       "    </tr>\n",
       "    <tr>\n",
       "      <th>148653</th>\n",
       "      <td>148654</td>\n",
       "      <td>Joe Lopez</td>\n",
       "      <td>Counselor, Log Cabin Ranch</td>\n",
       "      <td>-618.13</td>\n",
       "      <td>-618.13</td>\n",
       "    </tr>\n",
       "  </tbody>\n",
       "</table>\n",
       "<p>148654 rows × 5 columns</p>\n",
       "</div>"
      ],
      "text/plain": [
       "            Id       EmployeeName  \\\n",
       "0            1     NATHANIEL FORD   \n",
       "1            2       GARY JIMENEZ   \n",
       "2            3     ALBERT PARDINI   \n",
       "3            4  CHRISTOPHER CHONG   \n",
       "4            5    PATRICK GARDNER   \n",
       "...        ...                ...   \n",
       "148649  148650      Roy I Tillery   \n",
       "148650  148651       Not provided   \n",
       "148651  148652       Not provided   \n",
       "148652  148653       Not provided   \n",
       "148653  148654          Joe Lopez   \n",
       "\n",
       "                                              JobTitle   TotalPay  \\\n",
       "0       GENERAL MANAGER-METROPOLITAN TRANSIT AUTHORITY  567595.43   \n",
       "1                      CAPTAIN III (POLICE DEPARTMENT)  538909.28   \n",
       "2                      CAPTAIN III (POLICE DEPARTMENT)  335279.91   \n",
       "3                 WIRE ROPE CABLE MAINTENANCE MECHANIC  332343.61   \n",
       "4         DEPUTY CHIEF OF DEPARTMENT,(FIRE DEPARTMENT)  326373.19   \n",
       "...                                                ...        ...   \n",
       "148649                                       Custodian       0.00   \n",
       "148650                                    Not provided       0.00   \n",
       "148651                                    Not provided       0.00   \n",
       "148652                                    Not provided       0.00   \n",
       "148653                      Counselor, Log Cabin Ranch    -618.13   \n",
       "\n",
       "        TotalPayBenefits  \n",
       "0              567595.43  \n",
       "1              538909.28  \n",
       "2              335279.91  \n",
       "3              332343.61  \n",
       "4              326373.19  \n",
       "...                  ...  \n",
       "148649              0.00  \n",
       "148650              0.00  \n",
       "148651              0.00  \n",
       "148652              0.00  \n",
       "148653           -618.13  \n",
       "\n",
       "[148654 rows x 5 columns]"
      ]
     },
     "execution_count": 143,
     "metadata": {},
     "output_type": "execute_result"
    }
   ],
   "source": [
    "# YOUR CODE IS HERE\n",
    "sal_new = df.iloc[:, [0, 1, 2, 7, 8]]\n",
    "sal_new"
   ]
  },
  {
   "cell_type": "markdown",
   "metadata": {
    "id": "wcxerUFxbbEF"
   },
   "source": [
    "Desired Output:\n",
    "\n",
    "![image.png](https://i.ibb.co/ZgFCbPm/assignment1e.png)"
   ]
  },
  {
   "cell_type": "markdown",
   "metadata": {
    "id": "IDfaMS0OAd_Z"
   },
   "source": [
    "### Take the columns betweeen EmployeeName and TotalPayBenefits with loc and assign them as sal_new df."
   ]
  },
  {
   "cell_type": "code",
   "execution_count": 145,
   "metadata": {
    "id": "iXoiBJ8tAd_Z"
   },
   "outputs": [
    {
     "data": {
      "text/html": [
       "<div>\n",
       "<style scoped>\n",
       "    .dataframe tbody tr th:only-of-type {\n",
       "        vertical-align: middle;\n",
       "    }\n",
       "\n",
       "    .dataframe tbody tr th {\n",
       "        vertical-align: top;\n",
       "    }\n",
       "\n",
       "    .dataframe thead th {\n",
       "        text-align: right;\n",
       "    }\n",
       "</style>\n",
       "<table border=\"1\" class=\"dataframe\">\n",
       "  <thead>\n",
       "    <tr style=\"text-align: right;\">\n",
       "      <th></th>\n",
       "      <th>EmployeeName</th>\n",
       "      <th>JobTitle</th>\n",
       "      <th>BasePay</th>\n",
       "      <th>OvertimePay</th>\n",
       "      <th>OtherPay</th>\n",
       "      <th>Benefits</th>\n",
       "      <th>TotalPay</th>\n",
       "      <th>TotalPayBenefits</th>\n",
       "    </tr>\n",
       "  </thead>\n",
       "  <tbody>\n",
       "    <tr>\n",
       "      <th>0</th>\n",
       "      <td>NATHANIEL FORD</td>\n",
       "      <td>GENERAL MANAGER-METROPOLITAN TRANSIT AUTHORITY</td>\n",
       "      <td>167411.18</td>\n",
       "      <td>0.00</td>\n",
       "      <td>400184.25</td>\n",
       "      <td>NaN</td>\n",
       "      <td>567595.43</td>\n",
       "      <td>567595.43</td>\n",
       "    </tr>\n",
       "    <tr>\n",
       "      <th>1</th>\n",
       "      <td>GARY JIMENEZ</td>\n",
       "      <td>CAPTAIN III (POLICE DEPARTMENT)</td>\n",
       "      <td>155966.02</td>\n",
       "      <td>245131.88</td>\n",
       "      <td>137811.38</td>\n",
       "      <td>NaN</td>\n",
       "      <td>538909.28</td>\n",
       "      <td>538909.28</td>\n",
       "    </tr>\n",
       "    <tr>\n",
       "      <th>2</th>\n",
       "      <td>ALBERT PARDINI</td>\n",
       "      <td>CAPTAIN III (POLICE DEPARTMENT)</td>\n",
       "      <td>212739.13</td>\n",
       "      <td>106088.18</td>\n",
       "      <td>16452.60</td>\n",
       "      <td>NaN</td>\n",
       "      <td>335279.91</td>\n",
       "      <td>335279.91</td>\n",
       "    </tr>\n",
       "    <tr>\n",
       "      <th>3</th>\n",
       "      <td>CHRISTOPHER CHONG</td>\n",
       "      <td>WIRE ROPE CABLE MAINTENANCE MECHANIC</td>\n",
       "      <td>77916.00</td>\n",
       "      <td>56120.71</td>\n",
       "      <td>198306.90</td>\n",
       "      <td>NaN</td>\n",
       "      <td>332343.61</td>\n",
       "      <td>332343.61</td>\n",
       "    </tr>\n",
       "    <tr>\n",
       "      <th>4</th>\n",
       "      <td>PATRICK GARDNER</td>\n",
       "      <td>DEPUTY CHIEF OF DEPARTMENT,(FIRE DEPARTMENT)</td>\n",
       "      <td>134401.60</td>\n",
       "      <td>9737.00</td>\n",
       "      <td>182234.59</td>\n",
       "      <td>NaN</td>\n",
       "      <td>326373.19</td>\n",
       "      <td>326373.19</td>\n",
       "    </tr>\n",
       "  </tbody>\n",
       "</table>\n",
       "</div>"
      ],
      "text/plain": [
       "        EmployeeName                                        JobTitle  \\\n",
       "0     NATHANIEL FORD  GENERAL MANAGER-METROPOLITAN TRANSIT AUTHORITY   \n",
       "1       GARY JIMENEZ                 CAPTAIN III (POLICE DEPARTMENT)   \n",
       "2     ALBERT PARDINI                 CAPTAIN III (POLICE DEPARTMENT)   \n",
       "3  CHRISTOPHER CHONG            WIRE ROPE CABLE MAINTENANCE MECHANIC   \n",
       "4    PATRICK GARDNER    DEPUTY CHIEF OF DEPARTMENT,(FIRE DEPARTMENT)   \n",
       "\n",
       "     BasePay  OvertimePay   OtherPay  Benefits   TotalPay  TotalPayBenefits  \n",
       "0  167411.18         0.00  400184.25       NaN  567595.43         567595.43  \n",
       "1  155966.02    245131.88  137811.38       NaN  538909.28         538909.28  \n",
       "2  212739.13    106088.18   16452.60       NaN  335279.91         335279.91  \n",
       "3   77916.00     56120.71  198306.90       NaN  332343.61         332343.61  \n",
       "4  134401.60      9737.00  182234.59       NaN  326373.19         326373.19  "
      ]
     },
     "execution_count": 145,
     "metadata": {},
     "output_type": "execute_result"
    }
   ],
   "source": [
    "# YOUR CODE IS HERE\n",
    "\n",
    "sal_new = df.loc[:, 'EmployeeName':'TotalPayBenefits']\n",
    "sal_new.head()"
   ]
  },
  {
   "cell_type": "markdown",
   "metadata": {
    "id": "DNrP9BPjbbEG"
   },
   "source": [
    "Desired Output:\n",
    "\n",
    "![image.png](https://i.ibb.co/s2CYS7H/assignment1f.png)"
   ]
  },
  {
   "cell_type": "markdown",
   "metadata": {
    "id": "GLNh6jmxAd_a"
   },
   "source": [
    "### Print out the names of the employees who earn more than min but less than avg."
   ]
  },
  {
   "cell_type": "code",
   "execution_count": 148,
   "metadata": {},
   "outputs": [
    {
     "data": {
      "text/plain": [
       "-618.13"
      ]
     },
     "execution_count": 148,
     "metadata": {},
     "output_type": "execute_result"
    }
   ],
   "source": [
    "min_val = df['TotalPay'].min()\n",
    "min_val"
   ]
  },
  {
   "cell_type": "code",
   "execution_count": 147,
   "metadata": {},
   "outputs": [
    {
     "data": {
      "text/plain": [
       "74768.32197169267"
      ]
     },
     "execution_count": 147,
     "metadata": {},
     "output_type": "execute_result"
    }
   ],
   "source": [
    "avg_val = df['TotalPay'].mean()\n",
    "avg_val"
   ]
  },
  {
   "cell_type": "code",
   "execution_count": 149,
   "metadata": {},
   "outputs": [
    {
     "data": {
      "text/html": [
       "<div>\n",
       "<style scoped>\n",
       "    .dataframe tbody tr th:only-of-type {\n",
       "        vertical-align: middle;\n",
       "    }\n",
       "\n",
       "    .dataframe tbody tr th {\n",
       "        vertical-align: top;\n",
       "    }\n",
       "\n",
       "    .dataframe thead th {\n",
       "        text-align: right;\n",
       "    }\n",
       "</style>\n",
       "<table border=\"1\" class=\"dataframe\">\n",
       "  <thead>\n",
       "    <tr style=\"text-align: right;\">\n",
       "      <th></th>\n",
       "      <th>Id</th>\n",
       "      <th>EmployeeName</th>\n",
       "      <th>JobTitle</th>\n",
       "      <th>BasePay</th>\n",
       "      <th>OvertimePay</th>\n",
       "      <th>OtherPay</th>\n",
       "      <th>Benefits</th>\n",
       "      <th>TotalPay</th>\n",
       "      <th>TotalPayBenefits</th>\n",
       "      <th>Year</th>\n",
       "      <th>Notes</th>\n",
       "      <th>Agency</th>\n",
       "      <th>Status</th>\n",
       "    </tr>\n",
       "  </thead>\n",
       "  <tbody>\n",
       "    <tr>\n",
       "      <th>15847</th>\n",
       "      <td>15848</td>\n",
       "      <td>TATYANA ROTENBERG</td>\n",
       "      <td>ELIGIBILITY WORKER SUPERVISOR</td>\n",
       "      <td>73155.87</td>\n",
       "      <td>0.00</td>\n",
       "      <td>1609.00</td>\n",
       "      <td>NaN</td>\n",
       "      <td>74764.87</td>\n",
       "      <td>74764.87</td>\n",
       "      <td>2011</td>\n",
       "      <td>NaN</td>\n",
       "      <td>San Francisco</td>\n",
       "      <td>NaN</td>\n",
       "    </tr>\n",
       "    <tr>\n",
       "      <th>15848</th>\n",
       "      <td>15849</td>\n",
       "      <td>WINSTON HOM</td>\n",
       "      <td>AUTOMOTIVE MACHINIST</td>\n",
       "      <td>73554.60</td>\n",
       "      <td>0.00</td>\n",
       "      <td>1206.95</td>\n",
       "      <td>NaN</td>\n",
       "      <td>74761.55</td>\n",
       "      <td>74761.55</td>\n",
       "      <td>2011</td>\n",
       "      <td>NaN</td>\n",
       "      <td>San Francisco</td>\n",
       "      <td>NaN</td>\n",
       "    </tr>\n",
       "    <tr>\n",
       "      <th>15849</th>\n",
       "      <td>15850</td>\n",
       "      <td>CRAIG RIGLER</td>\n",
       "      <td>SENIOR FARE COLLECTIONS RECEIVER</td>\n",
       "      <td>64694.49</td>\n",
       "      <td>4245.85</td>\n",
       "      <td>5819.58</td>\n",
       "      <td>NaN</td>\n",
       "      <td>74759.92</td>\n",
       "      <td>74759.92</td>\n",
       "      <td>2011</td>\n",
       "      <td>NaN</td>\n",
       "      <td>San Francisco</td>\n",
       "      <td>NaN</td>\n",
       "    </tr>\n",
       "    <tr>\n",
       "      <th>15850</th>\n",
       "      <td>15851</td>\n",
       "      <td>WENDY TAN</td>\n",
       "      <td>PORTER</td>\n",
       "      <td>48472.40</td>\n",
       "      <td>25660.36</td>\n",
       "      <td>624.00</td>\n",
       "      <td>NaN</td>\n",
       "      <td>74756.76</td>\n",
       "      <td>74756.76</td>\n",
       "      <td>2011</td>\n",
       "      <td>NaN</td>\n",
       "      <td>San Francisco</td>\n",
       "      <td>NaN</td>\n",
       "    </tr>\n",
       "    <tr>\n",
       "      <th>15851</th>\n",
       "      <td>15852</td>\n",
       "      <td>KENNETH BREWER</td>\n",
       "      <td>WATERSHED KEEPER</td>\n",
       "      <td>60206.62</td>\n",
       "      <td>198.04</td>\n",
       "      <td>14346.93</td>\n",
       "      <td>NaN</td>\n",
       "      <td>74751.59</td>\n",
       "      <td>74751.59</td>\n",
       "      <td>2011</td>\n",
       "      <td>NaN</td>\n",
       "      <td>San Francisco</td>\n",
       "      <td>NaN</td>\n",
       "    </tr>\n",
       "    <tr>\n",
       "      <th>...</th>\n",
       "      <td>...</td>\n",
       "      <td>...</td>\n",
       "      <td>...</td>\n",
       "      <td>...</td>\n",
       "      <td>...</td>\n",
       "      <td>...</td>\n",
       "      <td>...</td>\n",
       "      <td>...</td>\n",
       "      <td>...</td>\n",
       "      <td>...</td>\n",
       "      <td>...</td>\n",
       "      <td>...</td>\n",
       "      <td>...</td>\n",
       "    </tr>\n",
       "    <tr>\n",
       "      <th>148648</th>\n",
       "      <td>148649</td>\n",
       "      <td>Leon Walker</td>\n",
       "      <td>Custodian</td>\n",
       "      <td>0.00</td>\n",
       "      <td>0.00</td>\n",
       "      <td>0.00</td>\n",
       "      <td>0.0</td>\n",
       "      <td>0.00</td>\n",
       "      <td>0.00</td>\n",
       "      <td>2014</td>\n",
       "      <td>NaN</td>\n",
       "      <td>San Francisco</td>\n",
       "      <td>NaN</td>\n",
       "    </tr>\n",
       "    <tr>\n",
       "      <th>148649</th>\n",
       "      <td>148650</td>\n",
       "      <td>Roy I Tillery</td>\n",
       "      <td>Custodian</td>\n",
       "      <td>0.00</td>\n",
       "      <td>0.00</td>\n",
       "      <td>0.00</td>\n",
       "      <td>0.0</td>\n",
       "      <td>0.00</td>\n",
       "      <td>0.00</td>\n",
       "      <td>2014</td>\n",
       "      <td>NaN</td>\n",
       "      <td>San Francisco</td>\n",
       "      <td>NaN</td>\n",
       "    </tr>\n",
       "    <tr>\n",
       "      <th>148650</th>\n",
       "      <td>148651</td>\n",
       "      <td>Not provided</td>\n",
       "      <td>Not provided</td>\n",
       "      <td>NaN</td>\n",
       "      <td>NaN</td>\n",
       "      <td>NaN</td>\n",
       "      <td>NaN</td>\n",
       "      <td>0.00</td>\n",
       "      <td>0.00</td>\n",
       "      <td>2014</td>\n",
       "      <td>NaN</td>\n",
       "      <td>San Francisco</td>\n",
       "      <td>NaN</td>\n",
       "    </tr>\n",
       "    <tr>\n",
       "      <th>148651</th>\n",
       "      <td>148652</td>\n",
       "      <td>Not provided</td>\n",
       "      <td>Not provided</td>\n",
       "      <td>NaN</td>\n",
       "      <td>NaN</td>\n",
       "      <td>NaN</td>\n",
       "      <td>NaN</td>\n",
       "      <td>0.00</td>\n",
       "      <td>0.00</td>\n",
       "      <td>2014</td>\n",
       "      <td>NaN</td>\n",
       "      <td>San Francisco</td>\n",
       "      <td>NaN</td>\n",
       "    </tr>\n",
       "    <tr>\n",
       "      <th>148652</th>\n",
       "      <td>148653</td>\n",
       "      <td>Not provided</td>\n",
       "      <td>Not provided</td>\n",
       "      <td>NaN</td>\n",
       "      <td>NaN</td>\n",
       "      <td>NaN</td>\n",
       "      <td>NaN</td>\n",
       "      <td>0.00</td>\n",
       "      <td>0.00</td>\n",
       "      <td>2014</td>\n",
       "      <td>NaN</td>\n",
       "      <td>San Francisco</td>\n",
       "      <td>NaN</td>\n",
       "    </tr>\n",
       "  </tbody>\n",
       "</table>\n",
       "<p>79164 rows × 13 columns</p>\n",
       "</div>"
      ],
      "text/plain": [
       "            Id       EmployeeName                          JobTitle   BasePay  \\\n",
       "15847    15848  TATYANA ROTENBERG     ELIGIBILITY WORKER SUPERVISOR  73155.87   \n",
       "15848    15849        WINSTON HOM              AUTOMOTIVE MACHINIST  73554.60   \n",
       "15849    15850       CRAIG RIGLER  SENIOR FARE COLLECTIONS RECEIVER  64694.49   \n",
       "15850    15851          WENDY TAN                            PORTER  48472.40   \n",
       "15851    15852     KENNETH BREWER                  WATERSHED KEEPER  60206.62   \n",
       "...        ...                ...                               ...       ...   \n",
       "148648  148649        Leon Walker                         Custodian      0.00   \n",
       "148649  148650      Roy I Tillery                         Custodian      0.00   \n",
       "148650  148651       Not provided                      Not provided       NaN   \n",
       "148651  148652       Not provided                      Not provided       NaN   \n",
       "148652  148653       Not provided                      Not provided       NaN   \n",
       "\n",
       "        OvertimePay  OtherPay  Benefits  TotalPay  TotalPayBenefits  Year  \\\n",
       "15847          0.00   1609.00       NaN  74764.87          74764.87  2011   \n",
       "15848          0.00   1206.95       NaN  74761.55          74761.55  2011   \n",
       "15849       4245.85   5819.58       NaN  74759.92          74759.92  2011   \n",
       "15850      25660.36    624.00       NaN  74756.76          74756.76  2011   \n",
       "15851        198.04  14346.93       NaN  74751.59          74751.59  2011   \n",
       "...             ...       ...       ...       ...               ...   ...   \n",
       "148648         0.00      0.00       0.0      0.00              0.00  2014   \n",
       "148649         0.00      0.00       0.0      0.00              0.00  2014   \n",
       "148650          NaN       NaN       NaN      0.00              0.00  2014   \n",
       "148651          NaN       NaN       NaN      0.00              0.00  2014   \n",
       "148652          NaN       NaN       NaN      0.00              0.00  2014   \n",
       "\n",
       "        Notes         Agency  Status  \n",
       "15847     NaN  San Francisco     NaN  \n",
       "15848     NaN  San Francisco     NaN  \n",
       "15849     NaN  San Francisco     NaN  \n",
       "15850     NaN  San Francisco     NaN  \n",
       "15851     NaN  San Francisco     NaN  \n",
       "...       ...            ...     ...  \n",
       "148648    NaN  San Francisco     NaN  \n",
       "148649    NaN  San Francisco     NaN  \n",
       "148650    NaN  San Francisco     NaN  \n",
       "148651    NaN  San Francisco     NaN  \n",
       "148652    NaN  San Francisco     NaN  \n",
       "\n",
       "[79164 rows x 13 columns]"
      ]
     },
     "execution_count": 149,
     "metadata": {},
     "output_type": "execute_result"
    }
   ],
   "source": [
    "\n",
    "filtered_employees = df[(df['TotalPay'] > min_val) & (df['TotalPay'] < avg_val)]\n",
    "filtered_employees"
   ]
  },
  {
   "cell_type": "code",
   "execution_count": null,
   "metadata": {},
   "outputs": [],
   "source": []
  },
  {
   "cell_type": "code",
   "execution_count": 151,
   "metadata": {
    "id": "2lk1ZwS9Ad_a"
   },
   "outputs": [
    {
     "data": {
      "text/plain": [
       "['TATYANA ROTENBERG',\n",
       " 'WINSTON HOM',\n",
       " 'CRAIG RIGLER',\n",
       " 'WENDY TAN',\n",
       " 'KENNETH BREWER',\n",
       " 'MAKOTO TOMONAGA',\n",
       " 'BROOKE BASSETT',\n",
       " 'JENNIFER COLLINS',\n",
       " 'JAIME BARCIA',\n",
       " 'IL CHUNG',\n",
       " 'ANITA FONG',\n",
       " 'JOAN RYAN',\n",
       " 'MARTIN JENDRYSIK',\n",
       " 'IDIL BEREKET',\n",
       " 'ROGER TAM',\n",
       " 'NANCY LACAP',\n",
       " 'THOMAS BEEM',\n",
       " 'SUSIE LAU',\n",
       " 'MARC BASUINO',\n",
       " 'FENDI NG',\n",
       " 'RAMONA TORRES',\n",
       " 'LINH TRUONG',\n",
       " 'ALBERIC ANTH RIVERA',\n",
       " 'FRANCISCO SOSA',\n",
       " 'WILLIAM QUAN',\n",
       " 'RACHAEL JOHNSON',\n",
       " 'DANIEL ARANA',\n",
       " 'ILARIA SALVADORI',\n",
       " 'KRYSTEN LAINE',\n",
       " 'VERONICA MORAN-DIAZ',\n",
       " 'ANNA LISA AUSTRIA',\n",
       " 'DAVID PHILLIP',\n",
       " 'MELISSA RILEY',\n",
       " 'CHARLES BELOV',\n",
       " 'MICHAEL MAGLIULO',\n",
       " 'TUCK LUM',\n",
       " 'MICHAEL JULA',\n",
       " 'MAURICIO MONSALVE',\n",
       " 'MARY IVAS',\n",
       " 'MELINEA MELSON',\n",
       " 'OLIVIA MORENO',\n",
       " 'ALBERT SANTOYO',\n",
       " 'RAYMOND CHENG',\n",
       " 'BRIAN SAIGER',\n",
       " 'ALLISON CUMMINGS',\n",
       " 'EMILIE CHONG',\n",
       " 'DAVID CHARNEY',\n",
       " 'JOHN BITNER',\n",
       " 'CHANG HU',\n",
       " 'TIRA ROGERS',\n",
       " 'SCOTT COX',\n",
       " 'RAYMOND YOUNG',\n",
       " 'GILBERT FRAGOSO',\n",
       " 'LENA BUTLER',\n",
       " 'RICARDO MONTERO',\n",
       " 'DORA GRANERA',\n",
       " 'THOMAS HOLTON',\n",
       " 'IGOR LEVIT',\n",
       " 'ARISTIDES SALINAS',\n",
       " 'DORIS TSENG',\n",
       " 'LOTTIE BAKER',\n",
       " 'RENEE BEAUPRE',\n",
       " 'ISAIAH NJISSANG',\n",
       " 'ESTHER LANE',\n",
       " 'BRENDAN LOFTUS',\n",
       " 'BENJAMIN VOLBERDING',\n",
       " 'MELINDA NORRELL',\n",
       " 'TYRENE LABUTAN',\n",
       " 'BENJAMIN TSUI',\n",
       " 'VIVIAN SOLEMNIDAD',\n",
       " 'JERRY NG',\n",
       " 'MARIA ARINEZ',\n",
       " 'LINDA ONG',\n",
       " 'JOSE NUGUID',\n",
       " 'ELIZABETH MARANAN',\n",
       " 'SHERRY WANG',\n",
       " 'WILLIS GUO',\n",
       " 'SHERWIN SMITH',\n",
       " 'JEAN BALIBRERA',\n",
       " 'RONALD FOWLER',\n",
       " 'HECTOR SINGH',\n",
       " 'LURIA POWERS',\n",
       " 'SANDRA AVELLA',\n",
       " 'DEBRA JOAN HINES',\n",
       " 'WILLIAM TARRAN',\n",
       " 'EVANGELINE BLANCO',\n",
       " 'SUZANNE CHOI',\n",
       " 'ANN ISELY',\n",
       " 'NORBERT RALPH',\n",
       " 'FAYE DEGUZMAN',\n",
       " 'DWAYNE JOHNSON',\n",
       " 'JACQUELINE HUNTER',\n",
       " 'TERESITA ARAO',\n",
       " 'MARITZA SANCHEZ',\n",
       " 'JOHNNY TRIEU',\n",
       " 'MATTHEW LASKY',\n",
       " 'SHIOU JYUAN CHEN',\n",
       " 'JESSICA MARRUFO-FIERRO',\n",
       " 'JOSEPH SIMS',\n",
       " 'JESSIE MILLS',\n",
       " 'GLENN PHILLIPS III',\n",
       " 'JEREMY ENG',\n",
       " 'JOHNNIE MILLER',\n",
       " 'JACK GISLER',\n",
       " 'RICHARD ORTIZ-JR',\n",
       " 'KEN WU',\n",
       " 'MONICA MITCHELL',\n",
       " 'KIMBERLY GANADE-TORRES',\n",
       " 'TINA HUI CEN',\n",
       " 'NICOLE HUMPHREY',\n",
       " 'MICHAEL YEUNG',\n",
       " 'TONY YAN',\n",
       " 'STEWART ARMSTRONG',\n",
       " 'NICHOLAS ALFORD',\n",
       " 'EDWARD BARELA-III',\n",
       " 'BIN YANG',\n",
       " 'CARLOS-ANTON COLON',\n",
       " 'RACHELLE HA',\n",
       " 'ALBERT CAYABYAB',\n",
       " 'HUY TRAN',\n",
       " 'STELLA YEUNG',\n",
       " 'JACQUELINE SABO',\n",
       " 'JAMES CHASE',\n",
       " 'JASON ELEN',\n",
       " 'VICTORIA GULDBECH',\n",
       " 'SARAH CROW',\n",
       " 'LISA VUONG',\n",
       " 'VICTOR GRAYSON',\n",
       " 'KEVIN WOOLEN',\n",
       " 'CIRILO AGUILAR',\n",
       " 'DAVID ROBERTS',\n",
       " 'MODESTO ALFONSO',\n",
       " 'NICOLE WARD',\n",
       " 'ANDREW STONE',\n",
       " 'RODOLFO CLAVEL',\n",
       " 'MANUEL YAP III',\n",
       " 'ERIC XU',\n",
       " 'ABDIWAHAB HASHI',\n",
       " 'FRANCISCO MEJIA',\n",
       " 'PLESHETTE PITRE',\n",
       " 'KENNETH STEIN',\n",
       " 'SONYA CIRINO',\n",
       " 'DESTIN REY TIANERO',\n",
       " 'PHILLUP TAYLOR',\n",
       " 'RONNIE MEDINA',\n",
       " 'MICHAEL SHORT',\n",
       " 'ORLANDO DELFIN',\n",
       " 'ARMAND MANLUTAC',\n",
       " 'DESREE THOMPSON',\n",
       " 'IRA ROOKS',\n",
       " 'DARICE MURRAY-MCKAY',\n",
       " 'JUAN GARCIA',\n",
       " 'AGNES CASAYURAN',\n",
       " 'MARGARET COLFER',\n",
       " 'MIGUEL CERDA',\n",
       " 'DENNIS LIM',\n",
       " 'ABELARDO LEONARDO',\n",
       " 'LUCRECIA GUEVARA',\n",
       " 'SHIU-GOOK LIANG',\n",
       " 'YUKSWA LAU',\n",
       " 'JOSE CUEJILO',\n",
       " 'LISA MAK',\n",
       " 'MAY SHAO',\n",
       " 'HENRY KWAN',\n",
       " 'GLORIA CHU',\n",
       " 'NORA LEE',\n",
       " 'FERDINAND GAWAT',\n",
       " 'CYNTHIA GRADY',\n",
       " 'LIONG CY',\n",
       " 'TRACY CHEONG',\n",
       " 'LUIS FERDINA SALVADOR',\n",
       " 'IRENE YU',\n",
       " 'DAVID LEUNG',\n",
       " 'DANNY MINIANO',\n",
       " 'VAN HA',\n",
       " 'WAI YIN CHEUNG',\n",
       " 'BOON CHYE LIM',\n",
       " 'MATT KYAW',\n",
       " 'JOHN HUI',\n",
       " 'MARION MEYER',\n",
       " 'RONALD LWEE',\n",
       " 'CHIMMY LEE',\n",
       " 'GENEROSO DIZON',\n",
       " 'SCOTT TYLER',\n",
       " 'PAULINO LIMPIN',\n",
       " 'TIMOTHY MCDONOUGH',\n",
       " 'PATRICK SHEA',\n",
       " 'IRINA APTEKAR',\n",
       " 'STEPHAN ENOCH',\n",
       " 'MICHELLE SALAS',\n",
       " 'CARMEN ALUY',\n",
       " 'ALEXANDER RANDOLPH',\n",
       " 'RONALD TOLENTINO',\n",
       " 'JIM MYINT',\n",
       " 'JUAN ORTIZ',\n",
       " 'JAIME ESPINOZA',\n",
       " 'VALERIE BARALL',\n",
       " 'CARMELA VILLASICA',\n",
       " 'BRENDA SGAMBA',\n",
       " 'JEFFREY SMITH',\n",
       " 'BILL WU',\n",
       " 'EVA WEXLER',\n",
       " 'JACQUELINE PHILLIPS',\n",
       " 'RUDY ZAMORA JR',\n",
       " 'JANDER LACERDA',\n",
       " 'LUTRELL HUDDLESTON',\n",
       " 'NANCY PALOMO',\n",
       " 'IGNACIO ANTONI0 JR',\n",
       " 'BRENDA DONALD',\n",
       " 'SUI YU',\n",
       " 'THOMAS GALLOT',\n",
       " 'JOSEPH LIEBMAN',\n",
       " 'ANNA LOUIE',\n",
       " 'MASAKO KASAI',\n",
       " 'MARCELA ESPINO HERNANDEZ',\n",
       " 'VINH PHAN',\n",
       " 'JOSEPHINE ANGELES',\n",
       " 'RAFAEL YERA',\n",
       " 'CESAR SANCHEZ',\n",
       " 'RICARDO LOPEZ',\n",
       " 'STEPHEN PLUME',\n",
       " 'NARCISO PADERANGA',\n",
       " 'MARGARET SHIFFLER',\n",
       " 'JAMES MCCORMICK',\n",
       " 'JEANNE FOULIS',\n",
       " 'M. ALICIA TALAVERA',\n",
       " 'DAVID LO',\n",
       " 'GEORGE GONG',\n",
       " 'MILTON K SO',\n",
       " 'KARINA ZHANG',\n",
       " 'DANIEL LI',\n",
       " 'TRINA BELL',\n",
       " 'AIDA HENRY',\n",
       " 'TRACIE NORRIS',\n",
       " 'MONA BARRON',\n",
       " 'MARK LAMOUREAUX',\n",
       " 'MARTHA DOMINGUEZ GLUMAZ',\n",
       " 'RODOLFO RODRIGUEZ',\n",
       " 'DAN HUYNH',\n",
       " 'LEA KRANCI',\n",
       " 'SYLVIA PASCAL',\n",
       " 'ANZHONG YANG',\n",
       " 'ALEKSANDR ANDREYENKO',\n",
       " 'HELEN STORRS',\n",
       " 'DIANE DAVIS-GASKINS',\n",
       " 'ROMAN KOROLEV',\n",
       " 'GREGORY IVORY',\n",
       " 'CHUN LAW',\n",
       " 'THOMAS TAYLOR',\n",
       " 'PETER LEE',\n",
       " 'NANCY SILVERROD',\n",
       " 'SHELLY HOUK',\n",
       " 'BETSY LEVINE',\n",
       " 'ELEANA ARIZAGA',\n",
       " 'TIMOTHY TROY',\n",
       " 'ELIZABETH CHOY',\n",
       " 'MINH VU',\n",
       " 'RAUL RODRIGUEZ',\n",
       " 'PATRICK ODONOGHUE',\n",
       " 'LINDA JOHNSTON',\n",
       " 'COLLEEN MCCOY-HARLEY',\n",
       " 'CHRISTINE ARRIGALE',\n",
       " 'DENNIS DIZON',\n",
       " 'JUANA GONZALEZ',\n",
       " 'LUISA INCA',\n",
       " 'LYNN DAO',\n",
       " 'CHARLES WILLIAMS',\n",
       " 'ROBIN HANSEN',\n",
       " 'MELA ARMSTRONG',\n",
       " 'CURTIS SMITH',\n",
       " 'PETER FITZPATRICK',\n",
       " 'ROBERT CRABILL',\n",
       " 'BASIL CANION',\n",
       " 'ELENITA ALBERTO',\n",
       " 'THERESA LUDWIG',\n",
       " 'ALAN ROSENLICHT',\n",
       " 'AZIM SHAIKH',\n",
       " 'FRANCES BREEDING',\n",
       " 'TUTI SUARDANA',\n",
       " 'TSUN CHAN',\n",
       " 'JOHNNIE YOUNG',\n",
       " 'ZHI JIE ZHAO',\n",
       " 'CARL COLLINS',\n",
       " 'MICHAEL JANG',\n",
       " 'DOVE YU',\n",
       " 'LETICIA CABATO',\n",
       " 'LYDIA SAWACHI',\n",
       " 'HAI NGO',\n",
       " 'JESSALYNN WONG',\n",
       " 'CYNTHIA BURA',\n",
       " 'DELILAH DOMINGUEZ',\n",
       " 'MARGARET SIEGEL',\n",
       " 'ADELINE HWANG',\n",
       " 'PATRICIA JACOBSEN',\n",
       " 'YOLANDA ROBINSON',\n",
       " 'NENA ULEP',\n",
       " 'MARTHA ESPANA',\n",
       " 'MAY TO-TANG',\n",
       " 'ROSHEDY RAPIDES',\n",
       " 'ROBERT GILLESPIE',\n",
       " 'BEVERLY HAYES',\n",
       " 'JOHN MATTIAS',\n",
       " 'ARLYN SERNA',\n",
       " 'FELIPE OCHOA',\n",
       " 'CRAIG COHEN',\n",
       " 'JOEL HUGHES',\n",
       " 'IMELDA BRILLANTES',\n",
       " 'MICHAEL BYNUM',\n",
       " 'STUART GURTMAN',\n",
       " 'MARIA ALEMAN',\n",
       " 'ANA MOMBENI',\n",
       " 'CORNELIA HUANG',\n",
       " 'LAVINIA MEADOWS',\n",
       " 'ANNE-CHRISTI ADAMSON',\n",
       " 'LOURDES BONIFACIO',\n",
       " 'MARGAUX KELLY',\n",
       " 'WARREN SANDERS',\n",
       " 'RONALD REYES',\n",
       " 'JAMES BARNES',\n",
       " 'JONATHAN CHAN',\n",
       " 'TERENCE HUEY',\n",
       " 'ANDREW REYNOLDS',\n",
       " 'ANGELA LUNDE',\n",
       " 'MEI HUNG',\n",
       " 'LAUREL BARSOTTI',\n",
       " 'RENEE WEBB',\n",
       " 'VICTOR GUERRERO',\n",
       " 'LIH-MEEI LEU',\n",
       " 'JASMIN SPRINGER',\n",
       " 'JONATHAN YEE',\n",
       " 'ESTACIA WELLS',\n",
       " 'JEFF HODGINS',\n",
       " 'GRACE MATTIOLI',\n",
       " 'TIMOTHY WILSON',\n",
       " 'ANDREA GRIMES',\n",
       " 'JOSEFINA JUAREZ',\n",
       " 'MARISA ROSKELLEY',\n",
       " 'SALLY BUCHMANN',\n",
       " 'POURAN LIND',\n",
       " 'ANITA CHEN',\n",
       " 'RICKY CHAN',\n",
       " 'IRINA SERGIAN',\n",
       " 'SHAHRAM SABAGHPOUR',\n",
       " 'BERTHA CAVIT',\n",
       " 'TOM BENCICH',\n",
       " 'MARVIN CHIN',\n",
       " 'IVAN NGOON',\n",
       " 'MARIO HENRIQUEZ',\n",
       " 'JANICE TORBET',\n",
       " 'LINDA FONG-ELBAGGARI',\n",
       " 'MARY ANN LANGVARDT',\n",
       " 'JULIETA LAI',\n",
       " 'LUIS MENDIVIL NEVAREZ',\n",
       " 'WALTER ANG',\n",
       " 'LOVERNE MENDOZA',\n",
       " 'CARL STEVENSON',\n",
       " 'YIXIN LI',\n",
       " 'JOHN NELSON',\n",
       " 'MICHAEL LEWELLING',\n",
       " 'PHYLLIS HUMPHREY',\n",
       " 'DEBORAH BARONE',\n",
       " 'BENJAMIN INES',\n",
       " 'ALEXANDER SMITH',\n",
       " 'RICHARD NG',\n",
       " 'PATRICIA TELL',\n",
       " 'JENNIFER RAKOWSKI',\n",
       " 'CYNTHIA MARTINEZ',\n",
       " 'GRETCHEN GOOD',\n",
       " 'MARILYN CURRY',\n",
       " 'JONATHAN TSO',\n",
       " 'BERNICE CASEY',\n",
       " 'MICHAEL WEBSTER',\n",
       " 'ERIC ZUERCHER',\n",
       " 'DAVE PALLERA',\n",
       " 'MARCO CHAVARIN',\n",
       " 'RITA SHIAU',\n",
       " 'WILLIAM WOOD',\n",
       " 'TAMI SUZUKI',\n",
       " 'MYLENE ESPIRITU',\n",
       " 'DENNIS RAAB',\n",
       " 'JOHN NGO',\n",
       " 'TANGANYIKA GORDON',\n",
       " 'GEORGE ORO JR',\n",
       " 'DAVID GHISELIN',\n",
       " 'CYNTHIA MARSHALL',\n",
       " 'NOE VILLARREAL',\n",
       " 'STEVEN HAVER',\n",
       " 'LORNA DUTT',\n",
       " 'JOHN THRAILKILL',\n",
       " 'SUE BROWN',\n",
       " 'KIET NGUYEN',\n",
       " 'JACQUELINE GUTIERREZ',\n",
       " 'CHIA-LING TSAI',\n",
       " 'ALICIA JOHN BAPTISTE',\n",
       " 'LORENZO IRIARTE',\n",
       " 'SYLVIA COTTO',\n",
       " 'FLOYD JACKSON JR',\n",
       " 'CURTIS BURNS',\n",
       " 'JIMMY NG',\n",
       " 'MARCUS ALEXANDER',\n",
       " 'DOHRMAN WONG',\n",
       " 'ALICIA FRIAS',\n",
       " 'BARRY RODRIGUEZ',\n",
       " 'RONALD JARRELL',\n",
       " 'JEREMIAH BRYANT',\n",
       " 'ALICIA NARAYAN',\n",
       " 'EVELYN MCWAY',\n",
       " 'JENNING GEE',\n",
       " 'CELLA MITCHELL',\n",
       " 'ERNIE PRIETO',\n",
       " 'DAVID THOMPSON',\n",
       " 'OLIVER OKORO',\n",
       " 'LAURIE KUM',\n",
       " 'ROBERT HO',\n",
       " 'BARBARA REINOSA',\n",
       " 'LISA REYES',\n",
       " 'ZHUOXIN WEN',\n",
       " 'LAVONNE KYLE',\n",
       " 'ALEX LOPEZ',\n",
       " 'CHRISTOPHER DAMONTE',\n",
       " 'EMILY CHANG',\n",
       " 'CARL WEAVER',\n",
       " 'VIVIAN SHOWERS',\n",
       " 'ARMANTINA HENRIQUEZ',\n",
       " 'SUSAN CHIU',\n",
       " 'CATHERINE PEARSON',\n",
       " 'CATHY MCCARTHY',\n",
       " 'KAREN CHIN',\n",
       " 'JOYCELYN PEREZ',\n",
       " 'CHRISTINE DEL-FAVA',\n",
       " 'STEWART SHAW',\n",
       " 'MARLA BERGMAN',\n",
       " 'PRISCILLA LENH',\n",
       " 'GORDON SHYY',\n",
       " 'THOMAS CAREY',\n",
       " 'ROMEO TAGLE',\n",
       " 'JOEL AVILES',\n",
       " 'RENE ABELEDA',\n",
       " 'AARON STEVENSON',\n",
       " 'COLLEEN GARRETT',\n",
       " 'MULLANE AHERN',\n",
       " 'PHILLIP MAU',\n",
       " 'DOUGLAS LIANG',\n",
       " 'EILEEN GALARZA',\n",
       " 'AUDREY ARMOUR',\n",
       " 'ESTELA MORAN',\n",
       " 'SALLY WONG',\n",
       " 'DEBBIE CROWLEY',\n",
       " 'MONICA HEINZ',\n",
       " 'EUGENE STEPTOE',\n",
       " 'GABRIEL ELGRABLY',\n",
       " 'JESSE GUTHRIE',\n",
       " 'JO ANN BRYCE',\n",
       " 'KELLY BOOKER',\n",
       " 'ALAN WHITNEY',\n",
       " 'JOSE GUTIERREZ-PADILLA',\n",
       " 'AMY PERRY',\n",
       " 'DAT QUACH',\n",
       " 'NORMA DEL RIO',\n",
       " 'TERRENCE GEE',\n",
       " 'BRUCE FUNG',\n",
       " 'ABDOL CHALAK',\n",
       " 'DANIEL WELCH',\n",
       " 'HELEN LAU',\n",
       " 'HONG WU',\n",
       " 'PAMELA OW',\n",
       " 'ARTHUR AZUCENA',\n",
       " 'VERNETTA PERRY',\n",
       " 'JENNIFER CHIU',\n",
       " 'KULWANT KAUR',\n",
       " 'NESTOR GATCHALIAN',\n",
       " 'BIENVENIDO OCENADA',\n",
       " 'ANNE LANE',\n",
       " 'NAPOLEON CONTE JR',\n",
       " 'DOUGLAS SMITH',\n",
       " 'WILLIE BROWN',\n",
       " 'LISA VESTAL',\n",
       " 'MARTIN ESPINOSA',\n",
       " 'RUBEN NOVERO',\n",
       " 'MARVA WINTZ',\n",
       " 'SAN LIN',\n",
       " 'CLAUDIA LUQUIN',\n",
       " 'RICHARD AUELUA',\n",
       " 'AMARITA KING',\n",
       " 'DAVID TRAN',\n",
       " 'ATAKLTI BETRE',\n",
       " 'WON SUK OH',\n",
       " 'TERESA OBRIEN',\n",
       " 'JESUS FIGUEROA',\n",
       " 'BILL TOM',\n",
       " 'OSCAR PORRAS',\n",
       " 'GLYNN BARNES',\n",
       " 'ARLENE ESCUETA',\n",
       " 'GILBERTO ALARCON',\n",
       " 'ANGELES HUANG',\n",
       " 'XIANG AMY LI',\n",
       " 'LUZVIMINDA GALIMBA',\n",
       " 'BARBARA MCMAHAN',\n",
       " 'HAZAM BEYENE',\n",
       " 'MONNIE EFROSS',\n",
       " 'ANDRE MAYO',\n",
       " 'GERALD SANTIAGO',\n",
       " 'KELLY TOTH',\n",
       " 'HADAS DESTA',\n",
       " 'LUCIA RELOS',\n",
       " 'CARL MITCHELL',\n",
       " 'CHRISTIANA OGBONNA',\n",
       " 'EDGARDO PAGADUAN',\n",
       " 'LARRY JENNING',\n",
       " 'TOMMY STRICKLAND',\n",
       " 'DANICA MARTINEZ',\n",
       " 'JOSEPH HOESCHEN',\n",
       " 'FREDRICK GITTHENS',\n",
       " 'YING LU',\n",
       " 'ANGELA JONES',\n",
       " 'ADELINA MEJIA',\n",
       " 'LAWRENCE LAU',\n",
       " 'NIEN VIEN',\n",
       " 'DAVID BANKS',\n",
       " 'ANDREW RODRIGUEZ',\n",
       " 'JOSEPH TANIZAWA',\n",
       " 'AUDREY NAUER-ALLEN',\n",
       " 'IVAN MORALES',\n",
       " 'JOSEPH BELL',\n",
       " 'SHIRLEY CHRISTOPHER',\n",
       " 'GLORIA MARTINEZ',\n",
       " 'JENNIFER HICKMAN',\n",
       " 'ALBERT HSIUNG',\n",
       " 'AUGUSTA DUNCAN',\n",
       " 'MICHELLE BERRY',\n",
       " 'MARI SOLIS',\n",
       " 'LINDA LETO',\n",
       " 'KATHRYN EBERLY',\n",
       " 'SANDRA URBINA',\n",
       " 'M ASHRAF MANN',\n",
       " 'ANGELITA MCCALL',\n",
       " 'AVELINO LEE',\n",
       " 'DOMINGO BOBILA JR',\n",
       " 'LIGAYA ESPOSO',\n",
       " 'MICHAEL SCHELL',\n",
       " 'AURORA BOADO',\n",
       " 'VIVIAN HYUN',\n",
       " 'EARTHA JORDAN',\n",
       " 'JOAN ALMEIDA',\n",
       " 'MOHAMED BHAM',\n",
       " 'GREGORY SOLOMONOW',\n",
       " 'FIDELA BULACLAC',\n",
       " 'DU MACK',\n",
       " 'ANNIE CHAN',\n",
       " 'AMIE ZAPANTA',\n",
       " 'MARY ANN CERASOLI',\n",
       " 'JOSEFINA GUMBA',\n",
       " 'RAYMOND BOUCHER',\n",
       " 'SUNNY FU',\n",
       " 'BETHSAIDA NOVERO',\n",
       " 'YELENA BILYAK',\n",
       " 'LATARSHA GREEN',\n",
       " 'DONIKI DUDLEY',\n",
       " 'TODD POWER',\n",
       " 'ALBERTO PEREZ',\n",
       " 'MARJORIE LAMUG',\n",
       " 'JUNE SCHLOTFELDT-CATO',\n",
       " 'XANTHY MICHEALSEN',\n",
       " 'YORSY LARRABURO NARANJO',\n",
       " 'ROY KNUCKLES',\n",
       " 'CAROL MELVIN',\n",
       " 'BILL WONG',\n",
       " 'RICHARD SCHMIDT',\n",
       " 'MIKHAIL PASHKOV',\n",
       " 'DANIEL BORGFELDT',\n",
       " 'SONNY LEE',\n",
       " 'MICHAEL PORTER',\n",
       " 'DENISE THURMAN',\n",
       " 'DANETTE CRUZ',\n",
       " 'VICENTE CENTENO',\n",
       " 'DOMINIC PISCIOTTO',\n",
       " 'MARY MAGEE',\n",
       " 'SULLIVAN PHILLIPS',\n",
       " 'JUAN RUIZ DEALDA',\n",
       " 'ALAN STRIEGLE',\n",
       " 'DANIEL SPILLANE',\n",
       " 'ANTENOR ARENAS JR',\n",
       " 'WILLIAM YAN',\n",
       " 'VICTOR MEDRANO',\n",
       " 'JOSEPH AVILA',\n",
       " 'JUSTIN MORGAN',\n",
       " 'DEXTER CHONG',\n",
       " 'CATHERINE CURTIS',\n",
       " 'PADMANABA PILLAI',\n",
       " 'CLAIR WILDMAN',\n",
       " 'JONATHAN LIN',\n",
       " 'WENDY KRAMER',\n",
       " 'INES ASCENCIO',\n",
       " 'DARLENE ARMANINO',\n",
       " 'STAYCEE GORDON',\n",
       " 'JORGE AVENDANO',\n",
       " 'GERALD CRUZ',\n",
       " 'LENORE CRAWFORD',\n",
       " 'LORINA RUEDA',\n",
       " 'BRIAN DANIELS',\n",
       " 'DENISE SCHMIDT',\n",
       " 'VINCENT MCENERNEY',\n",
       " 'KIM BAGGETT',\n",
       " 'CHAN DUONG',\n",
       " 'JOHN KUN',\n",
       " 'PEDRO MELENDEZ',\n",
       " 'SHIH WEI LU',\n",
       " 'KEISHA FAIRLEY',\n",
       " 'MARY MA',\n",
       " 'DOVIA SCHEXNAYDER',\n",
       " 'PATTY TSANG',\n",
       " 'IVY HANKINS',\n",
       " 'DARREL HO',\n",
       " 'JOCELYN POU',\n",
       " 'RAYMONE GARNER',\n",
       " 'WINILYN HIDALGO',\n",
       " 'STEPHANA MCCLARAN',\n",
       " 'DIANA FUNG',\n",
       " 'CHRISTINA MORETTA',\n",
       " 'RACHEL GOSIENGFIAO',\n",
       " 'JENNIFER NOVAK',\n",
       " 'DEBORAH BROWN',\n",
       " 'JANIE HILLYER',\n",
       " 'JOHN VIDAL',\n",
       " 'BRIAN SICKLES',\n",
       " 'SEAN STAGLIANO',\n",
       " 'DOMINIC GULLEY',\n",
       " 'CLAIRE AYUBAN',\n",
       " 'ANTHONY LEE',\n",
       " 'SHERRILL QUARTINI-HUDDLEST',\n",
       " 'SAU CHAN',\n",
       " 'JAMES JESKE',\n",
       " 'STEVEN ELDER',\n",
       " 'GLEN JAMES JR',\n",
       " 'SELVIN CABRERA',\n",
       " 'LISSETTE SOUZA',\n",
       " 'SARAH DE LA CERDA',\n",
       " 'DAVID LUONG',\n",
       " 'PAULINA ARMSTRONG',\n",
       " 'ISHEAL MARTIN JR',\n",
       " 'TRUONG TRAN',\n",
       " 'DEBORAH LIM',\n",
       " 'JERILYN DOWNING',\n",
       " 'LAWRENCE PECK',\n",
       " 'MIGUEL DUARTE',\n",
       " 'SOPHIA BILLOTE',\n",
       " 'ROSE HUANG',\n",
       " 'MABEL CHOW',\n",
       " 'GLEN MINIOZA',\n",
       " 'JOSHUA ARNOLD',\n",
       " 'ALEJANDRO VALDEZ',\n",
       " 'ANDREE MOUTON',\n",
       " 'JERMAINE JOSEPH',\n",
       " 'JAMES TRAINA',\n",
       " 'CREZIA TANO',\n",
       " 'ARLENE HALL',\n",
       " 'NANCY LIM',\n",
       " 'EMILY KRETZ',\n",
       " 'SYLVIA THAI',\n",
       " 'PETER AVILES',\n",
       " 'MARK FENN',\n",
       " 'SOGRA KADIR',\n",
       " 'HERBERT HERNANDEZ',\n",
       " 'LILA SETO',\n",
       " 'ANNALIE FLORES',\n",
       " 'ANGELA TEODOSIO',\n",
       " 'REGINA WELLS ROSS',\n",
       " 'TUE PHAN',\n",
       " 'ZACKARY TAYLOR',\n",
       " 'EDWARD LI',\n",
       " 'CINDY TOM',\n",
       " 'PETER GORBACHEV',\n",
       " 'LIAM CURRY',\n",
       " 'ROMULO ADIAO',\n",
       " 'TERESA VALDIVIA',\n",
       " 'REBECCA WINTERER',\n",
       " 'SHIRLEE WHITE',\n",
       " 'KATHLEEN SMOOKLER',\n",
       " 'MILLIE ARANDA',\n",
       " 'JOANNE CARR',\n",
       " 'MYRNA MATA',\n",
       " 'SOPHIA SIMPLICIANO',\n",
       " 'MICHAELA GREELEY',\n",
       " 'LUZVIMINDA TAN',\n",
       " 'MYRNA EVANGELISTA',\n",
       " 'ROSIE SCOTT',\n",
       " \"STEPHANIE O'GUINN\",\n",
       " 'HELEN LAU',\n",
       " 'ANNIE KNIGHT',\n",
       " 'EUGENIA TAULEALO',\n",
       " 'CAROLYN JAYIN',\n",
       " 'JAIME TIJERINO',\n",
       " 'IRENE CHENG-TAM',\n",
       " 'REBECCA ONA',\n",
       " 'ARLENE RUBINO',\n",
       " 'SHARON PAGE RITCHIE',\n",
       " 'SERAFINA COLLINS',\n",
       " 'ROSLYNN GRIMAL',\n",
       " 'ALMERITA CASTILLO',\n",
       " 'VIRGINIA FRANKLIN',\n",
       " 'TERESA ROIZ',\n",
       " 'DEBORAH TOY',\n",
       " 'CHRISTINA HO',\n",
       " 'RUBY HENDERSON',\n",
       " 'LUCILLE SANCHEZ',\n",
       " 'JOHN BALESTRIERI',\n",
       " 'BETHANY CAGEN',\n",
       " 'MARC LIPSCHUTZ',\n",
       " 'VIRGINIA AH NIN',\n",
       " 'ANDREW MOLINA',\n",
       " 'RICHARD KURYLO',\n",
       " 'VOLTAIRE BARSANA',\n",
       " 'MINGDE FENG',\n",
       " 'VICTORIA MYCUE',\n",
       " 'LEO MAGUIRE',\n",
       " 'CHARLES EVANS',\n",
       " 'PETER WHITCOMB-JR',\n",
       " 'RACHEL CUKIERMAN',\n",
       " 'ANNIE GEE',\n",
       " 'HO MAN',\n",
       " 'RICHARD LOW',\n",
       " 'CHARLOTTE KUO',\n",
       " 'MARI ANDERSON',\n",
       " 'JOHN SCHEMBARI',\n",
       " 'PHELICIA JONES',\n",
       " 'JERRY CALLOWAY',\n",
       " 'BARBARA MOSS',\n",
       " 'CLIFTON RAYNOR',\n",
       " 'GEORGE BROWN JR',\n",
       " 'ANWAR BAIG',\n",
       " 'ELSIE RAPISURA',\n",
       " 'JOSEPH RAND',\n",
       " 'RENATO BAURE',\n",
       " 'SUE KYAUN',\n",
       " 'FIROOZEH PARSA NEZHAD',\n",
       " 'GRACIA MONTERROSA',\n",
       " 'JIMMY WONG',\n",
       " 'FLORENCIO DEVERA',\n",
       " 'MICHAEL FOX',\n",
       " 'CONNIE KWAN',\n",
       " 'NIGEL WOODS',\n",
       " 'SHAUNA OLEARY',\n",
       " 'DIANA QUAN',\n",
       " 'JEANNE SCHOENSTEIN',\n",
       " 'ENRIQUE VERA',\n",
       " 'MARGARET TSE',\n",
       " 'ELEONOR COLLEMACINE',\n",
       " 'MARTIN MUNOZ',\n",
       " 'REBEKAH BUZOLICH',\n",
       " 'JESSICA HUEY',\n",
       " 'DIANE HANDA',\n",
       " 'GABRIEL CASTILLO',\n",
       " 'DARYL NG',\n",
       " 'FRANK MARINO',\n",
       " 'LESLIE EREKSON',\n",
       " 'ROSA CHAN',\n",
       " 'LAWRENCE MAH',\n",
       " 'MIRYO KIM',\n",
       " 'IVANIA NAVARRETE',\n",
       " 'ALLAN PETALVER',\n",
       " 'JULIANN ROBINSON',\n",
       " 'JOSEPH SUE',\n",
       " 'OSCAR BAEZA',\n",
       " 'ARCELIA MICHEL',\n",
       " 'SUSAN GIAMMATTEI',\n",
       " 'ZHAOTING CAI',\n",
       " 'EUGENIA TOM',\n",
       " 'PERCIVAL GARCIA',\n",
       " 'RANDY CHOW',\n",
       " 'ANTOINETTE ALLEN',\n",
       " 'BONNIE BERNARD',\n",
       " 'JILL SCHROEDER',\n",
       " 'ANDREW GARTH',\n",
       " 'VALERIE REICHERT',\n",
       " 'RICARDO ARANDA',\n",
       " 'CHRISTINA LOWE',\n",
       " 'JONATHAN-DAT LAM',\n",
       " 'VICTORIANO CANOVAS',\n",
       " 'ALETA WASHINGTON',\n",
       " 'CONSTANTINO CAMPOS',\n",
       " 'CARL LOVE',\n",
       " 'DIANE TELLEZ',\n",
       " 'JOHN SAMPIOR',\n",
       " 'APRIL WAN',\n",
       " 'PEACHY MATIAS',\n",
       " 'MAURILIO LEON',\n",
       " 'HENRY TANG',\n",
       " 'DAVID BURKE',\n",
       " 'MIGUEL HERNANDEZ',\n",
       " 'JOSEPH GARCIA',\n",
       " 'JEREMIAH MCGOVERN',\n",
       " 'BURT HAMROL',\n",
       " 'PHILLIP JOE',\n",
       " 'RICHARD DUNN',\n",
       " 'LUIS ADONA',\n",
       " 'LARRY NEBRON',\n",
       " 'EDWARDS LEW',\n",
       " 'LILIAN VALERIO',\n",
       " 'PRISCILA MORETO',\n",
       " 'ANNA JUNG',\n",
       " 'ALLEN ZHANG',\n",
       " 'RONNIE CARANDANG',\n",
       " 'JANET DACANAY',\n",
       " 'ALLA RIVAS',\n",
       " 'EDGAR SALCEDO',\n",
       " 'PETER TURDICI',\n",
       " 'CHRISTINE NG',\n",
       " 'VICTORIA VASILEVITSKY',\n",
       " 'JAMES LOK YUNG',\n",
       " 'HERMINIA SANGALANG',\n",
       " 'TUY-VIET TRAN',\n",
       " 'INNA GRINBERG',\n",
       " 'CARLOS BERRIOS',\n",
       " 'OHN MYINT',\n",
       " 'HELEN JUNG',\n",
       " 'HARRIET LEM',\n",
       " 'LEUL DEMOZ',\n",
       " 'PETER YU',\n",
       " 'PETER PARDINI',\n",
       " 'ANICETO MANONGDO',\n",
       " 'DIANA JOHNSON',\n",
       " 'ELISE LUSK',\n",
       " 'HIJASMIN BLANCO',\n",
       " 'ANGELA WILSON',\n",
       " 'VINCENT MABUTAS',\n",
       " 'MARIA MOLLOY',\n",
       " 'CHARLES CALDWELL',\n",
       " 'NAZARIO GUINTO',\n",
       " 'LISA KIENDRA',\n",
       " 'RODERICK SKINNER',\n",
       " 'REYNAN MANALAC',\n",
       " 'MICHELLE DEL ROSARIO YOUNG',\n",
       " 'CANDIE MATTSON',\n",
       " 'SHARON LAI',\n",
       " 'WILLIAM HUGGINS',\n",
       " 'STUART ON',\n",
       " 'MATTHEW SAXTON',\n",
       " 'ALEXIS WILLIAMS',\n",
       " 'MICHAEL CHAU',\n",
       " 'MARLEN SANCHEZ',\n",
       " 'ROXANA MORALES',\n",
       " 'JEFFREY BLACK',\n",
       " 'ANNA JEW',\n",
       " 'LYNN LEVEY',\n",
       " 'TAMMY SANDERS',\n",
       " 'VANESSA BROWN',\n",
       " 'MARTHA RIVAS',\n",
       " 'KIMBERLY CHANG',\n",
       " 'YONG JIAN XU',\n",
       " 'BRIDGET BOYLAN',\n",
       " 'MARIE BULATAO',\n",
       " 'DAVID FROEHLICH',\n",
       " 'JULIE ROE',\n",
       " 'KAREN PASSANISI',\n",
       " 'AZHAR KHALIQ',\n",
       " 'FRANKIE SZETO',\n",
       " 'DENNIS SHARP',\n",
       " 'SELETA REYNOLDS',\n",
       " 'ANTHONY LUJAN',\n",
       " 'EARLON ISRAEL',\n",
       " 'LARRY TOJI',\n",
       " 'ADORACION VINZON-SALCEDO',\n",
       " 'DERRICK VENEZIANO',\n",
       " 'SIMON SUEN',\n",
       " 'ELIZABETH COOPER',\n",
       " 'KATHERINE DAVIS',\n",
       " 'SUET YING TSE',\n",
       " 'TRACY DICKSON',\n",
       " 'WILLIAM CAPONERA',\n",
       " 'STEVEN KERNS',\n",
       " 'STEVEN BALL',\n",
       " 'CASSANDRA GRIFFIN',\n",
       " 'MAURICE OCHOA',\n",
       " 'ROBERT MALLOY',\n",
       " 'CANDACE FAN',\n",
       " 'MARY GRACE ROSALES',\n",
       " 'JOHN TERRA',\n",
       " 'MELINA MARKARIAN',\n",
       " 'GINGER WOODS',\n",
       " 'VERONICA DAVILA',\n",
       " 'DONG NGUYEN',\n",
       " 'CHRISTOPHER CHAN',\n",
       " 'JEAN SWEENEY',\n",
       " 'JOHN MONTES',\n",
       " 'JON DEASY',\n",
       " 'JAMES BRASSIL',\n",
       " 'CYNTHIA CARTER',\n",
       " 'JAY MITCHELL-WRIGHT',\n",
       " 'RASHID ANASSE',\n",
       " 'MELCHIOR BAUER',\n",
       " 'JAMES KRACKOW',\n",
       " 'SWEETIE MOALA',\n",
       " 'HANS BAYER',\n",
       " 'EDWARD BASLER',\n",
       " 'WILLIAM MILES II',\n",
       " 'PILAR MERO',\n",
       " 'JAMES FONG',\n",
       " 'TRACY MACK-MONTOYA',\n",
       " 'YOON JUNG KIM',\n",
       " 'ALVIRA WARD',\n",
       " 'PETER YEN',\n",
       " 'HENRY PENAS',\n",
       " 'GERARDO JUAN',\n",
       " 'QUANG LY',\n",
       " 'DAVIDA KAPLER',\n",
       " 'BARON WINGARD',\n",
       " 'MANUELITA ECHEVERRIA',\n",
       " 'DANTE THOMAS',\n",
       " 'ERIC BISHOP',\n",
       " 'CAROLINA MAZARIEGOS',\n",
       " 'FRED ROBINO',\n",
       " 'BRIGITTE KING',\n",
       " 'RENEE NICHOLSON',\n",
       " 'EDDIE VALADEZ',\n",
       " 'KAREN TAYLOR',\n",
       " 'CAROLYN MCGOVERN',\n",
       " 'STEVEN CHIN',\n",
       " 'BEULAH VEALS',\n",
       " 'RONALD ORETA',\n",
       " 'JERAME JAMES BARRION',\n",
       " 'TUAN BANH',\n",
       " 'CONNIE LAU',\n",
       " 'HELEN PINEDA',\n",
       " 'CLARA M Y LAI',\n",
       " 'EDWARD LAU',\n",
       " 'LAUREN SETO',\n",
       " 'CARL KYLE',\n",
       " 'ERIC HILL',\n",
       " 'ANN SANTOS',\n",
       " 'MICHELLE MALICK',\n",
       " 'SUSAN FAHEY',\n",
       " 'DEBORAH CAMPBELL',\n",
       " 'HAROON AHMAD',\n",
       " 'CINDY NGAI',\n",
       " 'LEX AMADO HUAB',\n",
       " 'DONNY PUSAWONG',\n",
       " 'DANIEL CALLUM',\n",
       " 'NICOLE DAVIS',\n",
       " 'CHRISTINE FOUNTAIN',\n",
       " 'LYNNETTE RICHIE',\n",
       " 'BENJAMIN CHANG',\n",
       " 'DAVID CHIN',\n",
       " 'SATURNINO CANO',\n",
       " 'STANLEY CHEUNG',\n",
       " 'JAMES DEMERIN',\n",
       " 'MARK REED',\n",
       " 'CARMELITA DOMINGO',\n",
       " 'THOMAS RO',\n",
       " 'JOHN CLARK',\n",
       " 'ALAN YUAN',\n",
       " 'DEBRA DROOH',\n",
       " 'LILIAN LI',\n",
       " 'FERNANDO RECODER',\n",
       " 'IRVING MOK',\n",
       " 'JAMES BALDOCCHI',\n",
       " 'CAROLYN ADAMS',\n",
       " 'MASON FONG',\n",
       " 'AGNES TRINIDAD',\n",
       " 'TIFFANY LUU',\n",
       " 'LLOYD LANTIN',\n",
       " 'NARCISO MAGLANOC',\n",
       " 'MICHAEL FONG',\n",
       " 'STEFFANIE MALLA',\n",
       " 'NATALIE FUCHS',\n",
       " 'DWENNETTE FLASH',\n",
       " 'IVY WONG',\n",
       " 'JOHNNY NTAGBU',\n",
       " 'SHAHIN SHAIKH',\n",
       " 'AYODELE MITCHELL',\n",
       " 'JOHN MILLER',\n",
       " 'JOE LEUNG',\n",
       " 'MA  GRACE MARTINIANO',\n",
       " 'MYRA GANS',\n",
       " 'MONICA WU',\n",
       " 'SOMAY LOI',\n",
       " 'ALFRED LEE',\n",
       " 'LAURA MARSHALL',\n",
       " 'HECTOR MERO',\n",
       " 'DARYL PITTS',\n",
       " 'SONJA VON COLL',\n",
       " 'ROBERT CASTELLANO',\n",
       " 'MAGDALENE LEE',\n",
       " 'BETH BERLAND',\n",
       " 'EDWARD LABAN',\n",
       " 'EDWARD BARRIENTOS JR',\n",
       " 'AARON DURAN',\n",
       " 'YVETTE ROBLES',\n",
       " 'ROMARR PITCHER',\n",
       " 'JOACHIM MORRIS',\n",
       " 'HERNANDO BETANCUR',\n",
       " 'JONNATHAN RUIZ',\n",
       " 'ROBERT MUNIZ JR',\n",
       " 'DOMINIC VILLANUEVA',\n",
       " 'RACHEL POMERANTZ',\n",
       " 'ADORACION OZARAGA',\n",
       " 'LESLIE WALKER',\n",
       " 'KELLIN DEFIEL',\n",
       " 'IYABODE WILLIAMS',\n",
       " 'RICARDO ARGUELLO',\n",
       " 'LINDA ROBERTSHAW',\n",
       " ...]"
      ]
     },
     "execution_count": 151,
     "metadata": {},
     "output_type": "execute_result"
    }
   ],
   "source": [
    "# YOUR CODE IS HERE\n",
    "\n",
    "employee_names = filtered_employees['EmployeeName'].tolist()\n",
    "employee_names"
   ]
  },
  {
   "cell_type": "markdown",
   "metadata": {
    "id": "PnsdZjnnAd_a"
   },
   "source": [
    "Desired Output:\n",
    "\n",
    "![image.png](https://i.ibb.co/mtNB2TX/assignment1g.png)"
   ]
  },
  {
   "cell_type": "markdown",
   "metadata": {
    "id": "B08a8_05bbEG"
   },
   "source": [
    "<p style=\"text-align: center;\"><img src=\"https://docs.google.com/uc?id=1lY0Uj5R04yMY3-ZppPWxqCr5pvBLYPnV\" class=\"img-fluid\"\n",
    "alt=\"CLRSWY\"></p>\n",
    "\n",
    "## <p style=\"background-color:#FDFEFE; font-family:newtimeroman; color:#9d4f8c; font-size:100%; text-align:center; border-radius:10px 10px;\">WAY TO REINVENT YOURSELF</p>\n",
    "\n",
    "________"
   ]
  }
 ],
 "metadata": {
  "anaconda-cloud": {},
  "colab": {
   "provenance": []
  },
  "kernelspec": {
   "display_name": "Python 3 (ipykernel)",
   "language": "python",
   "name": "python3"
  },
  "language_info": {
   "codemirror_mode": {
    "name": "ipython",
    "version": 3
   },
   "file_extension": ".py",
   "mimetype": "text/x-python",
   "name": "python",
   "nbconvert_exporter": "python",
   "pygments_lexer": "ipython3",
   "version": "3.12.4"
  },
  "toc": {
   "base_numbering": 1,
   "nav_menu": {},
   "number_sections": false,
   "sideBar": true,
   "skip_h1_title": false,
   "title_cell": "Table of Contents",
   "title_sidebar": "Contents",
   "toc_cell": false,
   "toc_position": {},
   "toc_section_display": true,
   "toc_window_display": false
  }
 },
 "nbformat": 4,
 "nbformat_minor": 4
}
